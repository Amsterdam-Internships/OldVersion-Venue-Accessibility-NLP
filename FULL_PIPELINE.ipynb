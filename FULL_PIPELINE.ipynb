{
 "cells": [
  {
   "cell_type": "markdown",
   "id": "8702979d",
   "metadata": {},
   "source": [
    "# FIRST FULL PIPELINE"
   ]
  },
  {
   "cell_type": "markdown",
   "id": "14326cb2",
   "metadata": {},
   "source": [
    "Step 1: Import venue reviews file (OUTPUT: df with venue reviews)\n",
    "\n",
    "Step 2: Sentence Tokenization (OUTPUT: list of sentences)\n",
    "\n",
    "Step 3: Clean + Pre-Process Sentences (OUTPUT: list of cleaned sentences)\n",
    "\n",
    "Step 4: Binary Text Classification (OUTPUT: list of filtered sentences only discussing accesisbility)\n",
    "\n",
    "Step 5: Text Classification (OUTPUT: sentences categorized into class/aspect)\n",
    "\n",
    "Step 6: Summarization (OUTPUT: per class, summary of sentences)"
   ]
  },
  {
   "cell_type": "markdown",
   "id": "d8ceb749",
   "metadata": {},
   "source": [
    "## Import packages"
   ]
  },
  {
   "cell_type": "code",
   "execution_count": 1,
   "id": "d5bad7fe",
   "metadata": {},
   "outputs": [],
   "source": [
    "# General\n",
    "import pandas as pd\n",
    "import numpy as np\n",
    "\n",
    "# Data loading\n",
    "import os\n",
    "import glob\n",
    "\n",
    "# Cleaning and Pre-processing\n",
    "import re\n",
    "\n",
    "import spacy\n",
    "from spacy.language import Language\n",
    "from spacy_langdetect import LanguageDetector\n",
    "\n",
    "# NLTK\n",
    "import nltk\n",
    "from nltk.corpus import stopwords\n",
    "from nltk.stem.porter import PorterStemmer\n",
    "from nltk.stem import WordNetLemmatizer\n",
    "from nltk.tokenize import word_tokenize\n",
    "from nltk.tokenize import sent_tokenize\n",
    "\n",
    "# Spacy\n",
    "import spacy\n",
    "from spacy.language import Language\n",
    "from spacy_langdetect import LanguageDetector\n",
    "\n",
    "# TextBlob\n",
    "from textblob import TextBlob\n",
    "\n",
    "# From pre_processing.py\n",
    "from pre_processing import remove_nan\n",
    "from pre_processing import clean_translation\n",
    "\n",
    "from pre_processing import remove_emoji\n",
    "from pre_processing import clean_string\n",
    "\n",
    "from pre_processing import get_lang_detector\n",
    "from pre_processing import remove_non_ENG\n",
    "\n",
    "from pre_processing import remove_stopwords\n",
    "from pre_processing import lemmatize_string\n",
    "\n",
    "#from pre_processing import sent_tok\n",
    "from pre_processing import word_tok\n",
    "\n",
    "#from pre_processing import rating_to_sent\n",
    "from pre_processing import abs_date"
   ]
  },
  {
   "cell_type": "markdown",
   "id": "1dbfb803",
   "metadata": {},
   "source": [
    "# Load Data"
   ]
  },
  {
   "cell_type": "code",
   "execution_count": 2,
   "id": "19a34f18",
   "metadata": {},
   "outputs": [
    {
     "name": "stdout",
     "output_type": "stream",
     "text": [
      "All_files: 1948\n",
      "File_Count: 1949\n"
     ]
    }
   ],
   "source": [
    "path = \"./Data/GoogleReviews\"\n",
    "all_files = glob.glob(path + \"/*.csv\")\n",
    "\n",
    "# Count number of venues in path\n",
    "file_count = 0\n",
    "dir = path\n",
    "for path in os.listdir(dir):\n",
    "    if os.path.isfile(os.path.join(dir, path)):\n",
    "        file_count += 1\n",
    "\n",
    "print(\"All_files:\", len(all_files))\n",
    "print(\"File_Count:\", file_count)\n",
    "\n",
    "# Create a list with all the data names\n",
    "data_names = []\n",
    "\n",
    "for i in range(file_count):\n",
    "    data_names.append(\"data\"+str(i))\n",
    "\n",
    "# Create empty list\n",
    "dataframes_list = []\n",
    "  \n",
    "# append datasets to the list\n",
    "for i in range(file_count-1):\n",
    "    temp_df = pd.read_csv(all_files[i])\n",
    "    temp_df = temp_df.drop(columns=\"Unnamed: 0\")\n",
    "    dataframes_list.append(temp_df)\n",
    "      \n",
    "# display datasets\n",
    "#for dataset in dataframes_list:\n",
    "#    display(dataset)"
   ]
  },
  {
   "cell_type": "markdown",
   "id": "b086560e",
   "metadata": {},
   "source": [
    "# Cleaning and Pre-processing"
   ]
  },
  {
   "cell_type": "code",
   "execution_count": 3,
   "id": "527e18ea",
   "metadata": {},
   "outputs": [],
   "source": [
    "df0 = dataframes_list[0]\n",
    "df1 = dataframes_list[1]\n",
    "df2 = dataframes_list[2]\n",
    "df3 = dataframes_list[3]\n",
    "df4 = dataframes_list[4]\n",
    "df5 = dataframes_list[5]"
   ]
  },
  {
   "cell_type": "code",
   "execution_count": 4,
   "id": "0778c5d0",
   "metadata": {},
   "outputs": [
    {
     "name": "stdout",
     "output_type": "stream",
     "text": [
      "CPU times: user 15 µs, sys: 3 µs, total: 18 µs\n",
      "Wall time: 21.2 µs\n"
     ]
    }
   ],
   "source": [
    "%%time\n",
    "\n",
    "df_test_list = [df0, df1, df2, df3, df4, df5]\n",
    "\n",
    "def clean_preprocess(df):\n",
    "    # Drop columns we don't need and change names of columns\n",
    "    df = df.drop(columns=\"Review Rate\")\n",
    "    df = df.rename(columns={\"Review Time\": \"Date\", \"Review Text\": \"Text\"})\n",
    "    df[\"Cleaned_Sentence\"] = 0\n",
    "\n",
    "    # Drop NaN\n",
    "    df = remove_nan(df, \"Text\")\n",
    "\n",
    "    # Remove original language and keep translation\n",
    "    df[\"Text\"] = df[\"Text\"].apply(clean_translation)\n",
    "\n",
    "    # Remove emoji's\n",
    "    df[\"Text\"] = df[\"Text\"].apply(remove_emoji)\n",
    "\n",
    "    # Tokenize into sentences\n",
    "    punctuations = '\\.\\!\\?'\n",
    "    df = (df.drop('Text',axis=1).merge(df.Text.str\n",
    "                               .extractall(f'(?P<Sentence>[^{punctuations}]+[{punctuations}])\\s?')\n",
    "                               .reset_index('match'),left_index=True, right_index=True, how='left'))\n",
    "\n",
    "    # Remove NaN\n",
    "    df = remove_nan(df, \"Sentence\")\n",
    "\n",
    "    # Remove non-English sentences\n",
    "    df['Sentence'] = df['Sentence'].apply(remove_non_ENG)\n",
    "\n",
    "    # Remove NaN\n",
    "    df = remove_nan(df, \"Sentence\")\n",
    "\n",
    "    # Clean Sentences\n",
    "    df[\"Cleaned_Sentence\"] = df[\"Sentence\"].apply(clean_string)\n",
    "\n",
    "    # Change Absolute Date to Relative Date\n",
    "    df[\"Date\"] = df[\"Date\"].apply(abs_date)\n",
    "\n",
    "    # Remove Stopwords\n",
    "    df[\"Cleaned_Sentence\"] = df[\"Cleaned_Sentence\"].apply(remove_stopwords)\n",
    "\n",
    "    # Lemmatize\n",
    "    df[\"Cleaned_Sentence\"] = df[\"Cleaned_Sentence\"].apply(lemmatize_string)\n",
    "\n",
    "    df[\"Tokens\"] = df[\"Cleaned_Sentence\"].apply(word_tok)\n",
    "    \n",
    "    return df"
   ]
  },
  {
   "cell_type": "code",
   "execution_count": null,
   "id": "9fde8626",
   "metadata": {},
   "outputs": [],
   "source": [
    "df0 = clean_preprocess(df0)\n",
    "df1 = clean_preprocess(df1)\n",
    "df2 = clean_preprocess(df2)\n",
    "df3 = clean_preprocess(df3)\n",
    "df4 = clean_preprocess(df4)\n",
    "df5 = clean_preprocess(df5)"
   ]
  },
  {
   "cell_type": "markdown",
   "id": "fd3a8ea0",
   "metadata": {},
   "source": [
    "# EDA"
   ]
  },
  {
   "cell_type": "code",
   "execution_count": 474,
   "id": "c137b813",
   "metadata": {},
   "outputs": [],
   "source": [
    "def get_distributions(df):\n",
    "    print(\"Total number of reviews in:\", df.shape[0])\n",
    "    print(\"Class = 0:\", df[df[\"Class\"]==0].shape[0], \"-->\", df[df[\"Class\"]==0].shape[0]/df.shape[0]*100,\"%\")\n",
    "    print(\"Class = 1:\", df[df[\"Class\"]==1].shape[0], \"-->\", df[df[\"Class\"]==1].shape[0]/df.shape[0]*100,\"%\")"
   ]
  },
  {
   "cell_type": "code",
   "execution_count": 475,
   "id": "d2b5c3b7",
   "metadata": {},
   "outputs": [
    {
     "name": "stdout",
     "output_type": "stream",
     "text": [
      "Total number of reviews in: 166\n",
      "Class = 0: 133 --> 80.12048192771084 %\n",
      "Class = 1: 33 --> 19.879518072289155 %\n",
      "Total number of reviews in: 125\n",
      "Class = 0: 124 --> 99.2 %\n",
      "Class = 1: 1 --> 0.8 %\n",
      "Total number of reviews in: 234\n",
      "Class = 0: 190 --> 81.19658119658119 %\n",
      "Class = 1: 44 --> 18.803418803418804 %\n",
      "Total number of reviews in: 109\n",
      "Class = 0: 90 --> 82.56880733944955 %\n",
      "Class = 1: 19 --> 17.431192660550458 %\n",
      "Total number of reviews in: 465\n",
      "Class = 0: 391 --> 84.08602150537634 %\n",
      "Class = 1: 74 --> 15.913978494623656 %\n",
      "Total number of reviews in: 466\n",
      "Class = 0: 368 --> 78.96995708154506 %\n",
      "Class = 1: 98 --> 21.030042918454935 %\n"
     ]
    }
   ],
   "source": [
    "get_distributions(df0)\n",
    "get_distributions(df1)\n",
    "get_distributions(df2)\n",
    "get_distributions(df3)\n",
    "get_distributions(df4)\n",
    "get_distributions(df5)"
   ]
  },
  {
   "cell_type": "code",
   "execution_count": 476,
   "id": "1f7f83a8",
   "metadata": {},
   "outputs": [
    {
     "name": "stdout",
     "output_type": "stream",
     "text": [
      "(166, 8)\n",
      "(125, 8)\n",
      "(234, 8)\n",
      "(109, 8)\n",
      "(465, 8)\n",
      "(466, 8)\n"
     ]
    }
   ],
   "source": [
    "# Shape of the dataset\n",
    "print(df0.shape)\n",
    "print(df1.shape)\n",
    "print(df2.shape)\n",
    "print(df3.shape)\n",
    "print(df4.shape)\n",
    "print(df5.shape)"
   ]
  },
  {
   "cell_type": "markdown",
   "id": "0dd0f7d5",
   "metadata": {},
   "source": [
    "# Binary Classification"
   ]
  },
  {
   "cell_type": "markdown",
   "id": "e78f888e",
   "metadata": {},
   "source": [
    "## Rule-Based Binary Classification (to filter reviews)"
   ]
  },
  {
   "cell_type": "code",
   "execution_count": 6,
   "id": "713a7e09",
   "metadata": {},
   "outputs": [],
   "source": [
    "from binary_classifier import rule_based_classification"
   ]
  },
  {
   "cell_type": "code",
   "execution_count": 384,
   "id": "1cf8bdbb",
   "metadata": {},
   "outputs": [
    {
     "name": "stdout",
     "output_type": "stream",
     "text": [
      "CPU times: user 14.4 ms, sys: 1.87 ms, total: 16.3 ms\n",
      "Wall time: 17.1 ms\n"
     ]
    }
   ],
   "source": [
    "%%time\n",
    "df0[\"Class\"] = df0[\"Cleaned_Sentence\"].apply(rule_based_classification)\n",
    "df1[\"Class\"] = df1[\"Cleaned_Sentence\"].apply(rule_based_classification)\n",
    "df2[\"Class\"] = df2[\"Cleaned_Sentence\"].apply(rule_based_classification)\n",
    "df3[\"Class\"] = df3[\"Cleaned_Sentence\"].apply(rule_based_classification)\n",
    "df4[\"Class\"] = df4[\"Cleaned_Sentence\"].apply(rule_based_classification)\n",
    "df5[\"Class\"] = df5[\"Cleaned_Sentence\"].apply(rule_based_classification)"
   ]
  },
  {
   "cell_type": "code",
   "execution_count": 394,
   "id": "b50266a1",
   "metadata": {},
   "outputs": [
    {
     "data": {
      "text/html": [
       "<div>\n",
       "<style scoped>\n",
       "    .dataframe tbody tr th:only-of-type {\n",
       "        vertical-align: middle;\n",
       "    }\n",
       "\n",
       "    .dataframe tbody tr th {\n",
       "        vertical-align: top;\n",
       "    }\n",
       "\n",
       "    .dataframe thead th {\n",
       "        text-align: right;\n",
       "    }\n",
       "</style>\n",
       "<table border=\"1\" class=\"dataframe\">\n",
       "  <thead>\n",
       "    <tr style=\"text-align: right;\">\n",
       "      <th></th>\n",
       "      <th>index</th>\n",
       "      <th>Name</th>\n",
       "      <th>Date</th>\n",
       "      <th>Cleaned_Sentence</th>\n",
       "      <th>match</th>\n",
       "      <th>Sentence</th>\n",
       "      <th>Tokens</th>\n",
       "      <th>Class</th>\n",
       "    </tr>\n",
       "  </thead>\n",
       "  <tbody>\n",
       "    <tr>\n",
       "      <th>0</th>\n",
       "      <td>0</td>\n",
       "      <td>Ellis</td>\n",
       "      <td>2019</td>\n",
       "      <td>bit quite went let fool ever case</td>\n",
       "      <td>0.0</td>\n",
       "      <td>It was a bit quite when we went in, but don’t ...</td>\n",
       "      <td>[bit, quite, went, let, fool, ever, case]</td>\n",
       "      <td>0</td>\n",
       "    </tr>\n",
       "    <tr>\n",
       "      <th>1</th>\n",
       "      <td>0</td>\n",
       "      <td>Ellis</td>\n",
       "      <td>2019</td>\n",
       "      <td>little place cozily busy</td>\n",
       "      <td>1.0</td>\n",
       "      <td>After a little while the place was cozily busy.</td>\n",
       "      <td>[little, place, cozily, busy]</td>\n",
       "      <td>0</td>\n",
       "    </tr>\n",
       "    <tr>\n",
       "      <th>2</th>\n",
       "      <td>0</td>\n",
       "      <td>Ellis</td>\n",
       "      <td>2019</td>\n",
       "      <td>rightfully</td>\n",
       "      <td>2.0</td>\n",
       "      <td>Rightfully so!</td>\n",
       "      <td>[rightfully]</td>\n",
       "      <td>0</td>\n",
       "    </tr>\n",
       "    <tr>\n",
       "      <th>3</th>\n",
       "      <td>0</td>\n",
       "      <td>Ellis</td>\n",
       "      <td>2019</td>\n",
       "      <td>burger nacho lovely staff</td>\n",
       "      <td>3.0</td>\n",
       "      <td>The burgers (and nachos) were lovely, as was t...</td>\n",
       "      <td>[burger, nacho, lovely, staff]</td>\n",
       "      <td>1</td>\n",
       "    </tr>\n",
       "    <tr>\n",
       "      <th>4</th>\n",
       "      <td>0</td>\n",
       "      <td>Ellis</td>\n",
       "      <td>2019</td>\n",
       "      <td>would definitely recommend place youre around ...</td>\n",
       "      <td>4.0</td>\n",
       "      <td>I would definitely recommend this place if you...</td>\n",
       "      <td>[would, definitely, recommend, place, youre, a...</td>\n",
       "      <td>0</td>\n",
       "    </tr>\n",
       "  </tbody>\n",
       "</table>\n",
       "</div>"
      ],
      "text/plain": [
       "   index   Name  Date                                   Cleaned_Sentence  \\\n",
       "0      0  Ellis  2019                  bit quite went let fool ever case   \n",
       "1      0  Ellis  2019                           little place cozily busy   \n",
       "2      0  Ellis  2019                                         rightfully   \n",
       "3      0  Ellis  2019                          burger nacho lovely staff   \n",
       "4      0  Ellis  2019  would definitely recommend place youre around ...   \n",
       "\n",
       "   match                                           Sentence  \\\n",
       "0    0.0  It was a bit quite when we went in, but don’t ...   \n",
       "1    1.0    After a little while the place was cozily busy.   \n",
       "2    2.0                                     Rightfully so!   \n",
       "3    3.0  The burgers (and nachos) were lovely, as was t...   \n",
       "4    4.0  I would definitely recommend this place if you...   \n",
       "\n",
       "                                              Tokens  Class  \n",
       "0          [bit, quite, went, let, fool, ever, case]      0  \n",
       "1                      [little, place, cozily, busy]      0  \n",
       "2                                       [rightfully]      0  \n",
       "3                     [burger, nacho, lovely, staff]      1  \n",
       "4  [would, definitely, recommend, place, youre, a...      0  "
      ]
     },
     "execution_count": 394,
     "metadata": {},
     "output_type": "execute_result"
    }
   ],
   "source": [
    "# View the dataset\n",
    "# Drop extra index\n",
    "#df0 = df0.drop(columns=\"level_0\")\n",
    "df1 = df1.drop(columns=\"level_0\")\n",
    "df2 = df2.drop(columns=\"level_0\")\n",
    "df3 = df3.drop(columns=\"level_0\")\n",
    "df4 = df4.drop(columns=\"level_0\")\n",
    "df5 = df5.drop(columns=\"level_0\")\n",
    "\n",
    "df0.head(5)"
   ]
  },
  {
   "cell_type": "code",
   "execution_count": 694,
   "id": "e3cd21f0",
   "metadata": {},
   "outputs": [],
   "source": [
    "# Drop match column\n",
    "df0 = df0.drop(columns=\"match\")\n",
    "df1 = df1.drop(columns=\"match\")\n",
    "df2 = df2.drop(columns=\"match\")\n",
    "df3 = df3.drop(columns=\"match\")\n",
    "df4 = df4.drop(columns=\"match\")\n",
    "df5 = df5.drop(columns=\"match\")"
   ]
  },
  {
   "cell_type": "markdown",
   "id": "6d75a412",
   "metadata": {},
   "source": [
    "## Machine Learning Binary Classification (to filter reviews)"
   ]
  },
  {
   "cell_type": "code",
   "execution_count": 369,
   "id": "69d0b7e1",
   "metadata": {},
   "outputs": [],
   "source": [
    "from sklearn.model_selection import train_test_split"
   ]
  },
  {
   "cell_type": "markdown",
   "id": "b5f2056a",
   "metadata": {},
   "source": [
    "### Train and Test split"
   ]
  },
  {
   "cell_type": "code",
   "execution_count": 695,
   "id": "14471c96",
   "metadata": {},
   "outputs": [],
   "source": [
    "def split_data(df):\n",
    "    \n",
    "    # Determine X and y variables\n",
    "    X = df[\"Cleaned_Sentence\"]\n",
    "    y = df[\"Class\"]\n",
    "    \n",
    "    # Split dataset into train and test set\n",
    "    X_train, X_test, y_train, y_test = train_test_split(X, y, test_size=0.10, random_state=42)\n",
    "    \n",
    "    return X_train, X_test, y_train, y_test"
   ]
  },
  {
   "cell_type": "code",
   "execution_count": 696,
   "id": "ea67dc87",
   "metadata": {},
   "outputs": [],
   "source": [
    "from sklearn.model_selection import train_test_split"
   ]
  },
  {
   "cell_type": "code",
   "execution_count": 738,
   "id": "8a36f8b7",
   "metadata": {},
   "outputs": [],
   "source": [
    "# Determine X and y variables\n",
    "X0 = df0[\"Cleaned_Sentence\"]   # Predictor\n",
    "y0 = df0[\"Class\"]              # Target\n",
    "\n",
    "# Split dataset into train and test set\n",
    "X_train0, X_test0, y_train0, y_test0 = train_test_split(X0, y0, test_size=0.10, random_state=42)\n",
    "\n",
    "X1 = df1[\"Cleaned_Sentence\"]   # Predictor\n",
    "y1 = df1[\"Class\"]              # Target\n",
    "\n",
    "# Split dataset into train and test set\n",
    "X_train1, X_test1, y_train1, y_test1 = train_test_split(X1, y1, test_size=0.10, random_state=42)\n",
    "\n",
    "X2 = df2[\"Cleaned_Sentence\"]   # Predictor\n",
    "y2 = df2[\"Class\"]              # Target\n",
    "\n",
    "# Split dataset into train and test set\n",
    "X_train2, X_test2, y_train2, y_tes2t = train_test_split(X2, y2, test_size=0.10, random_state=42)\n",
    "\n",
    "X3 = df3[\"Cleaned_Sentence\"]   # Predictor\n",
    "y3 = df3[\"Class\"]              # Target\n",
    "\n",
    "# Split dataset into train and test set\n",
    "X_train3, X_test3, y_train3, y_test3 = train_test_split(X3, y3, test_size=0.10, random_state=42)\n",
    "\n",
    "X4 = df4[\"Cleaned_Sentence\"]   # Predictor\n",
    "y4 = df4[\"Class\"]              # Target\n",
    "\n",
    "# Split dataset into train and test set\n",
    "X_train4, X_test4, y_train4, y_test4 = train_test_split(X4, y4, test_size=0.10, random_state=42)\n",
    "\n",
    "X5 = df5[\"Cleaned_Sentence\"]   # Predictor\n",
    "y5 = df5[\"Class\"]              # Target\n",
    "\n",
    "# Split dataset into train and test set\n",
    "X_train5, X_test5, y_train5, y_test5 = train_test_split(X5, y5, test_size=0.10, random_state=42)"
   ]
  },
  {
   "cell_type": "code",
   "execution_count": 402,
   "id": "a8922c77",
   "metadata": {},
   "outputs": [],
   "source": [
    "# Check if y_test Class labels are correct\n",
    "#y_test\n",
    "\n",
    "#y_test_ind = [113, 164, 169, 101, 100, 15, 177, 35, 119, 152, 24, 76, 156, 118, 68, 16, 122, 30, 136]\n",
    "#for i in y_test_ind:\n",
    "#    print(i, df1[\"Sentence\"].iloc[i], df1[\"Class\"].iloc[i])\n",
    "\n",
    "# Adjust Class labels manually\n",
    "# Not necessary"
   ]
  },
  {
   "cell_type": "markdown",
   "id": "7f168dda",
   "metadata": {},
   "source": [
    "## Method 1: from sklearn (Multinomial Naive Bayes, Support Vector Machinec)"
   ]
  },
  {
   "cell_type": "markdown",
   "id": "48cbac16",
   "metadata": {},
   "source": [
    "### Extract Features from Text"
   ]
  },
  {
   "cell_type": "code",
   "execution_count": 740,
   "id": "986e4b79",
   "metadata": {},
   "outputs": [
    {
     "data": {
      "text/plain": [
       "(419, 728)"
      ]
     },
     "execution_count": 740,
     "metadata": {},
     "output_type": "execute_result"
    }
   ],
   "source": [
    "from sklearn.feature_extraction.text import CountVectorizer\n",
    "\n",
    "#df5\n",
    "\n",
    "count_vect = CountVectorizer()\n",
    "X_train_counts5 = count_vect.fit_transform(X_train5)\n",
    "X_train_counts5.shape"
   ]
  },
  {
   "cell_type": "code",
   "execution_count": 741,
   "id": "96dd0e40",
   "metadata": {},
   "outputs": [],
   "source": [
    "count_vect.vocabulary_.get(u'algorithm')"
   ]
  },
  {
   "cell_type": "code",
   "execution_count": 742,
   "id": "2f7b8c91",
   "metadata": {},
   "outputs": [
    {
     "data": {
      "text/plain": [
       "(419, 728)"
      ]
     },
     "execution_count": 742,
     "metadata": {},
     "output_type": "execute_result"
    }
   ],
   "source": [
    "from sklearn.feature_extraction.text import TfidfTransformer\n",
    "\n",
    "tf_transformer = TfidfTransformer(use_idf=False).fit(X_train_counts5)\n",
    "X_train_tf5 = tf_transformer.transform(X_train_counts5)\n",
    "X_train_tf5.shape"
   ]
  },
  {
   "cell_type": "code",
   "execution_count": 743,
   "id": "9ed4c7d5",
   "metadata": {},
   "outputs": [
    {
     "data": {
      "text/plain": [
       "(419, 728)"
      ]
     },
     "execution_count": 743,
     "metadata": {},
     "output_type": "execute_result"
    }
   ],
   "source": [
    "tfidf_transformer = TfidfTransformer()\n",
    "X_train_tfidf5 = tfidf_transformer.fit_transform(X_train_counts5)\n",
    "X_train_tfidf5.shape"
   ]
  },
  {
   "cell_type": "markdown",
   "id": "827d9b5a",
   "metadata": {},
   "source": [
    "### Training Classifiers"
   ]
  },
  {
   "cell_type": "code",
   "execution_count": 744,
   "id": "434b4cab",
   "metadata": {},
   "outputs": [
    {
     "name": "stdout",
     "output_type": "stream",
     "text": [
      "'The staff is friendly.' => 1\n",
      "'The toilet is not accessible.' => 0\n",
      "'The entrance has a ramp.' => 0\n",
      "'The food is delicious.' => 0\n",
      "'The toilet is downstairs.' => 0\n"
     ]
    }
   ],
   "source": [
    "# MULTINOMIAL NAIVE BAYES: df5\n",
    "\n",
    "from sklearn.naive_bayes import MultinomialNB\n",
    "\n",
    "clf = MultinomialNB().fit(X_train_tfidf5, y_train5)\n",
    "\n",
    "docs_new = ['The staff is friendly.', 'The toilet is not accessible.',\n",
    "            'The entrance has a ramp.', 'The food is delicious.',\n",
    "            'The toilet is downstairs.']\n",
    "X_new_counts5 = count_vect.transform(docs_new)\n",
    "X_new_tfidf5 = tfidf_transformer.transform(X_new_counts5)\n",
    "\n",
    "predicted = clf.predict(X_new_tfidf5)\n",
    "\n",
    "for doc, category in zip(docs_new, predicted):\n",
    "    print('%r => %s' % (doc, category))"
   ]
  },
  {
   "cell_type": "markdown",
   "id": "38b62b18",
   "metadata": {},
   "source": [
    "### Building Pipeline"
   ]
  },
  {
   "cell_type": "code",
   "execution_count": 749,
   "id": "c0a1c215",
   "metadata": {},
   "outputs": [
    {
     "data": {
      "text/plain": [
       "0.851063829787234"
      ]
     },
     "execution_count": 749,
     "metadata": {},
     "output_type": "execute_result"
    }
   ],
   "source": [
    "# MULTINOMIAL NAIVE BAYES\n",
    "\n",
    "from sklearn.pipeline import Pipeline\n",
    "text_clf = Pipeline([\n",
    "     ('vect', CountVectorizer()),\n",
    "     ('tfidf', TfidfTransformer()),\n",
    "     ('clf', MultinomialNB()) ])\n",
    "\n",
    "text_clf.fit(X_train5, y_train5)\n",
    "\n",
    "# Eval\n",
    "docs_test = X_test5\n",
    "predicted = text_clf.predict(docs_test)\n",
    "np.mean(predicted == y_test5)"
   ]
  },
  {
   "cell_type": "code",
   "execution_count": 746,
   "id": "c5dac78f",
   "metadata": {},
   "outputs": [
    {
     "data": {
      "text/plain": [
       "0.9787234042553191"
      ]
     },
     "execution_count": 746,
     "metadata": {},
     "output_type": "execute_result"
    }
   ],
   "source": [
    "# SUPPOR VECTOR MACHINES \n",
    "\n",
    "# We can change the learner by simply plugging a different classifier object into our pipeline\n",
    "from sklearn.linear_model import SGDClassifier\n",
    "text_clf = Pipeline([\n",
    "     ('vect', CountVectorizer()),\n",
    "     ('tfidf', TfidfTransformer()),\n",
    "     ('clf', SGDClassifier(loss='hinge', penalty='l2',\n",
    "                           alpha=1e-3, random_state=42,\n",
    "                           max_iter=5, tol=None)) ])\n",
    "\n",
    "text_clf.fit(X_train5, y_train5)\n",
    "\n",
    "# Eval\n",
    "docs_test = X_test5\n",
    "predicted = text_clf.predict(docs_test)\n",
    "np.mean(predicted == y_test5)"
   ]
  },
  {
   "cell_type": "code",
   "execution_count": 750,
   "id": "42506c24",
   "metadata": {},
   "outputs": [
    {
     "name": "stdout",
     "output_type": "stream",
     "text": [
      "              precision    recall  f1-score   support\n",
      "\n",
      "           0       0.83      1.00      0.91        35\n",
      "           1       1.00      0.42      0.59        12\n",
      "\n",
      "    accuracy                           0.85        47\n",
      "   macro avg       0.92      0.71      0.75        47\n",
      "weighted avg       0.88      0.85      0.83        47\n",
      "\n"
     ]
    }
   ],
   "source": [
    "# More detailed performance analysis of the results\n",
    "from sklearn import metrics\n",
    "print(metrics.classification_report(y_test5, predicted))"
   ]
  },
  {
   "cell_type": "markdown",
   "id": "2bd79e3d",
   "metadata": {},
   "source": [
    "## Method 2: from Medium (SVM and Naive Bayes)"
   ]
  },
  {
   "cell_type": "code",
   "execution_count": 751,
   "id": "002c046a",
   "metadata": {},
   "outputs": [],
   "source": [
    "import pandas as pd\n",
    "import numpy as np\n",
    "from nltk.tokenize import word_tokenize\n",
    "from nltk import pos_tag\n",
    "from nltk.corpus import stopwords\n",
    "from nltk.stem import WordNetLemmatizer\n",
    "from sklearn.preprocessing import LabelEncoder\n",
    "from collections import defaultdict\n",
    "from nltk.corpus import wordnet as wn\n",
    "from sklearn.feature_extraction.text import TfidfVectorizer\n",
    "from sklearn import model_selection, naive_bayes, svm\n",
    "from sklearn.metrics import accuracy_score"
   ]
  },
  {
   "cell_type": "markdown",
   "id": "fb8b46cd",
   "metadata": {},
   "source": [
    "### Extra pre-process"
   ]
  },
  {
   "cell_type": "code",
   "execution_count": 752,
   "id": "9afc5d9b",
   "metadata": {},
   "outputs": [],
   "source": [
    "# WordNetLemmatizer requires Pos tags to understand if the word is noun or verb or adjective etc. By default it is set to Noun\n",
    "tag_map = defaultdict(lambda : wn.NOUN)\n",
    "tag_map['J'] = wn.ADJ\n",
    "tag_map['V'] = wn.VERB\n",
    "tag_map['R'] = wn.ADV\n",
    "for index,entry in enumerate(df5['Tokens']):\n",
    "    # Declaring Empty List to store the words that follow the rules for this step\n",
    "    Final_words = []\n",
    "    # Initializing WordNetLemmatizer()\n",
    "    word_Lemmatized = WordNetLemmatizer()\n",
    "    # pos_tag function below will provide the 'tag' i.e if the word is Noun(N) or Verb(V) or something else.\n",
    "    for word, tag in pos_tag(entry):\n",
    "        # Below condition is to check for Stop words and consider only alphabets\n",
    "        if word not in stopwords.words('english') and word.isalpha():\n",
    "            word_Final = word_Lemmatized.lemmatize(word,tag_map[tag[0]])\n",
    "            Final_words.append(word_Final)\n",
    "    # The final processed set of words for each iteration will be stored in 'text_final'\n",
    "    df5.loc[index,'text_final'] = str(Final_words)"
   ]
  },
  {
   "cell_type": "code",
   "execution_count": 753,
   "id": "b699c314",
   "metadata": {},
   "outputs": [
    {
     "data": {
      "text/html": [
       "<div>\n",
       "<style scoped>\n",
       "    .dataframe tbody tr th:only-of-type {\n",
       "        vertical-align: middle;\n",
       "    }\n",
       "\n",
       "    .dataframe tbody tr th {\n",
       "        vertical-align: top;\n",
       "    }\n",
       "\n",
       "    .dataframe thead th {\n",
       "        text-align: right;\n",
       "    }\n",
       "</style>\n",
       "<table border=\"1\" class=\"dataframe\">\n",
       "  <thead>\n",
       "    <tr style=\"text-align: right;\">\n",
       "      <th></th>\n",
       "      <th>index</th>\n",
       "      <th>Name</th>\n",
       "      <th>Date</th>\n",
       "      <th>Cleaned_Sentence</th>\n",
       "      <th>Sentence</th>\n",
       "      <th>Tokens</th>\n",
       "      <th>Class</th>\n",
       "      <th>text_final</th>\n",
       "      <th>label</th>\n",
       "    </tr>\n",
       "  </thead>\n",
       "  <tbody>\n",
       "    <tr>\n",
       "      <th>0</th>\n",
       "      <td>0</td>\n",
       "      <td>Firma Pekelharing</td>\n",
       "      <td>2022</td>\n",
       "      <td>absolutely top restaurant special fantastic dish</td>\n",
       "      <td>An absolutely top restaurant with special and ...</td>\n",
       "      <td>[absolutely, top, restaurant, special, fantast...</td>\n",
       "      <td>0</td>\n",
       "      <td>['absolutely', 'top', 'restaurant', 'special',...</td>\n",
       "      <td>Label 0</td>\n",
       "    </tr>\n",
       "    <tr>\n",
       "      <th>1</th>\n",
       "      <td>0</td>\n",
       "      <td>Firma Pekelharing</td>\n",
       "      <td>2022</td>\n",
       "      <td>lovely vibe good friendly staff</td>\n",
       "      <td>Lovely vibe and very good and friendly staff.</td>\n",
       "      <td>[lovely, vibe, good, friendly, staff]</td>\n",
       "      <td>1</td>\n",
       "      <td>['lovely', 'vibe', 'good', 'friendly', 'staff']</td>\n",
       "      <td>Label 1</td>\n",
       "    </tr>\n",
       "    <tr>\n",
       "      <th>2</th>\n",
       "      <td>0</td>\n",
       "      <td>Firma Pekelharing</td>\n",
       "      <td>2022</td>\n",
       "      <td>place go amsterdam</td>\n",
       "      <td>The place to go in Amsterdam.</td>\n",
       "      <td>[place, go, amsterdam]</td>\n",
       "      <td>0</td>\n",
       "      <td>['place', 'go', 'amsterdam']</td>\n",
       "      <td>Label 0</td>\n",
       "    </tr>\n",
       "    <tr>\n",
       "      <th>3</th>\n",
       "      <td>1</td>\n",
       "      <td>Firma Pekelharing</td>\n",
       "      <td>2021</td>\n",
       "      <td>great place try everything order dish wine enjoy</td>\n",
       "      <td>Great place to try everything, order all the d...</td>\n",
       "      <td>[great, place, try, everything, order, dish, w...</td>\n",
       "      <td>0</td>\n",
       "      <td>['great', 'place', 'try', 'everything', 'order...</td>\n",
       "      <td>Label 0</td>\n",
       "    </tr>\n",
       "    <tr>\n",
       "      <th>4</th>\n",
       "      <td>2</td>\n",
       "      <td>Firma Pekelharing</td>\n",
       "      <td>2019</td>\n",
       "      <td>favourite restaurant neighborhood moment</td>\n",
       "      <td>My favourite restaurant in the neighborhood at...</td>\n",
       "      <td>[favourite, restaurant, neighborhood, moment]</td>\n",
       "      <td>0</td>\n",
       "      <td>['favourite', 'restaurant', 'neighborhood', 'm...</td>\n",
       "      <td>Label 0</td>\n",
       "    </tr>\n",
       "  </tbody>\n",
       "</table>\n",
       "</div>"
      ],
      "text/plain": [
       "   index               Name  Date  \\\n",
       "0      0  Firma Pekelharing  2022   \n",
       "1      0  Firma Pekelharing  2022   \n",
       "2      0  Firma Pekelharing  2022   \n",
       "3      1  Firma Pekelharing  2021   \n",
       "4      2  Firma Pekelharing  2019   \n",
       "\n",
       "                                   Cleaned_Sentence  \\\n",
       "0  absolutely top restaurant special fantastic dish   \n",
       "1                   lovely vibe good friendly staff   \n",
       "2                                place go amsterdam   \n",
       "3  great place try everything order dish wine enjoy   \n",
       "4          favourite restaurant neighborhood moment   \n",
       "\n",
       "                                            Sentence  \\\n",
       "0  An absolutely top restaurant with special and ...   \n",
       "1      Lovely vibe and very good and friendly staff.   \n",
       "2                      The place to go in Amsterdam.   \n",
       "3  Great place to try everything, order all the d...   \n",
       "4  My favourite restaurant in the neighborhood at...   \n",
       "\n",
       "                                              Tokens  Class  \\\n",
       "0  [absolutely, top, restaurant, special, fantast...      0   \n",
       "1              [lovely, vibe, good, friendly, staff]      1   \n",
       "2                             [place, go, amsterdam]      0   \n",
       "3  [great, place, try, everything, order, dish, w...      0   \n",
       "4      [favourite, restaurant, neighborhood, moment]      0   \n",
       "\n",
       "                                          text_final    label  \n",
       "0  ['absolutely', 'top', 'restaurant', 'special',...  Label 0  \n",
       "1    ['lovely', 'vibe', 'good', 'friendly', 'staff']  Label 1  \n",
       "2                       ['place', 'go', 'amsterdam']  Label 0  \n",
       "3  ['great', 'place', 'try', 'everything', 'order...  Label 0  \n",
       "4  ['favourite', 'restaurant', 'neighborhood', 'm...  Label 0  "
      ]
     },
     "execution_count": 753,
     "metadata": {},
     "output_type": "execute_result"
    }
   ],
   "source": [
    "labels=[]\n",
    "for c in df5[\"Class\"]:\n",
    "    if c == 1:\n",
    "        labels.append(\"Label 1\")\n",
    "    else:\n",
    "        labels.append(\"Label 0\")\n",
    "df5['label'] = labels\n",
    "df5.head()    "
   ]
  },
  {
   "cell_type": "code",
   "execution_count": 758,
   "id": "08231a2c",
   "metadata": {},
   "outputs": [],
   "source": [
    "Train_X, Test_X, Train_Y, Test_Y = model_selection.train_test_split(df5['text_final'],df5['label'],test_size=0.3)"
   ]
  },
  {
   "cell_type": "code",
   "execution_count": 755,
   "id": "afde8072",
   "metadata": {},
   "outputs": [
    {
     "data": {
      "text/plain": [
       "355    Label 0\n",
       "389    Label 0\n",
       "451    Label 0\n",
       "127    Label 0\n",
       "121    Label 0\n",
       "        ...   \n",
       "332    Label 0\n",
       "51     Label 0\n",
       "90     Label 0\n",
       "221    Label 0\n",
       "370    Label 0\n",
       "Name: label, Length: 140, dtype: object"
      ]
     },
     "execution_count": 755,
     "metadata": {},
     "output_type": "execute_result"
    }
   ],
   "source": [
    "Test_Y"
   ]
  },
  {
   "cell_type": "markdown",
   "id": "51ece132",
   "metadata": {},
   "source": [
    "### Encoding"
   ]
  },
  {
   "cell_type": "code",
   "execution_count": 759,
   "id": "e617d04e",
   "metadata": {},
   "outputs": [],
   "source": [
    "Encoder = LabelEncoder()\n",
    "Train_Y = Encoder.fit_transform(Train_Y)\n",
    "Test_Y = Encoder.fit_transform(Test_Y)"
   ]
  },
  {
   "cell_type": "markdown",
   "id": "f6a0424c",
   "metadata": {},
   "source": [
    "### Word Vectorization"
   ]
  },
  {
   "cell_type": "code",
   "execution_count": 760,
   "id": "7b82f774",
   "metadata": {},
   "outputs": [],
   "source": [
    "Tfidf_vect = TfidfVectorizer(max_features=5000)\n",
    "Tfidf_vect.fit(df5['text_final'])\n",
    "Train_X_Tfidf = Tfidf_vect.transform(Train_X)\n",
    "Test_X_Tfidf = Tfidf_vect.transform(Test_X)"
   ]
  },
  {
   "cell_type": "code",
   "execution_count": 714,
   "id": "cd4c5799",
   "metadata": {},
   "outputs": [],
   "source": [
    "#print(Tfidf_vect.vocabulary_)"
   ]
  },
  {
   "cell_type": "code",
   "execution_count": 715,
   "id": "27c31e17",
   "metadata": {},
   "outputs": [],
   "source": [
    "#print(Train_X_Tfidf)"
   ]
  },
  {
   "cell_type": "markdown",
   "id": "a15681e9",
   "metadata": {},
   "source": [
    "### Naive Bayes"
   ]
  },
  {
   "cell_type": "code",
   "execution_count": 761,
   "id": "ff9f95ca",
   "metadata": {},
   "outputs": [
    {
     "name": "stdout",
     "output_type": "stream",
     "text": [
      "Naive Bayes Accuracy Score ->  84.28571428571429\n"
     ]
    }
   ],
   "source": [
    "# fit the training dataset on the NB classifier\n",
    "Naive = naive_bayes.MultinomialNB()\n",
    "Naive.fit(Train_X_Tfidf,Train_Y)\n",
    "# predict the labels on validation dataset\n",
    "predictions_NB = Naive.predict(Test_X_Tfidf)\n",
    "# Use accuracy_score function to get the accuracy\n",
    "print(\"Naive Bayes Accuracy Score -> \",accuracy_score(predictions_NB, Test_Y)*100)"
   ]
  },
  {
   "cell_type": "markdown",
   "id": "9ac65c9e",
   "metadata": {},
   "source": [
    "### Support Vector Machines"
   ]
  },
  {
   "cell_type": "code",
   "execution_count": 764,
   "id": "5f7ff399",
   "metadata": {},
   "outputs": [
    {
     "name": "stdout",
     "output_type": "stream",
     "text": [
      "SVM Accuracy Score ->  95.71428571428572\n"
     ]
    }
   ],
   "source": [
    "# Classifier - Algorithm - SVM\n",
    "# fit the training dataset on the classifier\n",
    "SVM = svm.SVC(C=1.0, kernel='linear', degree=3, gamma='auto')\n",
    "SVM.fit(Train_X_Tfidf,Train_Y)\n",
    "# predict the labels on validation dataset\n",
    "predictions_SVM = SVM.predict(Test_X_Tfidf)\n",
    "# Use accuracy_score function to get the accuracy\n",
    "print(\"SVM Accuracy Score -> \",accuracy_score(predictions_SVM, Test_Y)*100)"
   ]
  },
  {
   "cell_type": "markdown",
   "id": "5b58f67a",
   "metadata": {},
   "source": [
    "## Re-Sampling Reviews"
   ]
  },
  {
   "cell_type": "code",
   "execution_count": 731,
   "id": "bb87b0ce",
   "metadata": {},
   "outputs": [],
   "source": [
    "import imblearn\n",
    "from imblearn.under_sampling import RandomUnderSampler\n",
    "from imblearn.over_sampling import RandomOverSampler \n",
    "\n",
    "from collections import Counter"
   ]
  },
  {
   "cell_type": "markdown",
   "id": "61d8f5d8",
   "metadata": {},
   "source": [
    "### Undersampling"
   ]
  },
  {
   "cell_type": "code",
   "execution_count": 727,
   "id": "8408c961",
   "metadata": {},
   "outputs": [],
   "source": [
    "def undersample(df):\n",
    "    X = df\n",
    "    y = df[\"Class\"]\n",
    "    \n",
    "    # define the undersampling method\n",
    "    us = RandomUnderSampler(sampling_strategy='majority')\n",
    "\n",
    "    # define undersample strategy\n",
    "    us = RandomUnderSampler(sampling_strategy=0.95)\n",
    "\n",
    "    # summarize the new class distribution\n",
    "    print('Original dataset shape %s' % Counter(y))\n",
    "\n",
    "    # fit and apply the transform\n",
    "    X_under, y_under = us.fit_resample(X, y)\n",
    "    print('Resampled dataset shape %s' % Counter(y_under))\n",
    "    \n",
    "    return X_under, y_under"
   ]
  },
  {
   "cell_type": "code",
   "execution_count": 765,
   "id": "7813d395",
   "metadata": {
    "scrolled": true
   },
   "outputs": [
    {
     "name": "stdout",
     "output_type": "stream",
     "text": [
      "Original dataset shape Counter({0: 133, 1: 33})\n",
      "Resampled dataset shape Counter({0: 34, 1: 33})\n",
      "Original dataset shape Counter({0: 124, 1: 1})\n",
      "Resampled dataset shape Counter({0: 1, 1: 1})\n",
      "Original dataset shape Counter({0: 190, 1: 44})\n",
      "Resampled dataset shape Counter({0: 46, 1: 44})\n",
      "Original dataset shape Counter({0: 90, 1: 19})\n",
      "Resampled dataset shape Counter({0: 20, 1: 19})\n",
      "Original dataset shape Counter({0: 391, 1: 74})\n",
      "Resampled dataset shape Counter({0: 77, 1: 74})\n",
      "Original dataset shape Counter({0: 368, 1: 98})\n",
      "Resampled dataset shape Counter({0: 103, 1: 98})\n"
     ]
    }
   ],
   "source": [
    "X_under0, y_under0 = undersample(df0)\n",
    "X_under1, y_under1 = undersample(df1)\n",
    "X_under2, y_under2 = undersample(df2)\n",
    "X_under3, y_under3 = undersample(df3)\n",
    "X_under4, y_under4 = undersample(df4)\n",
    "X_under5, y_under5 = undersample(df5)"
   ]
  },
  {
   "cell_type": "markdown",
   "id": "97f1c2f2",
   "metadata": {},
   "source": [
    "### Oversampling"
   ]
  },
  {
   "cell_type": "code",
   "execution_count": 732,
   "id": "1c53e42b",
   "metadata": {},
   "outputs": [],
   "source": [
    "def oversample(df):\n",
    "    X = df\n",
    "    y = df[\"Class\"]\n",
    "    \n",
    "    # define the undersampling method\n",
    "    os = RandomOverSampler(sampling_strategy='majority')\n",
    "\n",
    "    # define undersample strategy\n",
    "    os = RandomOverSampler(sampling_strategy=0.95)\n",
    "\n",
    "    # summarize the new class distribution\n",
    "    print('Original dataset shape %s' % Counter(y))\n",
    "\n",
    "    # fit and apply the transform\n",
    "    X_over, y_over = os.fit_resample(X, y)\n",
    "    print('Resampled dataset shape %s' % Counter(y_over))\n",
    "    \n",
    "    return X_over, y_over"
   ]
  },
  {
   "cell_type": "code",
   "execution_count": 733,
   "id": "17508de4",
   "metadata": {},
   "outputs": [
    {
     "name": "stdout",
     "output_type": "stream",
     "text": [
      "Original dataset shape Counter({0: 133, 1: 33})\n",
      "Resampled dataset shape Counter({0: 133, 1: 126})\n",
      "Original dataset shape Counter({0: 124, 1: 1})\n",
      "Resampled dataset shape Counter({0: 124, 1: 117})\n",
      "Original dataset shape Counter({0: 190, 1: 44})\n",
      "Resampled dataset shape Counter({0: 190, 1: 180})\n",
      "Original dataset shape Counter({0: 90, 1: 19})\n",
      "Resampled dataset shape Counter({0: 90, 1: 85})\n",
      "Original dataset shape Counter({0: 391, 1: 74})\n",
      "Resampled dataset shape Counter({0: 391, 1: 371})\n",
      "Original dataset shape Counter({0: 368, 1: 98})\n",
      "Resampled dataset shape Counter({0: 368, 1: 349})\n"
     ]
    }
   ],
   "source": [
    "X_over0, y_over0 = oversample(df0)\n",
    "X_over1, y_over1 = oversample(df1)\n",
    "X_over2, y_over2 = oversample(df2)\n",
    "X_over3, y_over3 = oversample(df3)\n",
    "X_over4, y_over4 = oversample(df4)\n",
    "X_over5, y_over5 = oversample(df5)"
   ]
  },
  {
   "cell_type": "markdown",
   "id": "f8d5747f",
   "metadata": {},
   "source": [
    "### Data Augmentation"
   ]
  },
  {
   "cell_type": "markdown",
   "id": "9dcc68ad",
   "metadata": {},
   "source": [
    "For text, data augmentation can be done by tokenizing document into a sentence, shuffling and rejoining them to generate new texts, or replacing adjectives, verbs etc by its a synonym to generate different text with the same meaning. Any pre-trained word embedding or NLTK’s wordnet can be used to find the synonym of a word."
   ]
  },
  {
   "cell_type": "code",
   "execution_count": 810,
   "id": "7f51649d",
   "metadata": {},
   "outputs": [
    {
     "data": {
      "text/html": [
       "<div>\n",
       "<style scoped>\n",
       "    .dataframe tbody tr th:only-of-type {\n",
       "        vertical-align: middle;\n",
       "    }\n",
       "\n",
       "    .dataframe tbody tr th {\n",
       "        vertical-align: top;\n",
       "    }\n",
       "\n",
       "    .dataframe thead th {\n",
       "        text-align: right;\n",
       "    }\n",
       "</style>\n",
       "<table border=\"1\" class=\"dataframe\">\n",
       "  <thead>\n",
       "    <tr style=\"text-align: right;\">\n",
       "      <th></th>\n",
       "      <th>index</th>\n",
       "      <th>Name</th>\n",
       "      <th>Date</th>\n",
       "      <th>Cleaned_Sentence</th>\n",
       "      <th>Sentence</th>\n",
       "      <th>Tokens</th>\n",
       "      <th>Class</th>\n",
       "      <th>text_final</th>\n",
       "      <th>label</th>\n",
       "    </tr>\n",
       "  </thead>\n",
       "  <tbody>\n",
       "    <tr>\n",
       "      <th>0</th>\n",
       "      <td>0</td>\n",
       "      <td>Firma Pekelharing</td>\n",
       "      <td>2022</td>\n",
       "      <td>absolutely top restaurant special fantastic dish</td>\n",
       "      <td>An absolutely top restaurant with special and ...</td>\n",
       "      <td>[fantastic, dish, special, top, restaurant, ab...</td>\n",
       "      <td>0</td>\n",
       "      <td>['absolutely', 'top', 'restaurant', 'special',...</td>\n",
       "      <td>Label 0</td>\n",
       "    </tr>\n",
       "    <tr>\n",
       "      <th>1</th>\n",
       "      <td>0</td>\n",
       "      <td>Firma Pekelharing</td>\n",
       "      <td>2022</td>\n",
       "      <td>lovely vibe good friendly staff</td>\n",
       "      <td>Lovely vibe and very good and friendly staff.</td>\n",
       "      <td>[good, staff, friendly, vibe, lovely]</td>\n",
       "      <td>1</td>\n",
       "      <td>['lovely', 'vibe', 'good', 'friendly', 'staff']</td>\n",
       "      <td>Label 1</td>\n",
       "    </tr>\n",
       "    <tr>\n",
       "      <th>2</th>\n",
       "      <td>0</td>\n",
       "      <td>Firma Pekelharing</td>\n",
       "      <td>2022</td>\n",
       "      <td>place go amsterdam</td>\n",
       "      <td>The place to go in Amsterdam.</td>\n",
       "      <td>[place, go, amsterdam]</td>\n",
       "      <td>0</td>\n",
       "      <td>['place', 'go', 'amsterdam']</td>\n",
       "      <td>Label 0</td>\n",
       "    </tr>\n",
       "  </tbody>\n",
       "</table>\n",
       "</div>"
      ],
      "text/plain": [
       "   index               Name  Date  \\\n",
       "0      0  Firma Pekelharing  2022   \n",
       "1      0  Firma Pekelharing  2022   \n",
       "2      0  Firma Pekelharing  2022   \n",
       "\n",
       "                                   Cleaned_Sentence  \\\n",
       "0  absolutely top restaurant special fantastic dish   \n",
       "1                   lovely vibe good friendly staff   \n",
       "2                                place go amsterdam   \n",
       "\n",
       "                                            Sentence  \\\n",
       "0  An absolutely top restaurant with special and ...   \n",
       "1      Lovely vibe and very good and friendly staff.   \n",
       "2                      The place to go in Amsterdam.   \n",
       "\n",
       "                                              Tokens  Class  \\\n",
       "0  [fantastic, dish, special, top, restaurant, ab...      0   \n",
       "1              [good, staff, friendly, vibe, lovely]      1   \n",
       "2                             [place, go, amsterdam]      0   \n",
       "\n",
       "                                          text_final    label  \n",
       "0  ['absolutely', 'top', 'restaurant', 'special',...  Label 0  \n",
       "1    ['lovely', 'vibe', 'good', 'friendly', 'staff']  Label 1  \n",
       "2                       ['place', 'go', 'amsterdam']  Label 0  "
      ]
     },
     "execution_count": 810,
     "metadata": {},
     "output_type": "execute_result"
    }
   ],
   "source": [
    "df5.head(3)"
   ]
  },
  {
   "cell_type": "code",
   "execution_count": 829,
   "id": "5708ab07",
   "metadata": {},
   "outputs": [
    {
     "data": {
      "text/html": [
       "<div>\n",
       "<style scoped>\n",
       "    .dataframe tbody tr th:only-of-type {\n",
       "        vertical-align: middle;\n",
       "    }\n",
       "\n",
       "    .dataframe tbody tr th {\n",
       "        vertical-align: top;\n",
       "    }\n",
       "\n",
       "    .dataframe thead th {\n",
       "        text-align: right;\n",
       "    }\n",
       "</style>\n",
       "<table border=\"1\" class=\"dataframe\">\n",
       "  <thead>\n",
       "    <tr style=\"text-align: right;\">\n",
       "      <th></th>\n",
       "      <th>Name</th>\n",
       "      <th>Cleaned_Sentence</th>\n",
       "      <th>Tokens</th>\n",
       "      <th>Class</th>\n",
       "    </tr>\n",
       "  </thead>\n",
       "  <tbody>\n",
       "    <tr>\n",
       "      <th>1</th>\n",
       "      <td>Firma Pekelharing</td>\n",
       "      <td>lovely vibe good friendly staff</td>\n",
       "      <td>[lovely, friendly, vibe, staff, good]</td>\n",
       "      <td>1</td>\n",
       "    </tr>\n",
       "    <tr>\n",
       "      <th>5</th>\n",
       "      <td>Firma Pekelharing</td>\n",
       "      <td>delicious food friendly staff</td>\n",
       "      <td>[delicious, food, friendly, staff]</td>\n",
       "      <td>1</td>\n",
       "    </tr>\n",
       "    <tr>\n",
       "      <th>7</th>\n",
       "      <td>Firma Pekelharing</td>\n",
       "      <td>friendly sightly cheeky staff</td>\n",
       "      <td>[sightly, cheeky, staff, friendly]</td>\n",
       "      <td>1</td>\n",
       "    </tr>\n",
       "    <tr>\n",
       "      <th>8</th>\n",
       "      <td>Firma Pekelharing</td>\n",
       "      <td>restaurant nice atmosphere good service</td>\n",
       "      <td>[good, service, nice, atmosphere, restaurant]</td>\n",
       "      <td>1</td>\n",
       "    </tr>\n",
       "    <tr>\n",
       "      <th>9</th>\n",
       "      <td>Firma Pekelharing</td>\n",
       "      <td>waiter always available explained whole menu</td>\n",
       "      <td>[explained, menu, available, waiter, always, w...</td>\n",
       "      <td>1</td>\n",
       "    </tr>\n",
       "    <tr>\n",
       "      <th>...</th>\n",
       "      <td>...</td>\n",
       "      <td>...</td>\n",
       "      <td>...</td>\n",
       "      <td>...</td>\n",
       "    </tr>\n",
       "    <tr>\n",
       "      <th>443</th>\n",
       "      <td>Firma Pekelharing</td>\n",
       "      <td>pleasant service</td>\n",
       "      <td>[pleasant, service]</td>\n",
       "      <td>1</td>\n",
       "    </tr>\n",
       "    <tr>\n",
       "      <th>444</th>\n",
       "      <td>Firma Pekelharing</td>\n",
       "      <td>great food super nice service</td>\n",
       "      <td>[great, food, service, nice, super]</td>\n",
       "      <td>1</td>\n",
       "    </tr>\n",
       "    <tr>\n",
       "      <th>446</th>\n",
       "      <td>Firma Pekelharing</td>\n",
       "      <td>great food good service</td>\n",
       "      <td>[good, food, great, service]</td>\n",
       "      <td>1</td>\n",
       "    </tr>\n",
       "    <tr>\n",
       "      <th>449</th>\n",
       "      <td>Firma Pekelharing</td>\n",
       "      <td>good food nice service</td>\n",
       "      <td>[service, good, nice, food]</td>\n",
       "      <td>1</td>\n",
       "    </tr>\n",
       "    <tr>\n",
       "      <th>450</th>\n",
       "      <td>Firma Pekelharing</td>\n",
       "      <td>good cuisine good service</td>\n",
       "      <td>[cuisine, service, good, good]</td>\n",
       "      <td>1</td>\n",
       "    </tr>\n",
       "  </tbody>\n",
       "</table>\n",
       "<p>98 rows × 4 columns</p>\n",
       "</div>"
      ],
      "text/plain": [
       "                  Name                              Cleaned_Sentence  \\\n",
       "1    Firma Pekelharing               lovely vibe good friendly staff   \n",
       "5    Firma Pekelharing                 delicious food friendly staff   \n",
       "7    Firma Pekelharing                 friendly sightly cheeky staff   \n",
       "8    Firma Pekelharing       restaurant nice atmosphere good service   \n",
       "9    Firma Pekelharing  waiter always available explained whole menu   \n",
       "..                 ...                                           ...   \n",
       "443  Firma Pekelharing                              pleasant service   \n",
       "444  Firma Pekelharing                 great food super nice service   \n",
       "446  Firma Pekelharing                       great food good service   \n",
       "449  Firma Pekelharing                        good food nice service   \n",
       "450  Firma Pekelharing                     good cuisine good service   \n",
       "\n",
       "                                                Tokens  Class  \n",
       "1                [lovely, friendly, vibe, staff, good]      1  \n",
       "5                   [delicious, food, friendly, staff]      1  \n",
       "7                   [sightly, cheeky, staff, friendly]      1  \n",
       "8        [good, service, nice, atmosphere, restaurant]      1  \n",
       "9    [explained, menu, available, waiter, always, w...      1  \n",
       "..                                                 ...    ...  \n",
       "443                                [pleasant, service]      1  \n",
       "444                [great, food, service, nice, super]      1  \n",
       "446                       [good, food, great, service]      1  \n",
       "449                        [service, good, nice, food]      1  \n",
       "450                     [cuisine, service, good, good]      1  \n",
       "\n",
       "[98 rows x 4 columns]"
      ]
     },
     "execution_count": 829,
     "metadata": {},
     "output_type": "execute_result"
    }
   ],
   "source": [
    "# New DF for DF incl. augmented data\n",
    "df5_aug = df5[df5['Class']==1]\n",
    "df5_aug = df5_aug[['Name', 'Cleaned_Sentence', 'Tokens', 'Class']]\n",
    "df5_aug"
   ]
  },
  {
   "cell_type": "code",
   "execution_count": 830,
   "id": "05a85266",
   "metadata": {},
   "outputs": [],
   "source": [
    "def data_aug(data):\n",
    "    data_aug_list=[]\n",
    "    for token_list in data['Tokens']:\n",
    "        random.shuffle(token_list)\n",
    "        new_row = ' '.join(token_list)\n",
    "        data_aug_list.append(new_row)\n",
    "\n",
    "    return data_aug_list"
   ]
  },
  {
   "cell_type": "code",
   "execution_count": 831,
   "id": "83df979d",
   "metadata": {},
   "outputs": [],
   "source": [
    "data_aug_list = data_aug(df5_aug)"
   ]
  },
  {
   "cell_type": "code",
   "execution_count": 834,
   "id": "7b200191",
   "metadata": {},
   "outputs": [
    {
     "data": {
      "text/html": [
       "<div>\n",
       "<style scoped>\n",
       "    .dataframe tbody tr th:only-of-type {\n",
       "        vertical-align: middle;\n",
       "    }\n",
       "\n",
       "    .dataframe tbody tr th {\n",
       "        vertical-align: top;\n",
       "    }\n",
       "\n",
       "    .dataframe thead th {\n",
       "        text-align: right;\n",
       "    }\n",
       "</style>\n",
       "<table border=\"1\" class=\"dataframe\">\n",
       "  <thead>\n",
       "    <tr style=\"text-align: right;\">\n",
       "      <th></th>\n",
       "      <th>Name</th>\n",
       "      <th>Cleaned_Sentence</th>\n",
       "      <th>Tokens</th>\n",
       "      <th>Class</th>\n",
       "    </tr>\n",
       "  </thead>\n",
       "  <tbody>\n",
       "    <tr>\n",
       "      <th>0</th>\n",
       "      <td>Firma Pekelharing</td>\n",
       "      <td>lovely vibe good friendly staff</td>\n",
       "      <td>[staff, good, vibe, friendly, lovely]</td>\n",
       "      <td>1</td>\n",
       "    </tr>\n",
       "    <tr>\n",
       "      <th>1</th>\n",
       "      <td>Firma Pekelharing</td>\n",
       "      <td>delicious food friendly staff</td>\n",
       "      <td>[food, friendly, delicious, staff]</td>\n",
       "      <td>1</td>\n",
       "    </tr>\n",
       "    <tr>\n",
       "      <th>2</th>\n",
       "      <td>Firma Pekelharing</td>\n",
       "      <td>friendly sightly cheeky staff</td>\n",
       "      <td>[cheeky, sightly, staff, friendly]</td>\n",
       "      <td>1</td>\n",
       "    </tr>\n",
       "    <tr>\n",
       "      <th>3</th>\n",
       "      <td>Firma Pekelharing</td>\n",
       "      <td>restaurant nice atmosphere good service</td>\n",
       "      <td>[atmosphere, nice, restaurant, good, service]</td>\n",
       "      <td>1</td>\n",
       "    </tr>\n",
       "    <tr>\n",
       "      <th>4</th>\n",
       "      <td>Firma Pekelharing</td>\n",
       "      <td>waiter always available explained whole menu</td>\n",
       "      <td>[menu, available, waiter, always, whole, expla...</td>\n",
       "      <td>1</td>\n",
       "    </tr>\n",
       "    <tr>\n",
       "      <th>...</th>\n",
       "      <td>...</td>\n",
       "      <td>...</td>\n",
       "      <td>...</td>\n",
       "      <td>...</td>\n",
       "    </tr>\n",
       "    <tr>\n",
       "      <th>191</th>\n",
       "      <td>Firma Pekelharing</td>\n",
       "      <td>pleasant service</td>\n",
       "      <td>[pleasant, service]</td>\n",
       "      <td>1</td>\n",
       "    </tr>\n",
       "    <tr>\n",
       "      <th>192</th>\n",
       "      <td>Firma Pekelharing</td>\n",
       "      <td>service food great nice super</td>\n",
       "      <td>[service, food, great, nice, super]</td>\n",
       "      <td>1</td>\n",
       "    </tr>\n",
       "    <tr>\n",
       "      <th>193</th>\n",
       "      <td>Firma Pekelharing</td>\n",
       "      <td>good food great service</td>\n",
       "      <td>[good, food, great, service]</td>\n",
       "      <td>1</td>\n",
       "    </tr>\n",
       "    <tr>\n",
       "      <th>194</th>\n",
       "      <td>Firma Pekelharing</td>\n",
       "      <td>nice food good service</td>\n",
       "      <td>[nice, food, good, service]</td>\n",
       "      <td>1</td>\n",
       "    </tr>\n",
       "    <tr>\n",
       "      <th>195</th>\n",
       "      <td>Firma Pekelharing</td>\n",
       "      <td>good service cuisine good</td>\n",
       "      <td>[good, service, cuisine, good]</td>\n",
       "      <td>1</td>\n",
       "    </tr>\n",
       "  </tbody>\n",
       "</table>\n",
       "<p>196 rows × 4 columns</p>\n",
       "</div>"
      ],
      "text/plain": [
       "                  Name                              Cleaned_Sentence  \\\n",
       "0    Firma Pekelharing               lovely vibe good friendly staff   \n",
       "1    Firma Pekelharing                 delicious food friendly staff   \n",
       "2    Firma Pekelharing                 friendly sightly cheeky staff   \n",
       "3    Firma Pekelharing       restaurant nice atmosphere good service   \n",
       "4    Firma Pekelharing  waiter always available explained whole menu   \n",
       "..                 ...                                           ...   \n",
       "191  Firma Pekelharing                              pleasant service   \n",
       "192  Firma Pekelharing                 service food great nice super   \n",
       "193  Firma Pekelharing                       good food great service   \n",
       "194  Firma Pekelharing                        nice food good service   \n",
       "195  Firma Pekelharing                     good service cuisine good   \n",
       "\n",
       "                                                Tokens Class  \n",
       "0                [staff, good, vibe, friendly, lovely]     1  \n",
       "1                   [food, friendly, delicious, staff]     1  \n",
       "2                   [cheeky, sightly, staff, friendly]     1  \n",
       "3        [atmosphere, nice, restaurant, good, service]     1  \n",
       "4    [menu, available, waiter, always, whole, expla...     1  \n",
       "..                                                 ...   ...  \n",
       "191                                [pleasant, service]     1  \n",
       "192                [service, food, great, nice, super]     1  \n",
       "193                       [good, food, great, service]     1  \n",
       "194                        [nice, food, good, service]     1  \n",
       "195                     [good, service, cuisine, good]     1  \n",
       "\n",
       "[196 rows x 4 columns]"
      ]
     },
     "execution_count": 834,
     "metadata": {},
     "output_type": "execute_result"
    }
   ],
   "source": [
    "new_df = pd.DataFrame(columns=[\"Name\", \"Cleaned_Sentence\", \"Tokens\", \"Class\"])\n",
    "new_df[\"Name\"] = df5_aug[\"Name\"]\n",
    "new_df[\"Cleaned_Sentence\"] = data_aug_list\n",
    "new_df[\"Tokens\"] = new_df[\"Cleaned_Sentence\"].apply(word_tok)\n",
    "new_df[\"Class\"] = 1\n",
    "df5_aug = pd.concat([df5_aug, new_df], ignore_index=True)\n",
    "df5_aug"
   ]
  },
  {
   "cell_type": "code",
   "execution_count": 835,
   "id": "65c8d96b",
   "metadata": {},
   "outputs": [
    {
     "data": {
      "text/html": [
       "<div>\n",
       "<style scoped>\n",
       "    .dataframe tbody tr th:only-of-type {\n",
       "        vertical-align: middle;\n",
       "    }\n",
       "\n",
       "    .dataframe tbody tr th {\n",
       "        vertical-align: top;\n",
       "    }\n",
       "\n",
       "    .dataframe thead th {\n",
       "        text-align: right;\n",
       "    }\n",
       "</style>\n",
       "<table border=\"1\" class=\"dataframe\">\n",
       "  <thead>\n",
       "    <tr style=\"text-align: right;\">\n",
       "      <th></th>\n",
       "      <th>Name</th>\n",
       "      <th>Cleaned_Sentence</th>\n",
       "      <th>Tokens</th>\n",
       "      <th>Class</th>\n",
       "    </tr>\n",
       "  </thead>\n",
       "  <tbody>\n",
       "    <tr>\n",
       "      <th>0</th>\n",
       "      <td>Firma Pekelharing</td>\n",
       "      <td>lovely vibe good friendly staff</td>\n",
       "      <td>[staff, good, vibe, friendly, lovely]</td>\n",
       "      <td>1</td>\n",
       "    </tr>\n",
       "    <tr>\n",
       "      <th>1</th>\n",
       "      <td>Firma Pekelharing</td>\n",
       "      <td>delicious food friendly staff</td>\n",
       "      <td>[food, friendly, delicious, staff]</td>\n",
       "      <td>1</td>\n",
       "    </tr>\n",
       "    <tr>\n",
       "      <th>2</th>\n",
       "      <td>Firma Pekelharing</td>\n",
       "      <td>friendly sightly cheeky staff</td>\n",
       "      <td>[cheeky, sightly, staff, friendly]</td>\n",
       "      <td>1</td>\n",
       "    </tr>\n",
       "    <tr>\n",
       "      <th>3</th>\n",
       "      <td>Firma Pekelharing</td>\n",
       "      <td>restaurant nice atmosphere good service</td>\n",
       "      <td>[atmosphere, nice, restaurant, good, service]</td>\n",
       "      <td>1</td>\n",
       "    </tr>\n",
       "    <tr>\n",
       "      <th>4</th>\n",
       "      <td>Firma Pekelharing</td>\n",
       "      <td>waiter always available explained whole menu</td>\n",
       "      <td>[menu, available, waiter, always, whole, expla...</td>\n",
       "      <td>1</td>\n",
       "    </tr>\n",
       "    <tr>\n",
       "      <th>...</th>\n",
       "      <td>...</td>\n",
       "      <td>...</td>\n",
       "      <td>...</td>\n",
       "      <td>...</td>\n",
       "    </tr>\n",
       "    <tr>\n",
       "      <th>559</th>\n",
       "      <td>Firma Pekelharing</td>\n",
       "      <td>fresh product well cooked nothing say</td>\n",
       "      <td>[fresh, product, well, cooked, nothing, say]</td>\n",
       "      <td>0</td>\n",
       "    </tr>\n",
       "    <tr>\n",
       "      <th>560</th>\n",
       "      <td>Firma Pekelharing</td>\n",
       "      <td>delicious eaten</td>\n",
       "      <td>[delicious, eaten]</td>\n",
       "      <td>0</td>\n",
       "    </tr>\n",
       "    <tr>\n",
       "      <th>561</th>\n",
       "      <td>Firma Pekelharing</td>\n",
       "      <td>nice drink regain strength</td>\n",
       "      <td>[nice, drink, regain, strength]</td>\n",
       "      <td>0</td>\n",
       "    </tr>\n",
       "    <tr>\n",
       "      <th>562</th>\n",
       "      <td>Firma Pekelharing</td>\n",
       "      <td>okay special</td>\n",
       "      <td>[okay, special]</td>\n",
       "      <td>0</td>\n",
       "    </tr>\n",
       "    <tr>\n",
       "      <th>563</th>\n",
       "      <td>Firma Pekelharing</td>\n",
       "      <td>cozy good</td>\n",
       "      <td>[cozy, good]</td>\n",
       "      <td>0</td>\n",
       "    </tr>\n",
       "  </tbody>\n",
       "</table>\n",
       "<p>564 rows × 4 columns</p>\n",
       "</div>"
      ],
      "text/plain": [
       "                  Name                              Cleaned_Sentence  \\\n",
       "0    Firma Pekelharing               lovely vibe good friendly staff   \n",
       "1    Firma Pekelharing                 delicious food friendly staff   \n",
       "2    Firma Pekelharing                 friendly sightly cheeky staff   \n",
       "3    Firma Pekelharing       restaurant nice atmosphere good service   \n",
       "4    Firma Pekelharing  waiter always available explained whole menu   \n",
       "..                 ...                                           ...   \n",
       "559  Firma Pekelharing         fresh product well cooked nothing say   \n",
       "560  Firma Pekelharing                               delicious eaten   \n",
       "561  Firma Pekelharing                    nice drink regain strength   \n",
       "562  Firma Pekelharing                                  okay special   \n",
       "563  Firma Pekelharing                                     cozy good   \n",
       "\n",
       "                                                Tokens Class  \n",
       "0                [staff, good, vibe, friendly, lovely]     1  \n",
       "1                   [food, friendly, delicious, staff]     1  \n",
       "2                   [cheeky, sightly, staff, friendly]     1  \n",
       "3        [atmosphere, nice, restaurant, good, service]     1  \n",
       "4    [menu, available, waiter, always, whole, expla...     1  \n",
       "..                                                 ...   ...  \n",
       "559       [fresh, product, well, cooked, nothing, say]     0  \n",
       "560                                 [delicious, eaten]     0  \n",
       "561                    [nice, drink, regain, strength]     0  \n",
       "562                                    [okay, special]     0  \n",
       "563                                       [cozy, good]     0  \n",
       "\n",
       "[564 rows x 4 columns]"
      ]
     },
     "execution_count": 835,
     "metadata": {},
     "output_type": "execute_result"
    }
   ],
   "source": [
    "# Re-join with df5\n",
    "df5_class_0 = df5[df5[\"Class\"]==0]\n",
    "df5_class_0 = df5_class_0[['Name', 'Cleaned_Sentence', 'Tokens', 'Class']]\n",
    "df5_aug = pd.concat([df5_aug, df5_class_0], ignore_index=True)\n",
    "df5_aug"
   ]
  },
  {
   "cell_type": "markdown",
   "id": "f32c1f66",
   "metadata": {},
   "source": [
    "## (AFTER RESAMPLING) Machine Learning Binary Classification (to filter reviews)\n",
    "\n"
   ]
  },
  {
   "cell_type": "markdown",
   "id": "f2abb809",
   "metadata": {},
   "source": [
    "### Method 1 & Undersample"
   ]
  },
  {
   "cell_type": "code",
   "execution_count": 766,
   "id": "41949ac6",
   "metadata": {},
   "outputs": [],
   "source": [
    "X_train0, X_test0, y_train0, y_test0 = train_test_split(X_under0[\"Cleaned_Sentence\"], y_under0, test_size=0.10, random_state=42)\n",
    "X_train1, X_test1, y_train1, y_test1 = train_test_split(X_under1[\"Cleaned_Sentence\"], y_under1, test_size=0.10, random_state=42)\n",
    "X_train2, X_test2, y_train2, y_test2 = train_test_split(X_under2[\"Cleaned_Sentence\"], y_under2, test_size=0.10, random_state=42)\n",
    "X_train3, X_test3, y_train3, y_test3 = train_test_split(X_under3[\"Cleaned_Sentence\"], y_under3, test_size=0.10, random_state=42)\n",
    "X_train4, X_test4, y_train4, y_test4 = train_test_split(X_under4[\"Cleaned_Sentence\"], y_under4, test_size=0.10, random_state=42)\n",
    "X_train5, X_test5, y_train5, y_test5 = train_test_split(X_under5[\"Cleaned_Sentence\"], y_under5, test_size=0.10, random_state=42)"
   ]
  },
  {
   "cell_type": "code",
   "execution_count": 767,
   "id": "b97d2d55",
   "metadata": {},
   "outputs": [
    {
     "name": "stdout",
     "output_type": "stream",
     "text": [
      "(180, 401)\n",
      "(180, 401)\n",
      "(180, 401)\n"
     ]
    }
   ],
   "source": [
    "count_vect = CountVectorizer()\n",
    "X_train_counts5 = count_vect.fit_transform(X_train5)\n",
    "print(X_train_counts5.shape)\n",
    "\n",
    "count_vect.vocabulary_.get(u'algorithm')\n",
    "\n",
    "tf_transformer = TfidfTransformer(use_idf=False).fit(X_train_counts5)\n",
    "X_train_tf5 = tf_transformer.transform(X_train_counts5)\n",
    "print(X_train_tf5.shape)\n",
    "\n",
    "tfidf_transformer = TfidfTransformer()\n",
    "X_train_tfidf5 = tfidf_transformer.fit_transform(X_train_counts5)\n",
    "print(X_train_tfidf5.shape)"
   ]
  },
  {
   "cell_type": "code",
   "execution_count": 768,
   "id": "cdbc91f8",
   "metadata": {},
   "outputs": [
    {
     "data": {
      "text/plain": [
       "0.7619047619047619"
      ]
     },
     "execution_count": 768,
     "metadata": {},
     "output_type": "execute_result"
    }
   ],
   "source": [
    "# MULTINOMIAL NAIVE BAYES\n",
    "\n",
    "from sklearn.pipeline import Pipeline\n",
    "\n",
    "text_clf = Pipeline([\n",
    "     ('vect', CountVectorizer()),\n",
    "     ('tfidf', TfidfTransformer()),\n",
    "     ('clf', MultinomialNB()) ])\n",
    "\n",
    "text_clf.fit(X_train5, y_train5)\n",
    "\n",
    "# Evaluation\n",
    "docs_test = X_test5\n",
    "predicted = text_clf.predict(docs_test)\n",
    "np.mean(predicted == y_test5)\n",
    "# 0.7619047619047619"
   ]
  },
  {
   "cell_type": "code",
   "execution_count": 769,
   "id": "f67aeef5",
   "metadata": {},
   "outputs": [
    {
     "data": {
      "text/plain": [
       "0.9047619047619048"
      ]
     },
     "execution_count": 769,
     "metadata": {},
     "output_type": "execute_result"
    }
   ],
   "source": [
    "# SUPPOR VECTOR MACHINES \n",
    "\n",
    "# We can change the learner by simply plugging a different classifier object into our pipeline\n",
    "from sklearn.linear_model import SGDClassifier\n",
    "text_clf = Pipeline([\n",
    "     ('vect', CountVectorizer()),\n",
    "     ('tfidf', TfidfTransformer()),\n",
    "     ('clf', SGDClassifier(loss='hinge', penalty='l2',\n",
    "                           alpha=1e-3, random_state=42,\n",
    "                           max_iter=5, tol=None)) ])\n",
    "\n",
    "text_clf.fit(X_train5, y_train5)\n",
    "\n",
    "# Evaluation\n",
    "predicted = text_clf.predict(X_test5)\n",
    "np.mean(predicted == y_test5)\n",
    "\n",
    "# 0.9047619047619048"
   ]
  },
  {
   "cell_type": "markdown",
   "id": "d78ffc97",
   "metadata": {},
   "source": [
    "### Method 1 & Oversample"
   ]
  },
  {
   "cell_type": "code",
   "execution_count": 838,
   "id": "ed1cf0ee",
   "metadata": {},
   "outputs": [],
   "source": [
    "X_train0, X_test0, y_train0, y_test0 = train_test_split(X_over0[\"Cleaned_Sentence\"], y_over0, test_size=0.10, random_state=42)\n",
    "X_train1, X_test1, y_train1, y_test1 = train_test_split(X_over1[\"Cleaned_Sentence\"], y_over1, test_size=0.10, random_state=42)\n",
    "X_train2, X_test2, y_train2, y_test2 = train_test_split(X_over2[\"Cleaned_Sentence\"], y_over2, test_size=0.10, random_state=42)\n",
    "X_train3, X_test3, y_train3, y_test3 = train_test_split(X_over3[\"Cleaned_Sentence\"], y_over3, test_size=0.10, random_state=42)\n",
    "X_train4, X_test4, y_train4, y_test4 = train_test_split(X_over4[\"Cleaned_Sentence\"], y_over4, test_size=0.10, random_state=42)\n",
    "X_train5, X_test5, y_train5, y_test5 = train_test_split(X_over5[\"Cleaned_Sentence\"], y_over5, test_size=0.10, random_state=42)"
   ]
  },
  {
   "cell_type": "code",
   "execution_count": 848,
   "id": "39ed13c8",
   "metadata": {},
   "outputs": [
    {
     "data": {
      "text/plain": [
       "132    0\n",
       "227    1\n",
       "237    1\n",
       "143    0\n",
       "19     0\n",
       "      ..\n",
       "20     0\n",
       "188    1\n",
       "71     0\n",
       "106    1\n",
       "102    0\n",
       "Name: Class, Length: 233, dtype: int64"
      ]
     },
     "execution_count": 848,
     "metadata": {},
     "output_type": "execute_result"
    }
   ],
   "source": [
    "y_train0"
   ]
  },
  {
   "cell_type": "code",
   "execution_count": 839,
   "id": "5310a5e4",
   "metadata": {},
   "outputs": [
    {
     "data": {
      "text/plain": [
       "0.9305555555555556"
      ]
     },
     "execution_count": 839,
     "metadata": {},
     "output_type": "execute_result"
    }
   ],
   "source": [
    "# MULTINOMIAL NAIVE BAYES\n",
    "\n",
    "from sklearn.pipeline import Pipeline\n",
    "\n",
    "text_clf = Pipeline([\n",
    "     ('vect', CountVectorizer()),\n",
    "     ('tfidf', TfidfTransformer()),\n",
    "     ('clf', MultinomialNB()) ])\n",
    "\n",
    "text_clf.fit(X_train5, y_train5)\n",
    "\n",
    "# Evaluation\n",
    "docs_test = X_test5\n",
    "predicted = text_clf.predict(docs_test)\n",
    "np.mean(predicted == y_test5)\n",
    "# 0.9305555555555556"
   ]
  },
  {
   "cell_type": "code",
   "execution_count": 772,
   "id": "06c9c3e0",
   "metadata": {},
   "outputs": [
    {
     "data": {
      "text/plain": [
       "1.0"
      ]
     },
     "execution_count": 772,
     "metadata": {},
     "output_type": "execute_result"
    }
   ],
   "source": [
    "# SUPPOR VECTOR MACHINES \n",
    "\n",
    "# We can change the learner by simply plugging a different classifier object into our pipeline\n",
    "from sklearn.linear_model import SGDClassifier\n",
    "text_clf = Pipeline([\n",
    "     ('vect', CountVectorizer()),\n",
    "     ('tfidf', TfidfTransformer()),\n",
    "     ('clf', SGDClassifier(loss='hinge', penalty='l2',\n",
    "                           alpha=1e-3, random_state=42,\n",
    "                           max_iter=5, tol=None)) ])\n",
    "\n",
    "text_clf.fit(X_train5, y_train5)\n",
    "\n",
    "# Evaluation\n",
    "predicted = text_clf.predict(X_test5)\n",
    "np.mean(predicted == y_test5)\n",
    "\n",
    "# 1.0"
   ]
  },
  {
   "cell_type": "markdown",
   "id": "6260e8c6",
   "metadata": {},
   "source": [
    "### Method 1 & Data Augmentation"
   ]
  },
  {
   "cell_type": "code",
   "execution_count": 849,
   "id": "b11dc0e4",
   "metadata": {},
   "outputs": [],
   "source": [
    "X = df5_aug[\"Cleaned_Sentence\"]\n",
    "y = df5_aug[\"Class\"]\n",
    "y = y.astype('int')\n",
    "\n",
    "X_train5, X_test5, y_train5, y_test5 = train_test_split(X, y, test_size=0.10, random_state=42)\n"
   ]
  },
  {
   "cell_type": "code",
   "execution_count": 850,
   "id": "c7d2cdbb",
   "metadata": {},
   "outputs": [
    {
     "data": {
      "text/plain": [
       "0.9473684210526315"
      ]
     },
     "execution_count": 850,
     "metadata": {},
     "output_type": "execute_result"
    }
   ],
   "source": [
    "# MULTINOMIAL NAIVE BAYES\n",
    "\n",
    "from sklearn.pipeline import Pipeline\n",
    "\n",
    "text_clf = Pipeline([\n",
    "     ('vect', CountVectorizer()),\n",
    "     ('tfidf', TfidfTransformer()),\n",
    "     ('clf', MultinomialNB()) ])\n",
    "\n",
    "text_clf.fit(X_train5, y_train5)\n",
    "\n",
    "# Evaluation\n",
    "docs_test = X_test5\n",
    "predicted = text_clf.predict(docs_test)\n",
    "np.mean(predicted == y_test5)\n",
    "# 0.9473684210526315"
   ]
  },
  {
   "cell_type": "code",
   "execution_count": 851,
   "id": "33d2c712",
   "metadata": {},
   "outputs": [
    {
     "data": {
      "text/plain": [
       "0.9824561403508771"
      ]
     },
     "execution_count": 851,
     "metadata": {},
     "output_type": "execute_result"
    }
   ],
   "source": [
    "# SUPPOR VECTOR MACHINES \n",
    "\n",
    "# We can change the learner by simply plugging a different classifier object into our pipeline\n",
    "from sklearn.linear_model import SGDClassifier\n",
    "text_clf = Pipeline([\n",
    "     ('vect', CountVectorizer()),\n",
    "     ('tfidf', TfidfTransformer()),\n",
    "     ('clf', SGDClassifier(loss='hinge', penalty='l2',\n",
    "                           alpha=1e-3, random_state=42,\n",
    "                           max_iter=5, tol=None)) ])\n",
    "\n",
    "text_clf.fit(X_train5, y_train5)\n",
    "\n",
    "# Evaluation\n",
    "predicted = text_clf.predict(X_test5)\n",
    "np.mean(predicted == y_test5)\n",
    "\n",
    "# 0.9824561403508771"
   ]
  },
  {
   "cell_type": "markdown",
   "id": "94c1f4b7",
   "metadata": {},
   "source": [
    "### Method 2"
   ]
  },
  {
   "cell_type": "code",
   "execution_count": 853,
   "id": "7026d1b6",
   "metadata": {},
   "outputs": [
    {
     "name": "stdout",
     "output_type": "stream",
     "text": [
      "Naive Bayes Accuracy Score ->  94.73684210526315\n",
      "SVM Accuracy Score ->  98.24561403508771\n"
     ]
    }
   ],
   "source": [
    "# WordNetLemmatizer requires Pos tags to understand if the word is noun or verb or adjective etc. By default it is set to Noun\n",
    "tag_map = defaultdict(lambda : wn.NOUN)\n",
    "tag_map['J'] = wn.ADJ\n",
    "tag_map['V'] = wn.VERB\n",
    "tag_map['R'] = wn.ADV\n",
    "\n",
    "#X_over5, y_over5\n",
    "\n",
    "Train_X, Test_X, Train_Y, Test_Y = model_selection.train_test_split(X_over5,y_over5,test_size=0.3)\n",
    "\n",
    "Encoder = LabelEncoder()\n",
    "Train_Y = Encoder.fit_transform(y_train5)\n",
    "Test_Y = Encoder.fit_transform(y_test5)\n",
    "\n",
    "Tfidf_vect = TfidfVectorizer(max_features=5000)\n",
    "Tfidf_vect.fit(X_over5['text_final'])\n",
    "Train_X_Tfidf = Tfidf_vect.transform(X_train5)\n",
    "Test_X_Tfidf = Tfidf_vect.transform(X_test5)\n",
    "\n",
    "# fit the training dataset on the NB classifier\n",
    "Naive = naive_bayes.MultinomialNB()\n",
    "Naive.fit(Train_X_Tfidf,Train_Y)\n",
    "# predict the labels on validation dataset\n",
    "predictions_NB = Naive.predict(Test_X_Tfidf)\n",
    "# Use accuracy_score function to get the accuracy\n",
    "print(\"Naive Bayes Accuracy Score -> \",accuracy_score(predictions_NB, Test_Y)*100)\n",
    "\n",
    "# Classifier - Algorithm - SVM\n",
    "# fit the training dataset on the classifier\n",
    "SVM = svm.SVC(C=1.0, kernel='linear', degree=3, gamma='auto')\n",
    "SVM.fit(Train_X_Tfidf,Train_Y)\n",
    "# predict the labels on validation dataset\n",
    "predictions_SVM = SVM.predict(Test_X_Tfidf)\n",
    "# Use accuracy_score function to get the accuracy\n",
    "print(\"SVM Accuracy Score -> \",accuracy_score(predictions_SVM, Test_Y)*100)"
   ]
  },
  {
   "cell_type": "markdown",
   "id": "fba8ff41",
   "metadata": {},
   "source": [
    "## Filter Dataset"
   ]
  },
  {
   "cell_type": "code",
   "execution_count": 854,
   "id": "0b47bfd9",
   "metadata": {},
   "outputs": [
    {
     "data": {
      "text/html": [
       "<div>\n",
       "<style scoped>\n",
       "    .dataframe tbody tr th:only-of-type {\n",
       "        vertical-align: middle;\n",
       "    }\n",
       "\n",
       "    .dataframe tbody tr th {\n",
       "        vertical-align: top;\n",
       "    }\n",
       "\n",
       "    .dataframe thead th {\n",
       "        text-align: right;\n",
       "    }\n",
       "</style>\n",
       "<table border=\"1\" class=\"dataframe\">\n",
       "  <thead>\n",
       "    <tr style=\"text-align: right;\">\n",
       "      <th></th>\n",
       "      <th>index</th>\n",
       "      <th>Name</th>\n",
       "      <th>Date</th>\n",
       "      <th>Cleaned_Sentence</th>\n",
       "      <th>Sentence</th>\n",
       "      <th>Tokens</th>\n",
       "      <th>Class</th>\n",
       "      <th>text_final</th>\n",
       "      <th>label</th>\n",
       "    </tr>\n",
       "  </thead>\n",
       "  <tbody>\n",
       "    <tr>\n",
       "      <th>1</th>\n",
       "      <td>0</td>\n",
       "      <td>Firma Pekelharing</td>\n",
       "      <td>2022</td>\n",
       "      <td>lovely vibe good friendly staff</td>\n",
       "      <td>Lovely vibe and very good and friendly staff.</td>\n",
       "      <td>[staff, good, vibe, friendly, lovely]</td>\n",
       "      <td>1</td>\n",
       "      <td>['lovely', 'vibe', 'good', 'friendly', 'staff']</td>\n",
       "      <td>Label 1</td>\n",
       "    </tr>\n",
       "    <tr>\n",
       "      <th>5</th>\n",
       "      <td>2</td>\n",
       "      <td>Firma Pekelharing</td>\n",
       "      <td>2019</td>\n",
       "      <td>delicious food friendly staff</td>\n",
       "      <td>Delicious food and friendly staff.</td>\n",
       "      <td>[food, friendly, delicious, staff]</td>\n",
       "      <td>1</td>\n",
       "      <td>['delicious', 'food', 'friendly', 'staff']</td>\n",
       "      <td>Label 1</td>\n",
       "    </tr>\n",
       "    <tr>\n",
       "      <th>7</th>\n",
       "      <td>3</td>\n",
       "      <td>Firma Pekelharing</td>\n",
       "      <td>2018</td>\n",
       "      <td>friendly sightly cheeky staff</td>\n",
       "      <td>Very friendly - and sightly cheeky - staff.</td>\n",
       "      <td>[cheeky, sightly, staff, friendly]</td>\n",
       "      <td>1</td>\n",
       "      <td>['friendly', 'sightly', 'cheeky', 'staff']</td>\n",
       "      <td>Label 1</td>\n",
       "    </tr>\n",
       "    <tr>\n",
       "      <th>8</th>\n",
       "      <td>4</td>\n",
       "      <td>Firma Pekelharing</td>\n",
       "      <td>2020</td>\n",
       "      <td>restaurant nice atmosphere good service</td>\n",
       "      <td>The restaurant had a nice atmosphere and very ...</td>\n",
       "      <td>[atmosphere, nice, restaurant, good, service]</td>\n",
       "      <td>1</td>\n",
       "      <td>['restaurant', 'nice', 'atmosphere', 'good', '...</td>\n",
       "      <td>Label 1</td>\n",
       "    </tr>\n",
       "    <tr>\n",
       "      <th>9</th>\n",
       "      <td>4</td>\n",
       "      <td>Firma Pekelharing</td>\n",
       "      <td>2020</td>\n",
       "      <td>waiter always available explained whole menu</td>\n",
       "      <td>The waiters were always available and explaine...</td>\n",
       "      <td>[menu, available, waiter, always, whole, expla...</td>\n",
       "      <td>1</td>\n",
       "      <td>['waiter', 'always', 'available', 'explained',...</td>\n",
       "      <td>Label 1</td>\n",
       "    </tr>\n",
       "    <tr>\n",
       "      <th>...</th>\n",
       "      <td>...</td>\n",
       "      <td>...</td>\n",
       "      <td>...</td>\n",
       "      <td>...</td>\n",
       "      <td>...</td>\n",
       "      <td>...</td>\n",
       "      <td>...</td>\n",
       "      <td>...</td>\n",
       "      <td>...</td>\n",
       "    </tr>\n",
       "    <tr>\n",
       "      <th>443</th>\n",
       "      <td>241</td>\n",
       "      <td>Firma Pekelharing</td>\n",
       "      <td>2019</td>\n",
       "      <td>pleasant service</td>\n",
       "      <td>Pleasant service.</td>\n",
       "      <td>[pleasant, service]</td>\n",
       "      <td>1</td>\n",
       "      <td>['pleasant', 'service']</td>\n",
       "      <td>Label 1</td>\n",
       "    </tr>\n",
       "    <tr>\n",
       "      <th>444</th>\n",
       "      <td>243</td>\n",
       "      <td>Firma Pekelharing</td>\n",
       "      <td>2019</td>\n",
       "      <td>great food super nice service</td>\n",
       "      <td>Great food and super nice service.</td>\n",
       "      <td>[service, food, great, nice, super]</td>\n",
       "      <td>1</td>\n",
       "      <td>['great', 'food', 'super', 'nice', 'service']</td>\n",
       "      <td>Label 1</td>\n",
       "    </tr>\n",
       "    <tr>\n",
       "      <th>446</th>\n",
       "      <td>248</td>\n",
       "      <td>Firma Pekelharing</td>\n",
       "      <td>2018</td>\n",
       "      <td>great food good service</td>\n",
       "      <td>Great food, good service.</td>\n",
       "      <td>[good, food, great, service]</td>\n",
       "      <td>1</td>\n",
       "      <td>['great', 'food', 'good', 'service']</td>\n",
       "      <td>Label 1</td>\n",
       "    </tr>\n",
       "    <tr>\n",
       "      <th>449</th>\n",
       "      <td>252</td>\n",
       "      <td>Firma Pekelharing</td>\n",
       "      <td>2019</td>\n",
       "      <td>good food nice service</td>\n",
       "      <td>Good food and very nice service.</td>\n",
       "      <td>[nice, food, good, service]</td>\n",
       "      <td>1</td>\n",
       "      <td>['good', 'food', 'nice', 'service']</td>\n",
       "      <td>Label 1</td>\n",
       "    </tr>\n",
       "    <tr>\n",
       "      <th>450</th>\n",
       "      <td>255</td>\n",
       "      <td>Firma Pekelharing</td>\n",
       "      <td>2018</td>\n",
       "      <td>good cuisine good service</td>\n",
       "      <td>Good cuisine, good service.</td>\n",
       "      <td>[good, service, cuisine, good]</td>\n",
       "      <td>1</td>\n",
       "      <td>['good', 'cuisine', 'good', 'service']</td>\n",
       "      <td>Label 1</td>\n",
       "    </tr>\n",
       "  </tbody>\n",
       "</table>\n",
       "<p>98 rows × 9 columns</p>\n",
       "</div>"
      ],
      "text/plain": [
       "     index               Name  Date  \\\n",
       "1        0  Firma Pekelharing  2022   \n",
       "5        2  Firma Pekelharing  2019   \n",
       "7        3  Firma Pekelharing  2018   \n",
       "8        4  Firma Pekelharing  2020   \n",
       "9        4  Firma Pekelharing  2020   \n",
       "..     ...                ...   ...   \n",
       "443    241  Firma Pekelharing  2019   \n",
       "444    243  Firma Pekelharing  2019   \n",
       "446    248  Firma Pekelharing  2018   \n",
       "449    252  Firma Pekelharing  2019   \n",
       "450    255  Firma Pekelharing  2018   \n",
       "\n",
       "                                 Cleaned_Sentence  \\\n",
       "1                 lovely vibe good friendly staff   \n",
       "5                   delicious food friendly staff   \n",
       "7                   friendly sightly cheeky staff   \n",
       "8         restaurant nice atmosphere good service   \n",
       "9    waiter always available explained whole menu   \n",
       "..                                            ...   \n",
       "443                              pleasant service   \n",
       "444                 great food super nice service   \n",
       "446                       great food good service   \n",
       "449                        good food nice service   \n",
       "450                     good cuisine good service   \n",
       "\n",
       "                                              Sentence  \\\n",
       "1        Lovely vibe and very good and friendly staff.   \n",
       "5                   Delicious food and friendly staff.   \n",
       "7          Very friendly - and sightly cheeky - staff.   \n",
       "8    The restaurant had a nice atmosphere and very ...   \n",
       "9    The waiters were always available and explaine...   \n",
       "..                                                 ...   \n",
       "443                                  Pleasant service.   \n",
       "444                 Great food and super nice service.   \n",
       "446                          Great food, good service.   \n",
       "449                   Good food and very nice service.   \n",
       "450                        Good cuisine, good service.   \n",
       "\n",
       "                                                Tokens  Class  \\\n",
       "1                [staff, good, vibe, friendly, lovely]      1   \n",
       "5                   [food, friendly, delicious, staff]      1   \n",
       "7                   [cheeky, sightly, staff, friendly]      1   \n",
       "8        [atmosphere, nice, restaurant, good, service]      1   \n",
       "9    [menu, available, waiter, always, whole, expla...      1   \n",
       "..                                                 ...    ...   \n",
       "443                                [pleasant, service]      1   \n",
       "444                [service, food, great, nice, super]      1   \n",
       "446                       [good, food, great, service]      1   \n",
       "449                        [nice, food, good, service]      1   \n",
       "450                     [good, service, cuisine, good]      1   \n",
       "\n",
       "                                            text_final    label  \n",
       "1      ['lovely', 'vibe', 'good', 'friendly', 'staff']  Label 1  \n",
       "5           ['delicious', 'food', 'friendly', 'staff']  Label 1  \n",
       "7           ['friendly', 'sightly', 'cheeky', 'staff']  Label 1  \n",
       "8    ['restaurant', 'nice', 'atmosphere', 'good', '...  Label 1  \n",
       "9    ['waiter', 'always', 'available', 'explained',...  Label 1  \n",
       "..                                                 ...      ...  \n",
       "443                            ['pleasant', 'service']  Label 1  \n",
       "444      ['great', 'food', 'super', 'nice', 'service']  Label 1  \n",
       "446               ['great', 'food', 'good', 'service']  Label 1  \n",
       "449                ['good', 'food', 'nice', 'service']  Label 1  \n",
       "450             ['good', 'cuisine', 'good', 'service']  Label 1  \n",
       "\n",
       "[98 rows x 9 columns]"
      ]
     },
     "execution_count": 854,
     "metadata": {},
     "output_type": "execute_result"
    }
   ],
   "source": [
    "# Filter df on Sentences discussing Accessibility\n",
    "df5_filtered = df5[df5[\"Class\"]==1]\n",
    "df5_filtered"
   ]
  },
  {
   "cell_type": "code",
   "execution_count": 692,
   "id": "9f5c1446",
   "metadata": {},
   "outputs": [
    {
     "data": {
      "text/plain": [
       "'lovely vibe good friendly staff'"
      ]
     },
     "execution_count": 692,
     "metadata": {},
     "output_type": "execute_result"
    }
   ],
   "source": [
    "df5_filtered.iloc[0][3]"
   ]
  },
  {
   "cell_type": "markdown",
   "id": "34466b6e",
   "metadata": {},
   "source": [
    "# Topic Classification"
   ]
  },
  {
   "cell_type": "markdown",
   "id": "a2e9f0d5",
   "metadata": {},
   "source": [
    "## Rule-Based Topic Classification"
   ]
  },
  {
   "cell_type": "code",
   "execution_count": 866,
   "id": "e3a618fe",
   "metadata": {},
   "outputs": [],
   "source": [
    "from topic_classification import topic_classification\n",
    "#from topic_classification import topic_bool\n",
    "\n",
    "def topic_classification(text):\n",
    "\n",
    "    general = [\"wheelchair\", \"disability\", \"disabled\", \"handicap\", \"handicapped\", \"mobility\"]\n",
    "    entrance = [\"entrance\", \"door\", \"ramp\", \"narrow\"]\n",
    "    bathroom = [\"toilet\", \"bathroom\", \"restroom\"]\n",
    "    transport = [\"parking\"]\n",
    "    stairs = [\"elevator\", \"steps\", \"stair\", \"steep\", \"narrow\"]\n",
    "    space = [\"cramped\", \"spacious\"]\n",
    "    staff = [\"service\", \"staff\", \"waiter\", \"waitress\"]\n",
    "\n",
    "    category = str()\n",
    "\n",
    "    if any(word in text for word in general):\n",
    "        category = category + \"general\"\n",
    "    elif any(word in text for word in entrance):\n",
    "        category = category + \"entrance\"\n",
    "    elif any(word in text for word in bathroom):\n",
    "        category = category + \"bathroom\"\n",
    "    elif any(word in text for word in transport):\n",
    "        category = category + \"transport\"\n",
    "    elif any(word in text for word in stairs):\n",
    "        category = category + \"stairs\"\n",
    "    elif any(word in text for word in space):\n",
    "        category = category + \"space\"\n",
    "    elif any(word in text for word in staff):\n",
    "        category = category + \"staff\"\n",
    "\n",
    "    return category\n",
    "\n",
    "def topic_bool(text):\n",
    "    \n",
    "    if text == \"general\":\n",
    "        category_id = 1\n",
    "    elif text == \"entrance\":\n",
    "        category_id = 2\n",
    "    elif text == \"bathroom\":\n",
    "        category_id = 3\n",
    "    elif text == \"transport\":\n",
    "        category_id = 4\n",
    "    elif text == \"stairs\":\n",
    "        category_id = 5\n",
    "    elif text == \"space\":\n",
    "        category_id = 6\n",
    "    elif text == \"staff\":\n",
    "        category_id = 7\n",
    "    \n",
    "    return category_id"
   ]
  },
  {
   "cell_type": "code",
   "execution_count": 864,
   "id": "51b9e592",
   "metadata": {},
   "outputs": [
    {
     "name": "stdout",
     "output_type": "stream",
     "text": [
      "CPU times: user 4.38 ms, sys: 21.7 ms, total: 26.1 ms\n",
      "Wall time: 35.9 ms\n"
     ]
    }
   ],
   "source": [
    "%%time\n",
    "df5_filtered[\"Category\"] = df5_filtered[\"Cleaned_Sentence\"].apply(topic_classification)"
   ]
  },
  {
   "cell_type": "code",
   "execution_count": 867,
   "id": "18798ddb",
   "metadata": {},
   "outputs": [
    {
     "name": "stdout",
     "output_type": "stream",
     "text": [
      "CPU times: user 2.89 ms, sys: 8.37 ms, total: 11.3 ms\n",
      "Wall time: 14.9 ms\n"
     ]
    }
   ],
   "source": [
    "%%time\n",
    "df5_filtered[\"Category_ID\"] = df5_filtered[\"Category\"].apply(topic_bool)"
   ]
  },
  {
   "cell_type": "code",
   "execution_count": 868,
   "id": "94aeefd6",
   "metadata": {},
   "outputs": [
    {
     "data": {
      "text/html": [
       "<div>\n",
       "<style scoped>\n",
       "    .dataframe tbody tr th:only-of-type {\n",
       "        vertical-align: middle;\n",
       "    }\n",
       "\n",
       "    .dataframe tbody tr th {\n",
       "        vertical-align: top;\n",
       "    }\n",
       "\n",
       "    .dataframe thead th {\n",
       "        text-align: right;\n",
       "    }\n",
       "</style>\n",
       "<table border=\"1\" class=\"dataframe\">\n",
       "  <thead>\n",
       "    <tr style=\"text-align: right;\">\n",
       "      <th></th>\n",
       "      <th>Name</th>\n",
       "      <th>Cleaned_Sentence</th>\n",
       "      <th>Tokens</th>\n",
       "      <th>Class</th>\n",
       "      <th>Category</th>\n",
       "      <th>Category_ID</th>\n",
       "    </tr>\n",
       "  </thead>\n",
       "  <tbody>\n",
       "    <tr>\n",
       "      <th>1</th>\n",
       "      <td>Firma Pekelharing</td>\n",
       "      <td>lovely vibe good friendly staff</td>\n",
       "      <td>[staff, good, vibe, friendly, lovely]</td>\n",
       "      <td>1</td>\n",
       "      <td>staff</td>\n",
       "      <td>7</td>\n",
       "    </tr>\n",
       "    <tr>\n",
       "      <th>5</th>\n",
       "      <td>Firma Pekelharing</td>\n",
       "      <td>delicious food friendly staff</td>\n",
       "      <td>[food, friendly, delicious, staff]</td>\n",
       "      <td>1</td>\n",
       "      <td>staff</td>\n",
       "      <td>7</td>\n",
       "    </tr>\n",
       "    <tr>\n",
       "      <th>7</th>\n",
       "      <td>Firma Pekelharing</td>\n",
       "      <td>friendly sightly cheeky staff</td>\n",
       "      <td>[cheeky, sightly, staff, friendly]</td>\n",
       "      <td>1</td>\n",
       "      <td>staff</td>\n",
       "      <td>7</td>\n",
       "    </tr>\n",
       "    <tr>\n",
       "      <th>8</th>\n",
       "      <td>Firma Pekelharing</td>\n",
       "      <td>restaurant nice atmosphere good service</td>\n",
       "      <td>[atmosphere, nice, restaurant, good, service]</td>\n",
       "      <td>1</td>\n",
       "      <td>staff</td>\n",
       "      <td>7</td>\n",
       "    </tr>\n",
       "    <tr>\n",
       "      <th>9</th>\n",
       "      <td>Firma Pekelharing</td>\n",
       "      <td>waiter always available explained whole menu</td>\n",
       "      <td>[menu, available, waiter, always, whole, expla...</td>\n",
       "      <td>1</td>\n",
       "      <td>staff</td>\n",
       "      <td>7</td>\n",
       "    </tr>\n",
       "  </tbody>\n",
       "</table>\n",
       "</div>"
      ],
      "text/plain": [
       "                Name                              Cleaned_Sentence  \\\n",
       "1  Firma Pekelharing               lovely vibe good friendly staff   \n",
       "5  Firma Pekelharing                 delicious food friendly staff   \n",
       "7  Firma Pekelharing                 friendly sightly cheeky staff   \n",
       "8  Firma Pekelharing       restaurant nice atmosphere good service   \n",
       "9  Firma Pekelharing  waiter always available explained whole menu   \n",
       "\n",
       "                                              Tokens  Class Category  \\\n",
       "1              [staff, good, vibe, friendly, lovely]      1    staff   \n",
       "5                 [food, friendly, delicious, staff]      1    staff   \n",
       "7                 [cheeky, sightly, staff, friendly]      1    staff   \n",
       "8      [atmosphere, nice, restaurant, good, service]      1    staff   \n",
       "9  [menu, available, waiter, always, whole, expla...      1    staff   \n",
       "\n",
       "   Category_ID  \n",
       "1            7  \n",
       "5            7  \n",
       "7            7  \n",
       "8            7  \n",
       "9            7  "
      ]
     },
     "execution_count": 868,
     "metadata": {},
     "output_type": "execute_result"
    }
   ],
   "source": [
    "df5_filtered.head()"
   ]
  },
  {
   "cell_type": "code",
   "execution_count": 873,
   "id": "1adadc66",
   "metadata": {},
   "outputs": [
    {
     "data": {
      "text/plain": [
       "(98, 6)"
      ]
     },
     "execution_count": 873,
     "metadata": {},
     "output_type": "execute_result"
    }
   ],
   "source": [
    "df5_filtered.shape"
   ]
  },
  {
   "cell_type": "markdown",
   "id": "83f6dc93",
   "metadata": {},
   "source": [
    "## Topic Distribution"
   ]
  },
  {
   "cell_type": "code",
   "execution_count": 879,
   "id": "31e9f422",
   "metadata": {},
   "outputs": [
    {
     "name": "stdout",
     "output_type": "stream",
     "text": [
      "Name                1\n",
      "Cleaned_Sentence    1\n",
      "Tokens              1\n",
      "Class               1\n",
      "Category            1\n",
      "Category_ID         1\n",
      "dtype: int64\n",
      "Name                1\n",
      "Cleaned_Sentence    1\n",
      "Tokens              1\n",
      "Class               1\n",
      "Category            1\n",
      "Category_ID         1\n",
      "dtype: int64\n",
      "Name                1\n",
      "Cleaned_Sentence    1\n",
      "Tokens              1\n",
      "Class               1\n",
      "Category            1\n",
      "Category_ID         1\n",
      "dtype: int64\n",
      "Name                95\n",
      "Cleaned_Sentence    95\n",
      "Tokens              95\n",
      "Class               95\n",
      "Category            95\n",
      "Category_ID         95\n",
      "dtype: int64\n"
     ]
    }
   ],
   "source": [
    "#print(df5_filtered[df5_filtered[\"Category_ID\"]==1].count()) ==> 0\n",
    "print(df5_filtered[df5_filtered[\"Category_ID\"]==2].count())# ==> 1\n",
    "print(df5_filtered[df5_filtered[\"Category_ID\"]==3].count())# ==> 1\n",
    "#print(df5_filtered[df5_filtered[\"Category_ID\"]==4].count()) ==> 0\n",
    "#print(df5_filtered[df5_filtered[\"Category_ID\"]==5].count()) ==> 0\n",
    "print(df5_filtered[df5_filtered[\"Category_ID\"]==6].count())# ==> 1\n",
    "print(df5_filtered[df5_filtered[\"Category_ID\"]==7].count())# ==> 95"
   ]
  },
  {
   "cell_type": "markdown",
   "id": "7f3fe654",
   "metadata": {},
   "source": [
    "## Re-Sample Categories"
   ]
  },
  {
   "cell_type": "markdown",
   "id": "49273809",
   "metadata": {},
   "source": [
    "## Method 1: Machine Learning Topic Classification"
   ]
  },
  {
   "cell_type": "markdown",
   "id": "9cf98c12",
   "metadata": {},
   "source": [
    "https://medium.com/@bedigunjit/simple-guide-to-text-classification-nlp-using-svm-and-naive-bayes-with-python-421db3a72d34"
   ]
  },
  {
   "cell_type": "code",
   "execution_count": 857,
   "id": "ea75ae86",
   "metadata": {},
   "outputs": [],
   "source": [
    "import os\n",
    "import pandas as pd\n",
    "import numpy as np\n",
    "from scipy.stats import randint\n",
    "import seaborn as sns # used for plot interactive graph.\n",
    "import matplotlib.pyplot as plt\n",
    "import seaborn as sns\n",
    "from io import StringIO\n",
    "from sklearn.feature_extraction.text import TfidfVectorizer\n",
    "from sklearn.feature_selection import chi2\n",
    "from IPython.display import display\n",
    "from sklearn.model_selection import train_test_split\n",
    "from sklearn.feature_extraction.text import TfidfTransformer\n",
    "from sklearn.naive_bayes import MultinomialNB\n",
    "from sklearn.linear_model import LogisticRegression\n",
    "from sklearn.ensemble import RandomForestClassifier\n",
    "from sklearn.svm import LinearSVC\n",
    "from sklearn.model_selection import cross_val_score\n",
    "from sklearn.metrics import confusion_matrix\n",
    "from sklearn import metrics"
   ]
  },
  {
   "cell_type": "markdown",
   "id": "ffde3f17",
   "metadata": {},
   "source": [
    "### Pre-Process / EDA"
   ]
  },
  {
   "cell_type": "code",
   "execution_count": 861,
   "id": "eee79633",
   "metadata": {},
   "outputs": [
    {
     "data": {
      "text/plain": [
       "(98, 5)"
      ]
     },
     "execution_count": 861,
     "metadata": {},
     "output_type": "execute_result"
    }
   ],
   "source": [
    "df5_filtered = df5_filtered[[\"Name\", \"Cleaned_Sentence\", \"Tokens\", \"Class\", \"Category\"]]\n",
    "df5_filtered.shape"
   ]
  },
  {
   "cell_type": "code",
   "execution_count": 862,
   "id": "94b4a914",
   "metadata": {},
   "outputs": [
    {
     "data": {
      "text/html": [
       "<div>\n",
       "<style scoped>\n",
       "    .dataframe tbody tr th:only-of-type {\n",
       "        vertical-align: middle;\n",
       "    }\n",
       "\n",
       "    .dataframe tbody tr th {\n",
       "        vertical-align: top;\n",
       "    }\n",
       "\n",
       "    .dataframe thead th {\n",
       "        text-align: right;\n",
       "    }\n",
       "</style>\n",
       "<table border=\"1\" class=\"dataframe\">\n",
       "  <thead>\n",
       "    <tr style=\"text-align: right;\">\n",
       "      <th></th>\n",
       "      <th>Name</th>\n",
       "      <th>Cleaned_Sentence</th>\n",
       "      <th>Tokens</th>\n",
       "      <th>Class</th>\n",
       "      <th>Category</th>\n",
       "    </tr>\n",
       "  </thead>\n",
       "  <tbody>\n",
       "    <tr>\n",
       "      <th>1</th>\n",
       "      <td>Firma Pekelharing</td>\n",
       "      <td>lovely vibe good friendly staff</td>\n",
       "      <td>[staff, good, vibe, friendly, lovely]</td>\n",
       "      <td>1</td>\n",
       "      <td>staff</td>\n",
       "    </tr>\n",
       "    <tr>\n",
       "      <th>5</th>\n",
       "      <td>Firma Pekelharing</td>\n",
       "      <td>delicious food friendly staff</td>\n",
       "      <td>[food, friendly, delicious, staff]</td>\n",
       "      <td>1</td>\n",
       "      <td>staff</td>\n",
       "    </tr>\n",
       "    <tr>\n",
       "      <th>7</th>\n",
       "      <td>Firma Pekelharing</td>\n",
       "      <td>friendly sightly cheeky staff</td>\n",
       "      <td>[cheeky, sightly, staff, friendly]</td>\n",
       "      <td>1</td>\n",
       "      <td>staff</td>\n",
       "    </tr>\n",
       "    <tr>\n",
       "      <th>8</th>\n",
       "      <td>Firma Pekelharing</td>\n",
       "      <td>restaurant nice atmosphere good service</td>\n",
       "      <td>[atmosphere, nice, restaurant, good, service]</td>\n",
       "      <td>1</td>\n",
       "      <td>staff</td>\n",
       "    </tr>\n",
       "    <tr>\n",
       "      <th>9</th>\n",
       "      <td>Firma Pekelharing</td>\n",
       "      <td>waiter always available explained whole menu</td>\n",
       "      <td>[menu, available, waiter, always, whole, expla...</td>\n",
       "      <td>1</td>\n",
       "      <td>staff</td>\n",
       "    </tr>\n",
       "  </tbody>\n",
       "</table>\n",
       "</div>"
      ],
      "text/plain": [
       "                Name                              Cleaned_Sentence  \\\n",
       "1  Firma Pekelharing               lovely vibe good friendly staff   \n",
       "5  Firma Pekelharing                 delicious food friendly staff   \n",
       "7  Firma Pekelharing                 friendly sightly cheeky staff   \n",
       "8  Firma Pekelharing       restaurant nice atmosphere good service   \n",
       "9  Firma Pekelharing  waiter always available explained whole menu   \n",
       "\n",
       "                                              Tokens  Class Category  \n",
       "1              [staff, good, vibe, friendly, lovely]      1    staff  \n",
       "5                 [food, friendly, delicious, staff]      1    staff  \n",
       "7                 [cheeky, sightly, staff, friendly]      1    staff  \n",
       "8      [atmosphere, nice, restaurant, good, service]      1    staff  \n",
       "9  [menu, available, waiter, always, whole, expla...      1    staff  "
      ]
     },
     "execution_count": 862,
     "metadata": {},
     "output_type": "execute_result"
    }
   ],
   "source": [
    "df5_filtered.head()"
   ]
  },
  {
   "cell_type": "code",
   "execution_count": 863,
   "id": "531441e5",
   "metadata": {},
   "outputs": [
    {
     "data": {
      "text/html": [
       "<div>\n",
       "<style scoped>\n",
       "    .dataframe tbody tr th:only-of-type {\n",
       "        vertical-align: middle;\n",
       "    }\n",
       "\n",
       "    .dataframe tbody tr th {\n",
       "        vertical-align: top;\n",
       "    }\n",
       "\n",
       "    .dataframe thead th {\n",
       "        text-align: right;\n",
       "    }\n",
       "</style>\n",
       "<table border=\"1\" class=\"dataframe\">\n",
       "  <thead>\n",
       "    <tr style=\"text-align: right;\">\n",
       "      <th></th>\n",
       "      <th>Name</th>\n",
       "      <th>Cleaned_Sentence</th>\n",
       "      <th>Tokens</th>\n",
       "      <th>Class</th>\n",
       "      <th>Category</th>\n",
       "    </tr>\n",
       "  </thead>\n",
       "  <tbody>\n",
       "    <tr>\n",
       "      <th>240</th>\n",
       "      <td>Firma Pekelharing</td>\n",
       "      <td>unfortunately one waitress quite rude toilet c...</td>\n",
       "      <td>[hence, one, waitress, star, 3, rude, quite, t...</td>\n",
       "      <td>1</td>\n",
       "      <td>bathroom</td>\n",
       "    </tr>\n",
       "  </tbody>\n",
       "</table>\n",
       "</div>"
      ],
      "text/plain": [
       "                  Name                                   Cleaned_Sentence  \\\n",
       "240  Firma Pekelharing  unfortunately one waitress quite rude toilet c...   \n",
       "\n",
       "                                                Tokens  Class  Category  \n",
       "240  [hence, one, waitress, star, 3, rude, quite, t...      1  bathroom  "
      ]
     },
     "execution_count": 863,
     "metadata": {},
     "output_type": "execute_result"
    }
   ],
   "source": [
    "df5_filtered[df5_filtered[\"Category\"]==\"bathroom\"]"
   ]
  },
  {
   "cell_type": "code",
   "execution_count": 632,
   "id": "aa613268",
   "metadata": {},
   "outputs": [
    {
     "name": "stderr",
     "output_type": "stream",
     "text": [
      "/var/folders/rn/k7vf4gp97fb11dzjbcr7w8bc0000gn/T/ipykernel_9062/1932043138.py:2: SettingWithCopyWarning: \n",
      "A value is trying to be set on a copy of a slice from a DataFrame.\n",
      "Try using .loc[row_indexer,col_indexer] = value instead\n",
      "\n",
      "See the caveats in the documentation: https://pandas.pydata.org/pandas-docs/stable/user_guide/indexing.html#returning-a-view-versus-a-copy\n",
      "  df5_filtered['category_id'] = df5_filtered['Category'].factorize()[0]\n"
     ]
    }
   ],
   "source": [
    "# Create a new column 'category_id' with encoded categories \n",
    "df5_filtered['category_id'] = df5_filtered['Category'].factorize()[0]\n",
    "category_id_df = df5_filtered[['Category', 'category_id']].drop_duplicates()"
   ]
  },
  {
   "cell_type": "code",
   "execution_count": 634,
   "id": "e6a7a390",
   "metadata": {},
   "outputs": [
    {
     "data": {
      "text/html": [
       "<div>\n",
       "<style scoped>\n",
       "    .dataframe tbody tr th:only-of-type {\n",
       "        vertical-align: middle;\n",
       "    }\n",
       "\n",
       "    .dataframe tbody tr th {\n",
       "        vertical-align: top;\n",
       "    }\n",
       "\n",
       "    .dataframe thead th {\n",
       "        text-align: right;\n",
       "    }\n",
       "</style>\n",
       "<table border=\"1\" class=\"dataframe\">\n",
       "  <thead>\n",
       "    <tr style=\"text-align: right;\">\n",
       "      <th></th>\n",
       "      <th>index</th>\n",
       "      <th>Name</th>\n",
       "      <th>Date</th>\n",
       "      <th>Cleaned_Sentence</th>\n",
       "      <th>match</th>\n",
       "      <th>Sentence</th>\n",
       "      <th>Tokens</th>\n",
       "      <th>Class</th>\n",
       "      <th>text_final</th>\n",
       "      <th>label</th>\n",
       "      <th>Category</th>\n",
       "      <th>category_id</th>\n",
       "    </tr>\n",
       "  </thead>\n",
       "  <tbody>\n",
       "    <tr>\n",
       "      <th>1</th>\n",
       "      <td>0</td>\n",
       "      <td>Firma Pekelharing</td>\n",
       "      <td>2022</td>\n",
       "      <td>lovely vibe good friendly staff</td>\n",
       "      <td>1.0</td>\n",
       "      <td>Lovely vibe and very good and friendly staff.</td>\n",
       "      <td>[lovely, vibe, good, friendly, staff]</td>\n",
       "      <td>1</td>\n",
       "      <td>['lovely', 'vibe', 'good', 'friendly', 'staff']</td>\n",
       "      <td>Label 1</td>\n",
       "      <td>staff</td>\n",
       "      <td>0</td>\n",
       "    </tr>\n",
       "    <tr>\n",
       "      <th>5</th>\n",
       "      <td>2</td>\n",
       "      <td>Firma Pekelharing</td>\n",
       "      <td>2019</td>\n",
       "      <td>delicious food friendly staff</td>\n",
       "      <td>1.0</td>\n",
       "      <td>Delicious food and friendly staff.</td>\n",
       "      <td>[delicious, food, friendly, staff]</td>\n",
       "      <td>1</td>\n",
       "      <td>['delicious', 'food', 'friendly', 'staff']</td>\n",
       "      <td>Label 1</td>\n",
       "      <td>staff</td>\n",
       "      <td>0</td>\n",
       "    </tr>\n",
       "    <tr>\n",
       "      <th>7</th>\n",
       "      <td>3</td>\n",
       "      <td>Firma Pekelharing</td>\n",
       "      <td>2018</td>\n",
       "      <td>friendly sightly cheeky staff</td>\n",
       "      <td>1.0</td>\n",
       "      <td>Very friendly - and sightly cheeky - staff.</td>\n",
       "      <td>[friendly, sightly, cheeky, staff]</td>\n",
       "      <td>1</td>\n",
       "      <td>['friendly', 'sightly', 'cheeky', 'staff']</td>\n",
       "      <td>Label 1</td>\n",
       "      <td>staff</td>\n",
       "      <td>0</td>\n",
       "    </tr>\n",
       "    <tr>\n",
       "      <th>8</th>\n",
       "      <td>4</td>\n",
       "      <td>Firma Pekelharing</td>\n",
       "      <td>2020</td>\n",
       "      <td>restaurant nice atmosphere good service</td>\n",
       "      <td>0.0</td>\n",
       "      <td>The restaurant had a nice atmosphere and very ...</td>\n",
       "      <td>[restaurant, nice, atmosphere, good, service]</td>\n",
       "      <td>1</td>\n",
       "      <td>['restaurant', 'nice', 'atmosphere', 'good', '...</td>\n",
       "      <td>Label 1</td>\n",
       "      <td>staff</td>\n",
       "      <td>0</td>\n",
       "    </tr>\n",
       "    <tr>\n",
       "      <th>9</th>\n",
       "      <td>4</td>\n",
       "      <td>Firma Pekelharing</td>\n",
       "      <td>2020</td>\n",
       "      <td>waiter always available explained whole menu</td>\n",
       "      <td>1.0</td>\n",
       "      <td>The waiters were always available and explaine...</td>\n",
       "      <td>[waiter, always, available, explained, whole, ...</td>\n",
       "      <td>1</td>\n",
       "      <td>['waiter', 'always', 'available', 'explained',...</td>\n",
       "      <td>Label 1</td>\n",
       "      <td>staff</td>\n",
       "      <td>0</td>\n",
       "    </tr>\n",
       "  </tbody>\n",
       "</table>\n",
       "</div>"
      ],
      "text/plain": [
       "   index               Name  Date  \\\n",
       "1      0  Firma Pekelharing  2022   \n",
       "5      2  Firma Pekelharing  2019   \n",
       "7      3  Firma Pekelharing  2018   \n",
       "8      4  Firma Pekelharing  2020   \n",
       "9      4  Firma Pekelharing  2020   \n",
       "\n",
       "                               Cleaned_Sentence  match  \\\n",
       "1               lovely vibe good friendly staff    1.0   \n",
       "5                 delicious food friendly staff    1.0   \n",
       "7                 friendly sightly cheeky staff    1.0   \n",
       "8       restaurant nice atmosphere good service    0.0   \n",
       "9  waiter always available explained whole menu    1.0   \n",
       "\n",
       "                                            Sentence  \\\n",
       "1      Lovely vibe and very good and friendly staff.   \n",
       "5                 Delicious food and friendly staff.   \n",
       "7        Very friendly - and sightly cheeky - staff.   \n",
       "8  The restaurant had a nice atmosphere and very ...   \n",
       "9  The waiters were always available and explaine...   \n",
       "\n",
       "                                              Tokens  Class  \\\n",
       "1              [lovely, vibe, good, friendly, staff]      1   \n",
       "5                 [delicious, food, friendly, staff]      1   \n",
       "7                 [friendly, sightly, cheeky, staff]      1   \n",
       "8      [restaurant, nice, atmosphere, good, service]      1   \n",
       "9  [waiter, always, available, explained, whole, ...      1   \n",
       "\n",
       "                                          text_final    label Category  \\\n",
       "1    ['lovely', 'vibe', 'good', 'friendly', 'staff']  Label 1    staff   \n",
       "5         ['delicious', 'food', 'friendly', 'staff']  Label 1    staff   \n",
       "7         ['friendly', 'sightly', 'cheeky', 'staff']  Label 1    staff   \n",
       "8  ['restaurant', 'nice', 'atmosphere', 'good', '...  Label 1    staff   \n",
       "9  ['waiter', 'always', 'available', 'explained',...  Label 1    staff   \n",
       "\n",
       "   category_id  \n",
       "1            0  \n",
       "5            0  \n",
       "7            0  \n",
       "8            0  \n",
       "9            0  "
      ]
     },
     "execution_count": 634,
     "metadata": {},
     "output_type": "execute_result"
    }
   ],
   "source": [
    "# Dictionaries for future use\n",
    "category_to_id = dict(category_id_df.values)\n",
    "id_to_category = dict(category_id_df[['category_id', 'Category']].values)\n",
    "# New dataframe\n",
    "df5_filtered.head()"
   ]
  },
  {
   "cell_type": "code",
   "execution_count": 635,
   "id": "a6816a34",
   "metadata": {},
   "outputs": [
    {
     "data": {
      "image/png": "[encoded data removed]",
      "text/plain": [
       "<Figure size 576x432 with 1 Axes>"
      ]
     },
     "metadata": {
      "needs_background": "light"
     },
     "output_type": "display_data"
    }
   ],
   "source": [
    "fig = plt.figure(figsize=(8,6))\n",
    "colors = ['grey','grey','grey','grey','grey','grey','grey','grey','grey',\n",
    "    'grey','darkblue','darkblue','darkblue']\n",
    "df5_filtered.groupby('Category').Sentence.count().sort_values().plot.barh(\n",
    "    ylim=0, color=colors, title= 'NUMBER OF SENTENCES FOR EACH CATEGORY')\n",
    "plt.xlabel('Number of ocurrences', fontsize = 10);"
   ]
  },
  {
   "cell_type": "markdown",
   "id": "817be6eb",
   "metadata": {},
   "source": [
    "### Text Processing"
   ]
  },
  {
   "cell_type": "code",
   "execution_count": 643,
   "id": "1e556ed1",
   "metadata": {},
   "outputs": [
    {
     "name": "stdout",
     "output_type": "stream",
     "text": [
      "Each of the 98 complaints is represented by 28 features (TF-IDF score of unigrams and bigrams)\n"
     ]
    }
   ],
   "source": [
    "tfidf = TfidfVectorizer(sublinear_tf=True, min_df=5,\n",
    "                        ngram_range=(1, 2), \n",
    "                        stop_words='english')\n",
    "# We transform each complaint into a vector\n",
    "features = tfidf.fit_transform(df5_filtered.Sentence).toarray()\n",
    "labels = df5_filtered.category_id\n",
    "print(\"Each of the %d complaints is represented by %d features (TF-IDF score of unigrams and bigrams)\" %(features.shape))"
   ]
  },
  {
   "cell_type": "code",
   "execution_count": 644,
   "id": "650a6b8a",
   "metadata": {},
   "outputs": [
    {
     "name": "stdout",
     "output_type": "stream",
     "text": [
      "n==> bathroom:\n",
      "  * Most Correlated Unigrams are: friendly, nice, good, food, service\n",
      "  * Most Correlated Bigrams are: great food, friendly staff, good food, friendly service, good service\n",
      "n==> entrance:\n",
      "  * Most Correlated Unigrams are: friendly, nice, good, food, service\n",
      "  * Most Correlated Bigrams are: great food, friendly staff, good food, friendly service, good service\n",
      "n==> space:\n",
      "  * Most Correlated Unigrams are: nice, friendly, good, wine, restaurant\n",
      "  * Most Correlated Bigrams are: great food, friendly staff, good service, friendly service, good food\n",
      "n==> staff:\n",
      "  * Most Correlated Unigrams are: great, staff, service, wine, restaurant\n",
      "  * Most Correlated Bigrams are: great food, friendly staff, good service, friendly service, good food\n"
     ]
    },
    {
     "name": "stderr",
     "output_type": "stream",
     "text": [
      "/Applications/anaconda3/lib/python3.9/site-packages/sklearn/utils/deprecation.py:87: FutureWarning: Function get_feature_names is deprecated; get_feature_names is deprecated in 1.0 and will be removed in 1.2. Please use get_feature_names_out instead.\n",
      "  warnings.warn(msg, category=FutureWarning)\n",
      "/Applications/anaconda3/lib/python3.9/site-packages/sklearn/utils/deprecation.py:87: FutureWarning: Function get_feature_names is deprecated; get_feature_names is deprecated in 1.0 and will be removed in 1.2. Please use get_feature_names_out instead.\n",
      "  warnings.warn(msg, category=FutureWarning)\n",
      "/Applications/anaconda3/lib/python3.9/site-packages/sklearn/utils/deprecation.py:87: FutureWarning: Function get_feature_names is deprecated; get_feature_names is deprecated in 1.0 and will be removed in 1.2. Please use get_feature_names_out instead.\n",
      "  warnings.warn(msg, category=FutureWarning)\n",
      "/Applications/anaconda3/lib/python3.9/site-packages/sklearn/utils/deprecation.py:87: FutureWarning: Function get_feature_names is deprecated; get_feature_names is deprecated in 1.0 and will be removed in 1.2. Please use get_feature_names_out instead.\n",
      "  warnings.warn(msg, category=FutureWarning)\n"
     ]
    }
   ],
   "source": [
    "# Finding the three most correlated terms with each of the product categories\n",
    "N = 5\n",
    "for Sentence, category_id in sorted(category_to_id.items()):\n",
    "    features_chi2 = chi2(features, labels == category_id)\n",
    "    indices = np.argsort(features_chi2[0])\n",
    "    feature_names = np.array(tfidf.get_feature_names())[indices]\n",
    "    unigrams = [v for v in feature_names if len(v.split(' ')) == 1]\n",
    "    bigrams = [v for v in feature_names if len(v.split(' ')) == 2]\n",
    "    print(\"n==> %s:\" %(Sentence))\n",
    "    print(\"  * Most Correlated Unigrams are: %s\" %(', '.join(unigrams[-N:])))\n",
    "    print(\"  * Most Correlated Bigrams are: %s\" %(', '.join(bigrams[-N:])))"
   ]
  },
  {
   "cell_type": "markdown",
   "id": "8d755086",
   "metadata": {},
   "source": [
    "### Multi-Class models"
   ]
  },
  {
   "cell_type": "code",
   "execution_count": 645,
   "id": "a93afa44",
   "metadata": {},
   "outputs": [],
   "source": [
    "X = df5_filtered['Sentence'] # Collection of documents\n",
    "y = df5_filtered['Category'] # Target or the labels we want to predict (i.e., the 13 different complaints of products)\n",
    "X_train, X_test, y_train, y_test = train_test_split(X, y, \n",
    "                                                    test_size=0.25,\n",
    "                                                    random_state = 0)\n"
   ]
  },
  {
   "cell_type": "code",
   "execution_count": 646,
   "id": "ee827c07",
   "metadata": {},
   "outputs": [],
   "source": [
    "models = [\n",
    "    RandomForestClassifier(n_estimators=100, max_depth=5, random_state=0),\n",
    "    LinearSVC(),\n",
    "    MultinomialNB(),\n",
    "    LogisticRegression(random_state=0),\n",
    "]"
   ]
  },
  {
   "cell_type": "code",
   "execution_count": 647,
   "id": "4f87e68a",
   "metadata": {},
   "outputs": [],
   "source": [
    "# 5 Cross-validation\n",
    "CV = 5\n",
    "cv_df = pd.DataFrame(index=range(CV * len(models)))"
   ]
  },
  {
   "cell_type": "code",
   "execution_count": 649,
   "id": "0dee8e7f",
   "metadata": {},
   "outputs": [
    {
     "name": "stderr",
     "output_type": "stream",
     "text": [
      "/Applications/anaconda3/lib/python3.9/site-packages/sklearn/model_selection/_split.py:676: UserWarning: The least populated class in y has only 1 members, which is less than n_splits=5.\n",
      "  warnings.warn(\n",
      "/Applications/anaconda3/lib/python3.9/site-packages/sklearn/model_selection/_split.py:676: UserWarning: The least populated class in y has only 1 members, which is less than n_splits=5.\n",
      "  warnings.warn(\n",
      "/Applications/anaconda3/lib/python3.9/site-packages/sklearn/model_selection/_split.py:676: UserWarning: The least populated class in y has only 1 members, which is less than n_splits=5.\n",
      "  warnings.warn(\n",
      "/Applications/anaconda3/lib/python3.9/site-packages/sklearn/model_selection/_split.py:676: UserWarning: The least populated class in y has only 1 members, which is less than n_splits=5.\n",
      "  warnings.warn(\n"
     ]
    }
   ],
   "source": [
    "entries = []\n",
    "for model in models:\n",
    "    model_name = model.__class__.__name__\n",
    "    accuracies = cross_val_score(model, features, labels, scoring='accuracy', cv=CV)\n",
    "    for fold_idx, accuracy in enumerate(accuracies):\n",
    "        entries.append((model_name, fold_idx, accuracy))\n",
    "cv_df = pd.DataFrame(entries, columns=['model_name', 'fold_idx', 'accuracy'])"
   ]
  },
  {
   "cell_type": "markdown",
   "id": "31014051",
   "metadata": {},
   "source": [
    "### Compare Text Classification Model Performance"
   ]
  },
  {
   "cell_type": "code",
   "execution_count": 650,
   "id": "1d2180ab",
   "metadata": {},
   "outputs": [
    {
     "data": {
      "text/html": [
       "<div>\n",
       "<style scoped>\n",
       "    .dataframe tbody tr th:only-of-type {\n",
       "        vertical-align: middle;\n",
       "    }\n",
       "\n",
       "    .dataframe tbody tr th {\n",
       "        vertical-align: top;\n",
       "    }\n",
       "\n",
       "    .dataframe thead th {\n",
       "        text-align: right;\n",
       "    }\n",
       "</style>\n",
       "<table border=\"1\" class=\"dataframe\">\n",
       "  <thead>\n",
       "    <tr style=\"text-align: right;\">\n",
       "      <th></th>\n",
       "      <th>Mean Accuracy</th>\n",
       "      <th>Standard deviation</th>\n",
       "    </tr>\n",
       "    <tr>\n",
       "      <th>model_name</th>\n",
       "      <th></th>\n",
       "      <th></th>\n",
       "    </tr>\n",
       "  </thead>\n",
       "  <tbody>\n",
       "    <tr>\n",
       "      <th>LinearSVC</th>\n",
       "      <td>0.97</td>\n",
       "      <td>0.027386</td>\n",
       "    </tr>\n",
       "    <tr>\n",
       "      <th>LogisticRegression</th>\n",
       "      <td>0.97</td>\n",
       "      <td>0.027386</td>\n",
       "    </tr>\n",
       "    <tr>\n",
       "      <th>MultinomialNB</th>\n",
       "      <td>0.97</td>\n",
       "      <td>0.027386</td>\n",
       "    </tr>\n",
       "    <tr>\n",
       "      <th>RandomForestClassifier</th>\n",
       "      <td>0.97</td>\n",
       "      <td>0.027386</td>\n",
       "    </tr>\n",
       "  </tbody>\n",
       "</table>\n",
       "</div>"
      ],
      "text/plain": [
       "                        Mean Accuracy  Standard deviation\n",
       "model_name                                               \n",
       "LinearSVC                        0.97            0.027386\n",
       "LogisticRegression               0.97            0.027386\n",
       "MultinomialNB                    0.97            0.027386\n",
       "RandomForestClassifier           0.97            0.027386"
      ]
     },
     "execution_count": 650,
     "metadata": {},
     "output_type": "execute_result"
    }
   ],
   "source": [
    "mean_accuracy = cv_df.groupby('model_name').accuracy.mean()\n",
    "std_accuracy = cv_df.groupby('model_name').accuracy.std()\n",
    "\n",
    "acc = pd.concat([mean_accuracy, std_accuracy], axis= 1, \n",
    "          ignore_index=True)\n",
    "acc.columns = ['Mean Accuracy', 'Standard deviation']\n",
    "acc"
   ]
  },
  {
   "cell_type": "code",
   "execution_count": 651,
   "id": "a0d922ca",
   "metadata": {},
   "outputs": [
    {
     "data": {
      "image/png": "[encoded data removed]",
      "text/plain": [
       "<Figure size 576x360 with 1 Axes>"
      ]
     },
     "metadata": {
      "needs_background": "light"
     },
     "output_type": "display_data"
    }
   ],
   "source": [
    "plt.figure(figsize=(8,5))\n",
    "sns.boxplot(x='model_name', y='accuracy', \n",
    "            data=cv_df, \n",
    "            color='lightblue', \n",
    "            showmeans=True)\n",
    "plt.title(\"MEAN ACCURACY (cv = 5)n\", size=14);"
   ]
  },
  {
   "cell_type": "markdown",
   "id": "39d2d898",
   "metadata": {},
   "source": [
    "### Evaluation of Text Classification Model"
   ]
  },
  {
   "cell_type": "code",
   "execution_count": 653,
   "id": "3fcc0ef4",
   "metadata": {},
   "outputs": [],
   "source": [
    "X_train, X_test, y_train, y_test,indices_train,indices_test = train_test_split(features, \n",
    "                                                               labels, \n",
    "                                                               df5_filtered.index, test_size=0.25, \n",
    "                                                               random_state=1)\n",
    "model = LinearSVC()\n",
    "model.fit(X_train, y_train)\n",
    "y_pred = model.predict(X_test)"
   ]
  },
  {
   "cell_type": "code",
   "execution_count": 655,
   "id": "de42dd0e",
   "metadata": {},
   "outputs": [
    {
     "name": "stdout",
     "output_type": "stream",
     "text": [
      "ttttCLASSIFICATIION METRICSn\n"
     ]
    },
    {
     "ename": "ValueError",
     "evalue": "Number of classes, 2, does not match size of target_names, 4. Try specifying the labels parameter",
     "output_type": "error",
     "traceback": [
      "\u001b[0;31m---------------------------------------------------------------------------\u001b[0m",
      "\u001b[0;31mValueError\u001b[0m                                Traceback (most recent call last)",
      "Input \u001b[0;32mIn [655]\u001b[0m, in \u001b[0;36m<cell line: 3>\u001b[0;34m()\u001b[0m\n\u001b[1;32m      1\u001b[0m \u001b[38;5;66;03m# Classification report\u001b[39;00m\n\u001b[1;32m      2\u001b[0m \u001b[38;5;28mprint\u001b[39m(\u001b[38;5;124m'\u001b[39m\u001b[38;5;124mttttCLASSIFICATIION METRICSn\u001b[39m\u001b[38;5;124m'\u001b[39m)\n\u001b[0;32m----> 3\u001b[0m \u001b[38;5;28mprint\u001b[39m(\u001b[43mmetrics\u001b[49m\u001b[38;5;241;43m.\u001b[39;49m\u001b[43mclassification_report\u001b[49m\u001b[43m(\u001b[49m\u001b[43my_test\u001b[49m\u001b[43m,\u001b[49m\u001b[43m \u001b[49m\u001b[43my_pred\u001b[49m\u001b[43m,\u001b[49m\u001b[43m \u001b[49m\n\u001b[1;32m      4\u001b[0m \u001b[43m                                    \u001b[49m\u001b[43mtarget_names\u001b[49m\u001b[38;5;241;43m=\u001b[39;49m\u001b[43m \u001b[49m\u001b[43mdf5_filtered\u001b[49m\u001b[43m[\u001b[49m\u001b[38;5;124;43m'\u001b[39;49m\u001b[38;5;124;43mCategory\u001b[39;49m\u001b[38;5;124;43m'\u001b[39;49m\u001b[43m]\u001b[49m\u001b[38;5;241;43m.\u001b[39;49m\u001b[43munique\u001b[49m\u001b[43m(\u001b[49m\u001b[43m)\u001b[49m\u001b[43m)\u001b[49m)\n",
      "File \u001b[0;32m/Applications/anaconda3/lib/python3.9/site-packages/sklearn/metrics/_classification.py:2132\u001b[0m, in \u001b[0;36mclassification_report\u001b[0;34m(y_true, y_pred, labels, target_names, sample_weight, digits, output_dict, zero_division)\u001b[0m\n\u001b[1;32m   2126\u001b[0m         warnings\u001b[38;5;241m.\u001b[39mwarn(\n\u001b[1;32m   2127\u001b[0m             \u001b[38;5;124m\"\u001b[39m\u001b[38;5;124mlabels size, \u001b[39m\u001b[38;5;132;01m{0}\u001b[39;00m\u001b[38;5;124m, does not match size of target_names, \u001b[39m\u001b[38;5;132;01m{1}\u001b[39;00m\u001b[38;5;124m\"\u001b[39m\u001b[38;5;241m.\u001b[39mformat(\n\u001b[1;32m   2128\u001b[0m                 \u001b[38;5;28mlen\u001b[39m(labels), \u001b[38;5;28mlen\u001b[39m(target_names)\n\u001b[1;32m   2129\u001b[0m             )\n\u001b[1;32m   2130\u001b[0m         )\n\u001b[1;32m   2131\u001b[0m     \u001b[38;5;28;01melse\u001b[39;00m:\n\u001b[0;32m-> 2132\u001b[0m         \u001b[38;5;28;01mraise\u001b[39;00m \u001b[38;5;167;01mValueError\u001b[39;00m(\n\u001b[1;32m   2133\u001b[0m             \u001b[38;5;124m\"\u001b[39m\u001b[38;5;124mNumber of classes, \u001b[39m\u001b[38;5;132;01m{0}\u001b[39;00m\u001b[38;5;124m, does not match size of \u001b[39m\u001b[38;5;124m\"\u001b[39m\n\u001b[1;32m   2134\u001b[0m             \u001b[38;5;124m\"\u001b[39m\u001b[38;5;124mtarget_names, \u001b[39m\u001b[38;5;132;01m{1}\u001b[39;00m\u001b[38;5;124m. Try specifying the labels \u001b[39m\u001b[38;5;124m\"\u001b[39m\n\u001b[1;32m   2135\u001b[0m             \u001b[38;5;124m\"\u001b[39m\u001b[38;5;124mparameter\u001b[39m\u001b[38;5;124m\"\u001b[39m\u001b[38;5;241m.\u001b[39mformat(\u001b[38;5;28mlen\u001b[39m(labels), \u001b[38;5;28mlen\u001b[39m(target_names))\n\u001b[1;32m   2136\u001b[0m         )\n\u001b[1;32m   2137\u001b[0m \u001b[38;5;28;01mif\u001b[39;00m target_names \u001b[38;5;129;01mis\u001b[39;00m \u001b[38;5;28;01mNone\u001b[39;00m:\n\u001b[1;32m   2138\u001b[0m     target_names \u001b[38;5;241m=\u001b[39m [\u001b[38;5;124m\"\u001b[39m\u001b[38;5;132;01m%s\u001b[39;00m\u001b[38;5;124m\"\u001b[39m \u001b[38;5;241m%\u001b[39m l \u001b[38;5;28;01mfor\u001b[39;00m l \u001b[38;5;129;01min\u001b[39;00m labels]\n",
      "\u001b[0;31mValueError\u001b[0m: Number of classes, 2, does not match size of target_names, 4. Try specifying the labels parameter"
     ]
    }
   ],
   "source": [
    "# Classification report\n",
    "print('ttttCLASSIFICATIION METRICSn')\n",
    "print(metrics.classification_report(y_test, y_pred, \n",
    "                                    target_names= df5_filtered['Category'].unique()))"
   ]
  },
  {
   "cell_type": "code",
   "execution_count": 657,
   "id": "3d3a2dd9",
   "metadata": {},
   "outputs": [
    {
     "data": {
      "image/png": "[encoded data removed]",
      "text/plain": [
       "<Figure size 576x576 with 2 Axes>"
      ]
     },
     "metadata": {
      "needs_background": "light"
     },
     "output_type": "display_data"
    }
   ],
   "source": [
    "conf_mat = confusion_matrix(y_test, y_pred)\n",
    "fig, ax = plt.subplots(figsize=(8,8))\n",
    "sns.heatmap(conf_mat, annot=True, cmap=\"Blues\", fmt='d',\n",
    "            xticklabels=category_id_df.Category.values, \n",
    "            yticklabels=category_id_df.Category.values)\n",
    "plt.ylabel('Actual')\n",
    "plt.xlabel('Predicted')\n",
    "plt.title(\"CONFUSION MATRIX - LinearSVCn\", size=16);"
   ]
  },
  {
   "cell_type": "code",
   "execution_count": 659,
   "id": "ffbaba8b",
   "metadata": {},
   "outputs": [],
   "source": [
    "X_train, X_test, y_train, y_test = train_test_split(X, y, \n",
    "                                                    test_size=0.25,\n",
    "                                                    random_state = 0)\n",
    "\n",
    "tfidf = TfidfVectorizer(sublinear_tf=True, min_df=5,\n",
    "                        ngram_range=(1, 2), \n",
    "                        stop_words='english')\n",
    "\n",
    "fitted_vectorizer = tfidf.fit(X_train)\n",
    "tfidf_vectorizer_vectors = fitted_vectorizer.transform(X_train)\n",
    "\n",
    "model = LinearSVC().fit(tfidf_vectorizer_vectors, y_train)"
   ]
  },
  {
   "cell_type": "code",
   "execution_count": 660,
   "id": "a5f77073",
   "metadata": {},
   "outputs": [
    {
     "name": "stdout",
     "output_type": "stream",
     "text": [
      "['staff']\n"
     ]
    }
   ],
   "source": [
    "complaint = \"\"\"The toilet was upstairs.\"\"\"\n",
    "print(model.predict(fitted_vectorizer.transform([complaint])))"
   ]
  },
  {
   "cell_type": "code",
   "execution_count": 662,
   "id": "4814a9c6",
   "metadata": {},
   "outputs": [
    {
     "name": "stdout",
     "output_type": "stream",
     "text": [
      "['staff']\n"
     ]
    }
   ],
   "source": [
    "complaint = \"\"\"The entrance was upstairs.\"\"\"\n",
    "print(model.predict(fitted_vectorizer.transform([complaint])))"
   ]
  },
  {
   "cell_type": "markdown",
   "id": "170e9d8a",
   "metadata": {},
   "source": [
    "## Method 2: Machine Learning Topic Classification"
   ]
  },
  {
   "cell_type": "code",
   "execution_count": null,
   "id": "fe874d5f",
   "metadata": {},
   "outputs": [],
   "source": []
  },
  {
   "cell_type": "markdown",
   "id": "dd02c120",
   "metadata": {},
   "source": [
    "# Sentiment Analysis"
   ]
  },
  {
   "cell_type": "code",
   "execution_count": 881,
   "id": "2c5a3687",
   "metadata": {},
   "outputs": [
    {
     "data": {
      "text/html": [
       "<div>\n",
       "<style scoped>\n",
       "    .dataframe tbody tr th:only-of-type {\n",
       "        vertical-align: middle;\n",
       "    }\n",
       "\n",
       "    .dataframe tbody tr th {\n",
       "        vertical-align: top;\n",
       "    }\n",
       "\n",
       "    .dataframe thead th {\n",
       "        text-align: right;\n",
       "    }\n",
       "</style>\n",
       "<table border=\"1\" class=\"dataframe\">\n",
       "  <thead>\n",
       "    <tr style=\"text-align: right;\">\n",
       "      <th></th>\n",
       "      <th>Name</th>\n",
       "      <th>Cleaned_Sentence</th>\n",
       "      <th>Tokens</th>\n",
       "      <th>Class</th>\n",
       "      <th>Category</th>\n",
       "      <th>Category_ID</th>\n",
       "    </tr>\n",
       "  </thead>\n",
       "  <tbody>\n",
       "    <tr>\n",
       "      <th>1</th>\n",
       "      <td>Firma Pekelharing</td>\n",
       "      <td>lovely vibe good friendly staff</td>\n",
       "      <td>[staff, good, vibe, friendly, lovely]</td>\n",
       "      <td>1</td>\n",
       "      <td>staff</td>\n",
       "      <td>7</td>\n",
       "    </tr>\n",
       "    <tr>\n",
       "      <th>5</th>\n",
       "      <td>Firma Pekelharing</td>\n",
       "      <td>delicious food friendly staff</td>\n",
       "      <td>[food, friendly, delicious, staff]</td>\n",
       "      <td>1</td>\n",
       "      <td>staff</td>\n",
       "      <td>7</td>\n",
       "    </tr>\n",
       "    <tr>\n",
       "      <th>7</th>\n",
       "      <td>Firma Pekelharing</td>\n",
       "      <td>friendly sightly cheeky staff</td>\n",
       "      <td>[cheeky, sightly, staff, friendly]</td>\n",
       "      <td>1</td>\n",
       "      <td>staff</td>\n",
       "      <td>7</td>\n",
       "    </tr>\n",
       "    <tr>\n",
       "      <th>8</th>\n",
       "      <td>Firma Pekelharing</td>\n",
       "      <td>restaurant nice atmosphere good service</td>\n",
       "      <td>[atmosphere, nice, restaurant, good, service]</td>\n",
       "      <td>1</td>\n",
       "      <td>staff</td>\n",
       "      <td>7</td>\n",
       "    </tr>\n",
       "    <tr>\n",
       "      <th>9</th>\n",
       "      <td>Firma Pekelharing</td>\n",
       "      <td>waiter always available explained whole menu</td>\n",
       "      <td>[menu, available, waiter, always, whole, expla...</td>\n",
       "      <td>1</td>\n",
       "      <td>staff</td>\n",
       "      <td>7</td>\n",
       "    </tr>\n",
       "  </tbody>\n",
       "</table>\n",
       "</div>"
      ],
      "text/plain": [
       "                Name                              Cleaned_Sentence  \\\n",
       "1  Firma Pekelharing               lovely vibe good friendly staff   \n",
       "5  Firma Pekelharing                 delicious food friendly staff   \n",
       "7  Firma Pekelharing                 friendly sightly cheeky staff   \n",
       "8  Firma Pekelharing       restaurant nice atmosphere good service   \n",
       "9  Firma Pekelharing  waiter always available explained whole menu   \n",
       "\n",
       "                                              Tokens  Class Category  \\\n",
       "1              [staff, good, vibe, friendly, lovely]      1    staff   \n",
       "5                 [food, friendly, delicious, staff]      1    staff   \n",
       "7                 [cheeky, sightly, staff, friendly]      1    staff   \n",
       "8      [atmosphere, nice, restaurant, good, service]      1    staff   \n",
       "9  [menu, available, waiter, always, whole, expla...      1    staff   \n",
       "\n",
       "   Category_ID  \n",
       "1            7  \n",
       "5            7  \n",
       "7            7  \n",
       "8            7  \n",
       "9            7  "
      ]
     },
     "execution_count": 881,
     "metadata": {},
     "output_type": "execute_result"
    }
   ],
   "source": [
    "df5_filtered.head()"
   ]
  },
  {
   "cell_type": "code",
   "execution_count": null,
   "id": "dfd20186",
   "metadata": {},
   "outputs": [],
   "source": []
  },
  {
   "cell_type": "markdown",
   "id": "28f8c966",
   "metadata": {},
   "source": [
    "# Topic Summarization"
   ]
  },
  {
   "cell_type": "code",
   "execution_count": 28,
   "id": "ed689e4d",
   "metadata": {},
   "outputs": [],
   "source": [
    "from summarization import ex_summarization\n",
    "from summarization import conc_sentences"
   ]
  },
  {
   "cell_type": "code",
   "execution_count": 225,
   "id": "11a291b9",
   "metadata": {},
   "outputs": [],
   "source": [
    "from gensim.summarization.summarizer import summarize\n",
    "from gensim.summarization import keywords\n",
    "\n",
    "def conc_sentences(df):\n",
    "    \n",
    "    df_general = df[df[\"Category\"]==\"general\"]\n",
    "    df_entrance = df[df[\"Category\"]==[\"entrance\"]]\n",
    "    df_bathroom = df[df[\"Category\"]==[\"bathroom\"]]\n",
    "    df_transport = df[df[\"Category\"]==[\"transport\"]]\n",
    "    df_stairs = df[df[\"Category\"]==[\"stairs\"]]\n",
    "    df_space = df[df[\"Category\"]==[\"space\"]]\n",
    "    df_staff = df[df[\"Category\"]==[\"staff\"]]\n",
    "    \n",
    "    return df_general, df_entrance, df_bathroom, df_transport, df_stairs, df_space, df_staff\n",
    "\n",
    "def ex_summarization(text):\n",
    "    '''Concatenate reviews into one document.\n",
    "    Summarize document based on length of document'''\n",
    "    \n",
    "    # Concatenate seperate sentences into one document\n",
    "    doc = str()\n",
    "    sentence_count = 0\n",
    "    \n",
    "    for sentence in text:\n",
    "        sentence_count += 1\n",
    "        sentence = str(sentence)\n",
    "        sentence = sentence.capitalize()\n",
    "        doc = doc + ' ' + sentence\n",
    "    \n",
    "    #print(\"Sentence count:\", sentence_count)\n",
    "    #print(\"Original Document:\", doc)\n",
    "    \n",
    "    if sentence_count > 2:\n",
    "        venue_summary = summarize(doc, ratio=0.5)\n",
    "    else:\n",
    "        venue_summary = doc\n",
    "    \n",
    "    #print(\"Summary:\", venue_summary)\n",
    "    \n",
    "    return venue_summary"
   ]
  },
  {
   "cell_type": "code",
   "execution_count": 104,
   "id": "05e32374",
   "metadata": {},
   "outputs": [],
   "source": [
    "df_general, df_entrance, df_bathroom, df_transport, df_stairs, df_space, df_staff = conc_sentences(df1_filtered)"
   ]
  },
  {
   "cell_type": "code",
   "execution_count": 226,
   "id": "95c3412f",
   "metadata": {
    "scrolled": true
   },
   "outputs": [
    {
     "name": "stderr",
     "output_type": "stream",
     "text": [
      "/var/folders/rn/k7vf4gp97fb11dzjbcr7w8bc0000gn/T/ipykernel_9062/3360370633.py:11: FutureWarning: The frame.append method is deprecated and will be removed from pandas in a future version. Use pandas.concat instead.\n",
      "  df_summary = df_summary.append(temp_df, ignore_index = True)\n"
     ]
    },
    {
     "data": {
      "text/html": [
       "<div>\n",
       "<style scoped>\n",
       "    .dataframe tbody tr th:only-of-type {\n",
       "        vertical-align: middle;\n",
       "    }\n",
       "\n",
       "    .dataframe tbody tr th {\n",
       "        vertical-align: top;\n",
       "    }\n",
       "\n",
       "    .dataframe thead th {\n",
       "        text-align: right;\n",
       "    }\n",
       "</style>\n",
       "<table border=\"1\" class=\"dataframe\">\n",
       "  <thead>\n",
       "    <tr style=\"text-align: right;\">\n",
       "      <th></th>\n",
       "      <th>Name</th>\n",
       "      <th>Category</th>\n",
       "      <th>Summary</th>\n",
       "    </tr>\n",
       "  </thead>\n",
       "  <tbody>\n",
       "    <tr>\n",
       "      <th>0</th>\n",
       "      <td>Stroom</td>\n",
       "      <td>entrance</td>\n",
       "      <td>Great food, good coffee, amazing outdoor seat...</td>\n",
       "    </tr>\n",
       "    <tr>\n",
       "      <th>1</th>\n",
       "      <td>Stroom</td>\n",
       "      <td>bathroom</td>\n",
       "      <td>Even tho we were sitting next to the bathroom...</td>\n",
       "    </tr>\n",
       "    <tr>\n",
       "      <th>2</th>\n",
       "      <td>Stroom</td>\n",
       "      <td>stairs</td>\n",
       "      <td>If you sit upstairs, you will have a view ove...</td>\n",
       "    </tr>\n",
       "    <tr>\n",
       "      <th>3</th>\n",
       "      <td>Stroom</td>\n",
       "      <td>staff</td>\n",
       "      <td>Friendly and nice staff and good coffee.\\nLaid...</td>\n",
       "    </tr>\n",
       "  </tbody>\n",
       "</table>\n",
       "</div>"
      ],
      "text/plain": [
       "     Name  Category                                            Summary\n",
       "0  Stroom  entrance   Great food, good coffee, amazing outdoor seat...\n",
       "1  Stroom  bathroom   Even tho we were sitting next to the bathroom...\n",
       "2  Stroom    stairs   If you sit upstairs, you will have a view ove...\n",
       "3  Stroom     staff  Friendly and nice staff and good coffee.\\nLaid..."
      ]
     },
     "execution_count": 226,
     "metadata": {},
     "output_type": "execute_result"
    }
   ],
   "source": [
    "df_categories = [df_general, df_entrance, df_bathroom, df_transport, df_stairs, df_space, df_staff]\n",
    "df_summary = pd.DataFrame(columns=[\"Name\", \"Category\", \"Summary\"])\n",
    "temp_df = pd.DataFrame(columns=[\"Name\", \"Category\", \"Summary\"])\n",
    "\n",
    "for df in df_categories:\n",
    "    if df.empty == False:\n",
    "        temp_df.loc[0, \"Name\"] = df[\"Name\"].iloc[0]\n",
    "        temp_df.loc[0, \"Category\"] = df[\"Category\"].iloc[0]\n",
    "        sentence_list = list(df[\"Sentence\"])        \n",
    "        temp_df.loc[0, \"Summary\"] = ex_summarization(sentence_list)\n",
    "        df_summary = df_summary.append(temp_df, ignore_index = True)\n",
    "\n",
    "df_summary"
   ]
  },
  {
   "cell_type": "code",
   "execution_count": 228,
   "id": "f04bbe00",
   "metadata": {},
   "outputs": [
    {
     "data": {
      "text/plain": [
       "'Friendly and nice staff and good coffee.\\nLaid-back  atmosphere and very nice staff.\\nthe staff is so nice and kind.\\nDelicious food, however the service is always very slow.\\nGood breakfast/brunch place, excellent service and very welcoming to children!\\nVery good food - extremely friendly staff - i can recommend this place!\\nSlow service due to crowds, excellent food.\\nGreat friendly staff!\\nRelaxed and peaceful with attentive and friendly staff.\\nTasty breakfasts and friendly staff.\\nPleasant atmosphere and friendly staff.\\ntasty sandwiches and good service.'"
      ]
     },
     "execution_count": 228,
     "metadata": {},
     "output_type": "execute_result"
    }
   ],
   "source": [
    "df_summary.iloc[3][2]"
   ]
  },
  {
   "cell_type": "code",
   "execution_count": 606,
   "id": "08045ab7",
   "metadata": {},
   "outputs": [
    {
     "data": {
      "text/plain": [
       "' If you sit upstairs, you will have a view over the street and the people sitting outside.'"
      ]
     },
     "execution_count": 606,
     "metadata": {},
     "output_type": "execute_result"
    }
   ],
   "source": [
    "df_summary.iloc[2][2]"
   ]
  },
  {
   "cell_type": "code",
   "execution_count": 232,
   "id": "111960ba",
   "metadata": {},
   "outputs": [
    {
     "ename": "AttributeError",
     "evalue": "module 'pytextrank' has no attribute 'TextRank'",
     "output_type": "error",
     "traceback": [
      "\u001b[0;31m---------------------------------------------------------------------------\u001b[0m",
      "\u001b[0;31mAttributeError\u001b[0m                            Traceback (most recent call last)",
      "Input \u001b[0;32mIn [232]\u001b[0m, in \u001b[0;36m<cell line: 11>\u001b[0;34m()\u001b[0m\n\u001b[1;32m      8\u001b[0m nlp \u001b[38;5;241m=\u001b[39m spacy\u001b[38;5;241m.\u001b[39mload(\u001b[38;5;124m\"\u001b[39m\u001b[38;5;124men_core_web_sm\u001b[39m\u001b[38;5;124m\"\u001b[39m)\n\u001b[1;32m     10\u001b[0m \u001b[38;5;66;03m# add PyTextRank to the spaCy pipeline\u001b[39;00m\n\u001b[0;32m---> 11\u001b[0m tr \u001b[38;5;241m=\u001b[39m \u001b[43mpytextrank\u001b[49m\u001b[38;5;241;43m.\u001b[39;49m\u001b[43mTextRank\u001b[49m()\n\u001b[1;32m     12\u001b[0m nlp\u001b[38;5;241m.\u001b[39madd_pipe(tr\u001b[38;5;241m.\u001b[39mPipelineComponent, name\u001b[38;5;241m=\u001b[39m\u001b[38;5;124m\"\u001b[39m\u001b[38;5;124mtextrank\u001b[39m\u001b[38;5;124m\"\u001b[39m, last\u001b[38;5;241m=\u001b[39m\u001b[38;5;28;01mTrue\u001b[39;00m)\n\u001b[1;32m     14\u001b[0m doc \u001b[38;5;241m=\u001b[39m nlp(text)\n",
      "\u001b[0;31mAttributeError\u001b[0m: module 'pytextrank' has no attribute 'TextRank'"
     ]
    }
   ],
   "source": [
    "import spacy\n",
    "import pytextrank\n",
    "\n",
    "# example text\n",
    "text = \"Compatibility of systems of linear constraints over the set of natural numbers. Criteria of compatibility of a system of linear Diophantine equations, strict inequations, and nonstrict inequations are considered. Upper bounds for components of a minimal set of solutions and algorithms of construction of minimal generating sets of solutions for all types of systems are given. These criteria and the corresponding algorithms for constructing a minimal supporting set of solutions can be used in solving all the considered types systems and systems of mixed types.\"\n",
    "\n",
    "# load a spaCy model, depending on language, scale, etc.\n",
    "nlp = spacy.load(\"en_core_web_sm\")\n",
    "\n",
    "# add PyTextRank to the spaCy pipeline\n",
    "tr = pytextrank.TextRank()\n",
    "nlp.add_pipe(tr.PipelineComponent, name=\"textrank\", last=True)\n",
    "\n",
    "doc = nlp(text)\n",
    "\n",
    "# examine the top-ranked phrases in the document\n",
    "for p in doc._.phrases:\n",
    "    print(\"{:.4f} {:5d}  {}\".format(p.rank, p.count, p.text))\n",
    "    print(p.chunks)"
   ]
  }
 ],
 "metadata": {
  "kernelspec": {
   "display_name": "Python 3 (ipykernel)",
   "language": "python",
   "name": "python3"
  },
  "language_info": {
   "codemirror_mode": {
    "name": "ipython",
    "version": 3
   },
   "file_extension": ".py",
   "mimetype": "text/x-python",
   "name": "python",
   "nbconvert_exporter": "python",
   "pygments_lexer": "ipython3",
   "version": "3.9.7"
  }
 },
 "nbformat": 4,
 "nbformat_minor": 5
}
