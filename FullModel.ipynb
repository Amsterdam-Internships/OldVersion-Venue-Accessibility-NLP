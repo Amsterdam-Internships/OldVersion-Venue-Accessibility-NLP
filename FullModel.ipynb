{
 "cells": [
  {
   "cell_type": "markdown",
   "id": "b7af1d08",
   "metadata": {},
   "source": [
    "# Title"
   ]
  },
  {
   "cell_type": "markdown",
   "id": "9f783ba1",
   "metadata": {},
   "source": [
    "Explanation"
   ]
  },
  {
   "cell_type": "markdown",
   "id": "20307923",
   "metadata": {},
   "source": [
    "## Import Packages"
   ]
  },
  {
   "cell_type": "code",
   "execution_count": 1,
   "id": "98d5fc7b",
   "metadata": {},
   "outputs": [],
   "source": [
    "import pandas as pd\n",
    "from pandas import util\n",
    "import numpy as np\n",
    "import re\n",
    "import os\n",
    "\n",
    "import nltk\n",
    "from nltk.corpus import stopwords\n",
    "from nltk.stem.porter import PorterStemmer\n",
    "from nltk.stem import WordNetLemmatizer\n",
    "from nltk.tokenize import word_tokenize\n",
    "from nltk.tokenize import sent_tokenize\n",
    "\n",
    "import glob"
   ]
  },
  {
   "cell_type": "markdown",
   "id": "7c377678",
   "metadata": {},
   "source": [
    "## Load Data"
   ]
  },
  {
   "cell_type": "code",
   "execution_count": 3,
   "id": "fb3f2141",
   "metadata": {},
   "outputs": [
    {
     "data": {
      "text/html": [
       "<div>\n",
       "<style scoped>\n",
       "    .dataframe tbody tr th:only-of-type {\n",
       "        vertical-align: middle;\n",
       "    }\n",
       "\n",
       "    .dataframe tbody tr th {\n",
       "        vertical-align: top;\n",
       "    }\n",
       "\n",
       "    .dataframe thead th {\n",
       "        text-align: right;\n",
       "    }\n",
       "</style>\n",
       "<table border=\"1\" class=\"dataframe\">\n",
       "  <thead>\n",
       "    <tr style=\"text-align: right;\">\n",
       "      <th></th>\n",
       "      <th>Venue Index</th>\n",
       "      <th>Name</th>\n",
       "      <th>Review Rate</th>\n",
       "      <th>Review Time</th>\n",
       "      <th>Review Text</th>\n",
       "    </tr>\n",
       "  </thead>\n",
       "  <tbody>\n",
       "    <tr>\n",
       "      <th>0</th>\n",
       "      <td>0</td>\n",
       "      <td>Ellis</td>\n",
       "      <td>5 stars</td>\n",
       "      <td>3 years ago</td>\n",
       "      <td>It was a bit quite when we went in, but don’t ...</td>\n",
       "    </tr>\n",
       "    <tr>\n",
       "      <th>1</th>\n",
       "      <td>1</td>\n",
       "      <td>Ellis</td>\n",
       "      <td>5 stars</td>\n",
       "      <td>2 years ago</td>\n",
       "      <td>Nice cozy place which serves very tasty burger...</td>\n",
       "    </tr>\n",
       "    <tr>\n",
       "      <th>2</th>\n",
       "      <td>2</td>\n",
       "      <td>Ellis</td>\n",
       "      <td>5 stars</td>\n",
       "      <td>3 years ago</td>\n",
       "      <td>Really nice place. One of my favourite burger ...</td>\n",
       "    </tr>\n",
       "    <tr>\n",
       "      <th>3</th>\n",
       "      <td>3</td>\n",
       "      <td>Ellis</td>\n",
       "      <td>2 stars</td>\n",
       "      <td>3 years ago</td>\n",
       "      <td>The Service was quite good but the burgers we ...</td>\n",
       "    </tr>\n",
       "    <tr>\n",
       "      <th>4</th>\n",
       "      <td>4</td>\n",
       "      <td>Ellis</td>\n",
       "      <td>5 stars</td>\n",
       "      <td>2 years ago</td>\n",
       "      <td>I had a very nice experience! The staff were r...</td>\n",
       "    </tr>\n",
       "  </tbody>\n",
       "</table>\n",
       "</div>"
      ],
      "text/plain": [
       "   Venue Index   Name Review Rate  Review Time  \\\n",
       "0            0  Ellis    5 stars   3 years ago   \n",
       "1            1  Ellis    5 stars   2 years ago   \n",
       "2            2  Ellis    5 stars   3 years ago   \n",
       "3            3  Ellis    2 stars   3 years ago   \n",
       "4            4  Ellis    5 stars   2 years ago   \n",
       "\n",
       "                                         Review Text  \n",
       "0  It was a bit quite when we went in, but don’t ...  \n",
       "1  Nice cozy place which serves very tasty burger...  \n",
       "2  Really nice place. One of my favourite burger ...  \n",
       "3  The Service was quite good but the burgers we ...  \n",
       "4  I had a very nice experience! The staff were r...  "
      ]
     },
     "execution_count": 3,
     "metadata": {},
     "output_type": "execute_result"
    }
   ],
   "source": [
    "# Load the total reviews together\n",
    "data = pd.read_csv(\"./Data/total_google_reviews.csv\")\n",
    "\n",
    "# Preview\n",
    "data.head()"
   ]
  },
  {
   "cell_type": "code",
   "execution_count": 4,
   "id": "45aef09d",
   "metadata": {},
   "outputs": [
    {
     "data": {
      "text/plain": [
       "'It was a bit quite when we went in, but don’t let that fool you if it’s ever the case! After a little while the place was cozily busy. Rightfully so! The burgers (and nachos) were lovely, as was the staff. I would definitely recommend this place if you’re around and in the need of a good burger.'"
      ]
     },
     "execution_count": 4,
     "metadata": {},
     "output_type": "execute_result"
    }
   ],
   "source": [
    "# Preview of one review\n",
    "data.iloc[0][4]"
   ]
  },
  {
   "cell_type": "code",
   "execution_count": 5,
   "id": "b2c5c683",
   "metadata": {},
   "outputs": [
    {
     "data": {
      "text/plain": [
       "(577530, 5)"
      ]
     },
     "execution_count": 5,
     "metadata": {},
     "output_type": "execute_result"
    }
   ],
   "source": [
    "# Shape of the df\n",
    "data.shape #(577530, 5)"
   ]
  },
  {
   "cell_type": "code",
   "execution_count": 6,
   "id": "e2844827",
   "metadata": {},
   "outputs": [
    {
     "data": {
      "text/html": [
       "<div>\n",
       "<style scoped>\n",
       "    .dataframe tbody tr th:only-of-type {\n",
       "        vertical-align: middle;\n",
       "    }\n",
       "\n",
       "    .dataframe tbody tr th {\n",
       "        vertical-align: top;\n",
       "    }\n",
       "\n",
       "    .dataframe thead th {\n",
       "        text-align: right;\n",
       "    }\n",
       "</style>\n",
       "<table border=\"1\" class=\"dataframe\">\n",
       "  <thead>\n",
       "    <tr style=\"text-align: right;\">\n",
       "      <th></th>\n",
       "      <th>Venue Index</th>\n",
       "      <th>Name</th>\n",
       "      <th>Rating</th>\n",
       "      <th>Date</th>\n",
       "      <th>Text</th>\n",
       "    </tr>\n",
       "  </thead>\n",
       "  <tbody>\n",
       "    <tr>\n",
       "      <th>0</th>\n",
       "      <td>0</td>\n",
       "      <td>Ellis</td>\n",
       "      <td>5 stars</td>\n",
       "      <td>3 years ago</td>\n",
       "      <td>It was a bit quite when we went in, but don’t ...</td>\n",
       "    </tr>\n",
       "    <tr>\n",
       "      <th>1</th>\n",
       "      <td>1</td>\n",
       "      <td>Ellis</td>\n",
       "      <td>5 stars</td>\n",
       "      <td>2 years ago</td>\n",
       "      <td>Nice cozy place which serves very tasty burger...</td>\n",
       "    </tr>\n",
       "    <tr>\n",
       "      <th>2</th>\n",
       "      <td>2</td>\n",
       "      <td>Ellis</td>\n",
       "      <td>5 stars</td>\n",
       "      <td>3 years ago</td>\n",
       "      <td>Really nice place. One of my favourite burger ...</td>\n",
       "    </tr>\n",
       "    <tr>\n",
       "      <th>3</th>\n",
       "      <td>3</td>\n",
       "      <td>Ellis</td>\n",
       "      <td>2 stars</td>\n",
       "      <td>3 years ago</td>\n",
       "      <td>The Service was quite good but the burgers we ...</td>\n",
       "    </tr>\n",
       "    <tr>\n",
       "      <th>4</th>\n",
       "      <td>4</td>\n",
       "      <td>Ellis</td>\n",
       "      <td>5 stars</td>\n",
       "      <td>2 years ago</td>\n",
       "      <td>I had a very nice experience! The staff were r...</td>\n",
       "    </tr>\n",
       "  </tbody>\n",
       "</table>\n",
       "</div>"
      ],
      "text/plain": [
       "   Venue Index   Name     Rating         Date  \\\n",
       "0            0  Ellis   5 stars   3 years ago   \n",
       "1            1  Ellis   5 stars   2 years ago   \n",
       "2            2  Ellis   5 stars   3 years ago   \n",
       "3            3  Ellis   2 stars   3 years ago   \n",
       "4            4  Ellis   5 stars   2 years ago   \n",
       "\n",
       "                                                Text  \n",
       "0  It was a bit quite when we went in, but don’t ...  \n",
       "1  Nice cozy place which serves very tasty burger...  \n",
       "2  Really nice place. One of my favourite burger ...  \n",
       "3  The Service was quite good but the burgers we ...  \n",
       "4  I had a very nice experience! The staff were r...  "
      ]
     },
     "execution_count": 6,
     "metadata": {},
     "output_type": "execute_result"
    }
   ],
   "source": [
    "# Change the column names\n",
    "data = data.rename(columns={\"Review Rate\": \"Rating\", \"Review Time\": \"Date\", \"Review Text\": \"Text\"})\n",
    "data.head()"
   ]
  },
  {
   "cell_type": "markdown",
   "id": "02521256",
   "metadata": {},
   "source": [
    "## Cleaning Data"
   ]
  },
  {
   "cell_type": "code",
   "execution_count": 7,
   "id": "5bd44208",
   "metadata": {},
   "outputs": [],
   "source": [
    "# Removing empty reviews\n",
    "def remove_nan(data, column_name):\n",
    "    '''Returns data where values in column_name are not empty (NaN)'''\n",
    "    \n",
    "    data = data[data[column_name].notna()]\n",
    "    \n",
    "    return data\n",
    "\n",
    "# Removing original languages and Cleaning strings\n",
    "def clean_string(text):\n",
    "    '''Returns the (Translated by Google) English text, removes the (Original) text from the text.\n",
    "        sep specifies what separator to separate the text by.'''\n",
    "    \n",
    "    sep = \"(Original)\"\n",
    "    if sep in text:\n",
    "        translation, separator, original = text.partition(sep)\n",
    "        text = translation\n",
    "    \n",
    "    '''Lowercases reviews, removes \\n and (translated by google).'''\n",
    "    \n",
    "    text = str(text)                                         # Change type to string\n",
    "    text = text.lower()                                      # Set all text to lower string\n",
    "    text = text.replace(\"\\n\", '')\n",
    "    text = text.replace(\"(translated by google)\", '')        \n",
    "    \n",
    "    text = re.sub(\"n’t\", ' not', text)                       # Change n't to not\n",
    "    text = re.sub(\" +\", \" \", text)                           # Remove multiple spaces\n",
    "    text = re.sub(r\"http.*?(?=\\s)\", \"\", text)                # Remove URL's\n",
    "    text = re.sub(\"'\",\" \", text)                             # Remove apostrophes\n",
    "        \n",
    "    return text"
   ]
  },
  {
   "cell_type": "code",
   "execution_count": 8,
   "id": "0a9c9f2b",
   "metadata": {},
   "outputs": [
    {
     "name": "stdout",
     "output_type": "stream",
     "text": [
      "CPU times: user 58.7 ms, sys: 10 ms, total: 68.7 ms\n",
      "Wall time: 74.7 ms\n"
     ]
    }
   ],
   "source": [
    "%%time\n",
    "data = remove_nan(data, \"Text\")"
   ]
  },
  {
   "cell_type": "code",
   "execution_count": 9,
   "id": "2c939b55",
   "metadata": {},
   "outputs": [
    {
     "name": "stdout",
     "output_type": "stream",
     "text": [
      "CPU times: user 4.73 s, sys: 57.2 ms, total: 4.79 s\n",
      "Wall time: 4.81 s\n"
     ]
    }
   ],
   "source": [
    "%%time\n",
    "data['Cleaned Text'] = data[\"Text\"].apply(clean_string)"
   ]
  },
  {
   "cell_type": "code",
   "execution_count": 10,
   "id": "e798133a",
   "metadata": {},
   "outputs": [
    {
     "data": {
      "text/html": [
       "<div>\n",
       "<style scoped>\n",
       "    .dataframe tbody tr th:only-of-type {\n",
       "        vertical-align: middle;\n",
       "    }\n",
       "\n",
       "    .dataframe tbody tr th {\n",
       "        vertical-align: top;\n",
       "    }\n",
       "\n",
       "    .dataframe thead th {\n",
       "        text-align: right;\n",
       "    }\n",
       "</style>\n",
       "<table border=\"1\" class=\"dataframe\">\n",
       "  <thead>\n",
       "    <tr style=\"text-align: right;\">\n",
       "      <th></th>\n",
       "      <th>Venue Index</th>\n",
       "      <th>Name</th>\n",
       "      <th>Rating</th>\n",
       "      <th>Date</th>\n",
       "      <th>Text</th>\n",
       "      <th>Cleaned Text</th>\n",
       "    </tr>\n",
       "  </thead>\n",
       "  <tbody>\n",
       "    <tr>\n",
       "      <th>0</th>\n",
       "      <td>0</td>\n",
       "      <td>Ellis</td>\n",
       "      <td>5 stars</td>\n",
       "      <td>3 years ago</td>\n",
       "      <td>It was a bit quite when we went in, but don’t ...</td>\n",
       "      <td>it was a bit quite when we went in, but do not...</td>\n",
       "    </tr>\n",
       "    <tr>\n",
       "      <th>1</th>\n",
       "      <td>1</td>\n",
       "      <td>Ellis</td>\n",
       "      <td>5 stars</td>\n",
       "      <td>2 years ago</td>\n",
       "      <td>Nice cozy place which serves very tasty burger...</td>\n",
       "      <td>nice cozy place which serves very tasty burger...</td>\n",
       "    </tr>\n",
       "    <tr>\n",
       "      <th>2</th>\n",
       "      <td>2</td>\n",
       "      <td>Ellis</td>\n",
       "      <td>5 stars</td>\n",
       "      <td>3 years ago</td>\n",
       "      <td>Really nice place. One of my favourite burger ...</td>\n",
       "      <td>really nice place. one of my favourite burger ...</td>\n",
       "    </tr>\n",
       "    <tr>\n",
       "      <th>3</th>\n",
       "      <td>3</td>\n",
       "      <td>Ellis</td>\n",
       "      <td>2 stars</td>\n",
       "      <td>3 years ago</td>\n",
       "      <td>The Service was quite good but the burgers we ...</td>\n",
       "      <td>the service was quite good but the burgers we ...</td>\n",
       "    </tr>\n",
       "    <tr>\n",
       "      <th>4</th>\n",
       "      <td>4</td>\n",
       "      <td>Ellis</td>\n",
       "      <td>5 stars</td>\n",
       "      <td>2 years ago</td>\n",
       "      <td>I had a very nice experience! The staff were r...</td>\n",
       "      <td>i had a very nice experience! the staff were r...</td>\n",
       "    </tr>\n",
       "  </tbody>\n",
       "</table>\n",
       "</div>"
      ],
      "text/plain": [
       "   Venue Index   Name     Rating         Date  \\\n",
       "0            0  Ellis   5 stars   3 years ago   \n",
       "1            1  Ellis   5 stars   2 years ago   \n",
       "2            2  Ellis   5 stars   3 years ago   \n",
       "3            3  Ellis   2 stars   3 years ago   \n",
       "4            4  Ellis   5 stars   2 years ago   \n",
       "\n",
       "                                                Text  \\\n",
       "0  It was a bit quite when we went in, but don’t ...   \n",
       "1  Nice cozy place which serves very tasty burger...   \n",
       "2  Really nice place. One of my favourite burger ...   \n",
       "3  The Service was quite good but the burgers we ...   \n",
       "4  I had a very nice experience! The staff were r...   \n",
       "\n",
       "                                        Cleaned Text  \n",
       "0  it was a bit quite when we went in, but do not...  \n",
       "1  nice cozy place which serves very tasty burger...  \n",
       "2  really nice place. one of my favourite burger ...  \n",
       "3  the service was quite good but the burgers we ...  \n",
       "4  i had a very nice experience! the staff were r...  "
      ]
     },
     "execution_count": 10,
     "metadata": {},
     "output_type": "execute_result"
    }
   ],
   "source": [
    "# Preview cleaned text\n",
    "data.head()"
   ]
  },
  {
   "cell_type": "markdown",
   "id": "d953d70d",
   "metadata": {},
   "source": [
    "## Pre-Processing"
   ]
  },
  {
   "cell_type": "code",
   "execution_count": 11,
   "id": "dd6f0915",
   "metadata": {},
   "outputs": [],
   "source": [
    "# Change rating to positive, negative or neutral label\n",
    "def rating_to_sent(text):\n",
    "    '''Change Rating to integer score from 1 to 5.'''\n",
    "    \n",
    "    texts = str(text)\n",
    "    text = text.replace(\"stars\", '')\n",
    "    text = text.replace(\"star\", '')\n",
    "    text = text.replace(\" \", '')\n",
    "    score = int(text)\n",
    "    \n",
    "    '''Change score to positive, negative or neutral'''\n",
    "    \n",
    "    if score > 3:\n",
    "        return 'positive'\n",
    "    elif score < 3:\n",
    "        return 'negative'\n",
    "    else:\n",
    "        return 'neutral'  \n",
    "    \n",
    "# Change relative Date to absolute Date\n",
    "def abs_date(text):\n",
    "    '''Change relative date to absolute date'''\n",
    "    \n",
    "    text = str(text)\n",
    "    text = text.replace(\" ago\", \"\")\n",
    "    text = text.replace(\"years\", \"year\")\n",
    "    text = text.replace(\"months\", \"month\")\n",
    "    text = text.replace(\"weeks\", \"week\")\n",
    "    text = text.replace(\"days\", \"day\")\n",
    "    text = text.replace(\"hours\", \"hour\")\n",
    "    text = text.replace(\"minutes\", \"minute\")\n",
    "    \n",
    "    num, metric = text.split(' ')\n",
    "    \n",
    "    if num == 'a' or num =='an':\n",
    "        num = 1\n",
    "    \n",
    "    num = int(num)\n",
    "    \n",
    "    if \"year\" in metric:\n",
    "        text = 2022 - num\n",
    "    elif \"month\" in metric and num > 3:\n",
    "        text = 2021\n",
    "    elif \"month\" in metric and num < 4:\n",
    "        text = 2022\n",
    "    elif \"day\" in metric or \"week\" in metric or \"hour\" in metric or \"minute\" in metric:\n",
    "        text = 2022\n",
    "    \n",
    "    date = int(text)\n",
    "    \n",
    "    return date"
   ]
  },
  {
   "cell_type": "code",
   "execution_count": 12,
   "id": "4d8a8b1e",
   "metadata": {},
   "outputs": [
    {
     "name": "stdout",
     "output_type": "stream",
     "text": [
      "CPU times: user 337 ms, sys: 11.7 ms, total: 349 ms\n",
      "Wall time: 362 ms\n"
     ]
    }
   ],
   "source": [
    "%%time\n",
    "data['Rating Sent'] = data[\"Rating\"].apply(rating_to_sent)"
   ]
  },
  {
   "cell_type": "code",
   "execution_count": 13,
   "id": "eee33f7f",
   "metadata": {},
   "outputs": [
    {
     "name": "stdout",
     "output_type": "stream",
     "text": [
      "CPU times: user 718 ms, sys: 30.9 ms, total: 749 ms\n",
      "Wall time: 758 ms\n"
     ]
    }
   ],
   "source": [
    "%%time\n",
    "data['Date'] = data[\"Date\"].apply(abs_date)"
   ]
  },
  {
   "cell_type": "code",
   "execution_count": 14,
   "id": "bb8d17f2",
   "metadata": {},
   "outputs": [
    {
     "data": {
      "text/html": [
       "<div>\n",
       "<style scoped>\n",
       "    .dataframe tbody tr th:only-of-type {\n",
       "        vertical-align: middle;\n",
       "    }\n",
       "\n",
       "    .dataframe tbody tr th {\n",
       "        vertical-align: top;\n",
       "    }\n",
       "\n",
       "    .dataframe thead th {\n",
       "        text-align: right;\n",
       "    }\n",
       "</style>\n",
       "<table border=\"1\" class=\"dataframe\">\n",
       "  <thead>\n",
       "    <tr style=\"text-align: right;\">\n",
       "      <th></th>\n",
       "      <th>Venue Index</th>\n",
       "      <th>Name</th>\n",
       "      <th>Date</th>\n",
       "      <th>Rating</th>\n",
       "      <th>Rating Sent</th>\n",
       "      <th>Text</th>\n",
       "      <th>Cleaned Text</th>\n",
       "    </tr>\n",
       "  </thead>\n",
       "  <tbody>\n",
       "    <tr>\n",
       "      <th>0</th>\n",
       "      <td>0</td>\n",
       "      <td>Ellis</td>\n",
       "      <td>2019</td>\n",
       "      <td>5 stars</td>\n",
       "      <td>positive</td>\n",
       "      <td>It was a bit quite when we went in, but don’t ...</td>\n",
       "      <td>it was a bit quite when we went in, but do not...</td>\n",
       "    </tr>\n",
       "    <tr>\n",
       "      <th>1</th>\n",
       "      <td>1</td>\n",
       "      <td>Ellis</td>\n",
       "      <td>2020</td>\n",
       "      <td>5 stars</td>\n",
       "      <td>positive</td>\n",
       "      <td>Nice cozy place which serves very tasty burger...</td>\n",
       "      <td>nice cozy place which serves very tasty burger...</td>\n",
       "    </tr>\n",
       "    <tr>\n",
       "      <th>2</th>\n",
       "      <td>2</td>\n",
       "      <td>Ellis</td>\n",
       "      <td>2019</td>\n",
       "      <td>5 stars</td>\n",
       "      <td>positive</td>\n",
       "      <td>Really nice place. One of my favourite burger ...</td>\n",
       "      <td>really nice place. one of my favourite burger ...</td>\n",
       "    </tr>\n",
       "    <tr>\n",
       "      <th>3</th>\n",
       "      <td>3</td>\n",
       "      <td>Ellis</td>\n",
       "      <td>2019</td>\n",
       "      <td>2 stars</td>\n",
       "      <td>negative</td>\n",
       "      <td>The Service was quite good but the burgers we ...</td>\n",
       "      <td>the service was quite good but the burgers we ...</td>\n",
       "    </tr>\n",
       "    <tr>\n",
       "      <th>4</th>\n",
       "      <td>4</td>\n",
       "      <td>Ellis</td>\n",
       "      <td>2020</td>\n",
       "      <td>5 stars</td>\n",
       "      <td>positive</td>\n",
       "      <td>I had a very nice experience! The staff were r...</td>\n",
       "      <td>i had a very nice experience! the staff were r...</td>\n",
       "    </tr>\n",
       "  </tbody>\n",
       "</table>\n",
       "</div>"
      ],
      "text/plain": [
       "   Venue Index   Name  Date     Rating Rating Sent  \\\n",
       "0            0  Ellis  2019   5 stars     positive   \n",
       "1            1  Ellis  2020   5 stars     positive   \n",
       "2            2  Ellis  2019   5 stars     positive   \n",
       "3            3  Ellis  2019   2 stars     negative   \n",
       "4            4  Ellis  2020   5 stars     positive   \n",
       "\n",
       "                                                Text  \\\n",
       "0  It was a bit quite when we went in, but don’t ...   \n",
       "1  Nice cozy place which serves very tasty burger...   \n",
       "2  Really nice place. One of my favourite burger ...   \n",
       "3  The Service was quite good but the burgers we ...   \n",
       "4  I had a very nice experience! The staff were r...   \n",
       "\n",
       "                                        Cleaned Text  \n",
       "0  it was a bit quite when we went in, but do not...  \n",
       "1  nice cozy place which serves very tasty burger...  \n",
       "2  really nice place. one of my favourite burger ...  \n",
       "3  the service was quite good but the burgers we ...  \n",
       "4  i had a very nice experience! the staff were r...  "
      ]
     },
     "execution_count": 14,
     "metadata": {},
     "output_type": "execute_result"
    }
   ],
   "source": [
    "data = data.reindex(columns=['Venue Index', 'Name', 'Date', 'Rating', 'Rating Sent', 'Text', 'Cleaned Text'])\n",
    "data.head()"
   ]
  },
  {
   "cell_type": "code",
   "execution_count": 15,
   "id": "e0da784f",
   "metadata": {},
   "outputs": [
    {
     "data": {
      "text/plain": [
       "(403843, 7)"
      ]
     },
     "execution_count": 15,
     "metadata": {},
     "output_type": "execute_result"
    }
   ],
   "source": [
    "# Find the shape of the data\n",
    "data.shape #(403843, 7)"
   ]
  },
  {
   "cell_type": "markdown",
   "id": "91ad20c9",
   "metadata": {},
   "source": [
    "## Tokenization and Lemmatization"
   ]
  },
  {
   "cell_type": "code",
   "execution_count": 16,
   "id": "2b3ed322",
   "metadata": {},
   "outputs": [],
   "source": [
    "# Sentence tokenization\n",
    "def sent_tok(text):\n",
    "    '''Sentence tokenize.\n",
    "    Returns list of sentences in review.'''\n",
    "    \n",
    "    text = sent_tokenize(text)\n",
    "    \n",
    "    return text\n",
    "\n",
    "# Word tokenization and Removing stopwords\n",
    "def word_tok(text):\n",
    "    '''Word tokenize.\n",
    "    Returns list of words in review.'''\n",
    "    \n",
    "    text = re.sub(r\"(@\\[A-Za-z0-9]+)|([^0-9A-Za-z \\t])|(\\w+:\\/\\/\\S+)|^rt|http.+?\", \"\", text)\n",
    "    text = word_tokenize(text)\n",
    "    \n",
    "    filtered_text = [word for word in text if not word in stop_words]\n",
    "    \n",
    "    return filtered_text\n",
    "\n",
    "def lemmatize_string(text):\n",
    "    '''Lemmatize words in a list.'''\n",
    "    \n",
    "    lemma_text = [lemmatizer.lemmatize(word) for word in text]\n",
    "       \n",
    "    return lemma_text"
   ]
  },
  {
   "cell_type": "code",
   "execution_count": 17,
   "id": "171eb2f8",
   "metadata": {},
   "outputs": [],
   "source": [
    "# Stopwords\n",
    "stop_words = stopwords.words('english')\n",
    "\n",
    "# Lemmatizer\n",
    "lemmatizer = WordNetLemmatizer()"
   ]
  },
  {
   "cell_type": "code",
   "execution_count": 18,
   "id": "a414eda5",
   "metadata": {},
   "outputs": [
    {
     "name": "stdout",
     "output_type": "stream",
     "text": [
      "CPU times: user 25.6 s, sys: 207 ms, total: 25.8 s\n",
      "Wall time: 26.2 s\n"
     ]
    }
   ],
   "source": [
    "%%time\n",
    "data[\"Sentences\"] = data[\"Cleaned Text\"].apply(sent_tok)"
   ]
  },
  {
   "cell_type": "code",
   "execution_count": 19,
   "id": "4f35407d",
   "metadata": {},
   "outputs": [
    {
     "name": "stdout",
     "output_type": "stream",
     "text": [
      "CPU times: user 1min 11s, sys: 445 ms, total: 1min 12s\n",
      "Wall time: 1min 12s\n"
     ]
    }
   ],
   "source": [
    "%%time\n",
    "data[\"Words\"] = data[\"Cleaned Text\"].apply(word_tok)"
   ]
  },
  {
   "cell_type": "code",
   "execution_count": 20,
   "id": "33ff43c0",
   "metadata": {},
   "outputs": [
    {
     "name": "stdout",
     "output_type": "stream",
     "text": [
      "CPU times: user 17.7 s, sys: 237 ms, total: 18 s\n",
      "Wall time: 18 s\n"
     ]
    },
    {
     "data": {
      "text/html": [
       "<div>\n",
       "<style scoped>\n",
       "    .dataframe tbody tr th:only-of-type {\n",
       "        vertical-align: middle;\n",
       "    }\n",
       "\n",
       "    .dataframe tbody tr th {\n",
       "        vertical-align: top;\n",
       "    }\n",
       "\n",
       "    .dataframe thead th {\n",
       "        text-align: right;\n",
       "    }\n",
       "</style>\n",
       "<table border=\"1\" class=\"dataframe\">\n",
       "  <thead>\n",
       "    <tr style=\"text-align: right;\">\n",
       "      <th></th>\n",
       "      <th>Venue Index</th>\n",
       "      <th>Name</th>\n",
       "      <th>Date</th>\n",
       "      <th>Rating</th>\n",
       "      <th>Rating Sent</th>\n",
       "      <th>Text</th>\n",
       "      <th>Cleaned Text</th>\n",
       "      <th>Sentences</th>\n",
       "      <th>Words</th>\n",
       "    </tr>\n",
       "  </thead>\n",
       "  <tbody>\n",
       "    <tr>\n",
       "      <th>0</th>\n",
       "      <td>0</td>\n",
       "      <td>Ellis</td>\n",
       "      <td>2019</td>\n",
       "      <td>5 stars</td>\n",
       "      <td>positive</td>\n",
       "      <td>It was a bit quite when we went in, but don’t ...</td>\n",
       "      <td>it was a bit quite when we went in, but do not...</td>\n",
       "      <td>[it was a bit quite when we went in, but do no...</td>\n",
       "      <td>[bit, quite, went, let, fool, ever, case, litt...</td>\n",
       "    </tr>\n",
       "    <tr>\n",
       "      <th>1</th>\n",
       "      <td>1</td>\n",
       "      <td>Ellis</td>\n",
       "      <td>2020</td>\n",
       "      <td>5 stars</td>\n",
       "      <td>positive</td>\n",
       "      <td>Nice cozy place which serves very tasty burger...</td>\n",
       "      <td>nice cozy place which serves very tasty burger...</td>\n",
       "      <td>[nice cozy place which serves very tasty burge...</td>\n",
       "      <td>[nice, cozy, place, serf, tasty, burger, staff...</td>\n",
       "    </tr>\n",
       "    <tr>\n",
       "      <th>2</th>\n",
       "      <td>2</td>\n",
       "      <td>Ellis</td>\n",
       "      <td>2019</td>\n",
       "      <td>5 stars</td>\n",
       "      <td>positive</td>\n",
       "      <td>Really nice place. One of my favourite burger ...</td>\n",
       "      <td>really nice place. one of my favourite burger ...</td>\n",
       "      <td>[really nice place., one of my favourite burge...</td>\n",
       "      <td>[really, nice, place, one, favourite, burger, ...</td>\n",
       "    </tr>\n",
       "    <tr>\n",
       "      <th>3</th>\n",
       "      <td>3</td>\n",
       "      <td>Ellis</td>\n",
       "      <td>2019</td>\n",
       "      <td>2 stars</td>\n",
       "      <td>negative</td>\n",
       "      <td>The Service was quite good but the burgers we ...</td>\n",
       "      <td>the service was quite good but the burgers we ...</td>\n",
       "      <td>[the service was quite good but the burgers we...</td>\n",
       "      <td>[service, quite, good, burger, ordered, small,...</td>\n",
       "    </tr>\n",
       "    <tr>\n",
       "      <th>4</th>\n",
       "      <td>4</td>\n",
       "      <td>Ellis</td>\n",
       "      <td>2020</td>\n",
       "      <td>5 stars</td>\n",
       "      <td>positive</td>\n",
       "      <td>I had a very nice experience! The staff were r...</td>\n",
       "      <td>i had a very nice experience! the staff were r...</td>\n",
       "      <td>[i had a very nice experience!, the staff were...</td>\n",
       "      <td>[nice, experience, staff, really, nice, kind, ...</td>\n",
       "    </tr>\n",
       "  </tbody>\n",
       "</table>\n",
       "</div>"
      ],
      "text/plain": [
       "   Venue Index   Name  Date     Rating Rating Sent  \\\n",
       "0            0  Ellis  2019   5 stars     positive   \n",
       "1            1  Ellis  2020   5 stars     positive   \n",
       "2            2  Ellis  2019   5 stars     positive   \n",
       "3            3  Ellis  2019   2 stars     negative   \n",
       "4            4  Ellis  2020   5 stars     positive   \n",
       "\n",
       "                                                Text  \\\n",
       "0  It was a bit quite when we went in, but don’t ...   \n",
       "1  Nice cozy place which serves very tasty burger...   \n",
       "2  Really nice place. One of my favourite burger ...   \n",
       "3  The Service was quite good but the burgers we ...   \n",
       "4  I had a very nice experience! The staff were r...   \n",
       "\n",
       "                                        Cleaned Text  \\\n",
       "0  it was a bit quite when we went in, but do not...   \n",
       "1  nice cozy place which serves very tasty burger...   \n",
       "2  really nice place. one of my favourite burger ...   \n",
       "3  the service was quite good but the burgers we ...   \n",
       "4  i had a very nice experience! the staff were r...   \n",
       "\n",
       "                                           Sentences  \\\n",
       "0  [it was a bit quite when we went in, but do no...   \n",
       "1  [nice cozy place which serves very tasty burge...   \n",
       "2  [really nice place., one of my favourite burge...   \n",
       "3  [the service was quite good but the burgers we...   \n",
       "4  [i had a very nice experience!, the staff were...   \n",
       "\n",
       "                                               Words  \n",
       "0  [bit, quite, went, let, fool, ever, case, litt...  \n",
       "1  [nice, cozy, place, serf, tasty, burger, staff...  \n",
       "2  [really, nice, place, one, favourite, burger, ...  \n",
       "3  [service, quite, good, burger, ordered, small,...  \n",
       "4  [nice, experience, staff, really, nice, kind, ...  "
      ]
     },
     "execution_count": 20,
     "metadata": {},
     "output_type": "execute_result"
    }
   ],
   "source": [
    "%%time\n",
    "data[\"Words\"] = data[\"Words\"].apply(lemmatize_string)\n",
    "data.head()"
   ]
  },
  {
   "cell_type": "code",
   "execution_count": 21,
   "id": "922e15c7",
   "metadata": {},
   "outputs": [],
   "source": [
    "# Save the data\n",
    "data.to_csv(\"./Data/preprocessed_data.csv\")"
   ]
  },
  {
   "cell_type": "markdown",
   "id": "7b325801",
   "metadata": {},
   "source": [
    "## EDA"
   ]
  },
  {
   "cell_type": "code",
   "execution_count": 22,
   "id": "82d38e26",
   "metadata": {},
   "outputs": [
    {
     "name": "stdout",
     "output_type": "stream",
     "text": [
      "Nr. reviews containing 'wheelchair': 108\n",
      "Nr. reviews containing 'ramp': 358\n",
      "Nr. reviews containing 'disabled': 54\n",
      "Nr. reviews containing 'stairs': 1290\n",
      "Nr. reviews containing 'steps': 111\n",
      "Nr. reviews containing 'step': 111\n",
      "Nr. reviews containing 'disability': 2\n",
      "Nr. reviews containing 'narrow entrance': 2\n",
      "Nr. reviews containing 'wide entrance': 1\n",
      "Nr. reviews containing 'small entrance': 0\n",
      "Nr. reviews containing 'narrow door': 0\n",
      "Nr. reviews containing 'wide door': 0\n",
      "Nr. reviews containing 'accessible toilet': 3\n",
      "Nr. reviews containing 'accessible bathroom': 2\n",
      "Nr. reviews containing 'elevator': 34\n",
      "Nr. reviews containing 'handicap': 19\n",
      "Nr. reviews containing 'steep': 228\n",
      "Nr. reviews containing 'steep stairs': 39\n",
      "Nr. reviews containing 'narrow stairs': 10\n",
      "Nr. reviews containing 'small stairs': 0\n",
      "Nr. reviews containing 'dangerous stairs': 2\n",
      "Nr. reviews containing 'slippery': 13\n"
     ]
    }
   ],
   "source": [
    "# Find the number of reviews that contain a specific word\n",
    "print(\"Nr. reviews containing 'wheelchair':\", data[data[\"Text\"].str.contains(\"wheelchair\")].shape[0])\n",
    "print(\"Nr. reviews containing 'ramp':\", data[data[\"Text\"].str.contains(\"ramp\")].shape[0])\n",
    "print(\"Nr. reviews containing 'disabled':\", data[data[\"Text\"].str.contains(\"disabled\")].shape[0])\n",
    "print(\"Nr. reviews containing 'stairs':\", data[data[\"Text\"].str.contains(\"stairs\")].shape[0])\n",
    "print(\"Nr. reviews containing 'steps':\", data[data[\"Text\"].str.contains(\"steps\")].shape[0])\n",
    "print(\"Nr. reviews containing 'step':\", data[data[\"Text\"].str.contains(\"steps\")].shape[0])\n",
    "print(\"Nr. reviews containing 'disability':\", data[data[\"Text\"].str.contains(\"disability\")].shape[0])\n",
    "print(\"Nr. reviews containing 'narrow entrance':\", data[data[\"Text\"].str.contains(\"narrow entrance\")].shape[0])\n",
    "print(\"Nr. reviews containing 'wide entrance':\", data[data[\"Text\"].str.contains(\"wide entrance\")].shape[0])\n",
    "print(\"Nr. reviews containing 'small entrance':\", data[data[\"Text\"].str.contains(\"small entrance\")].shape[0])\n",
    "print(\"Nr. reviews containing 'narrow door':\", data[data[\"Text\"].str.contains(\"narrow door\")].shape[0])\n",
    "print(\"Nr. reviews containing 'wide door':\", data[data[\"Text\"].str.contains(\"wide door\")].shape[0])\n",
    "print(\"Nr. reviews containing 'accessible toilet':\", data[data[\"Text\"].str.contains(\"accessible toilet\")].shape[0])\n",
    "print(\"Nr. reviews containing 'accessible bathroom':\", data[data[\"Text\"].str.contains(\"accessible bathroom\")].shape[0])\n",
    "print(\"Nr. reviews containing 'elevator':\", data[data[\"Text\"].str.contains(\"elevator\")].shape[0])\n",
    "print(\"Nr. reviews containing 'handicap':\", data[data[\"Text\"].str.contains(\"handicap\")].shape[0])\n",
    "print(\"Nr. reviews containing 'steep':\", data[data[\"Text\"].str.contains(\"steep\")].shape[0])\n",
    "print(\"Nr. reviews containing 'steep stairs':\", data[data[\"Text\"].str.contains(\"steep stairs\")].shape[0])\n",
    "print(\"Nr. reviews containing 'narrow stairs':\", data[data[\"Text\"].str.contains(\"narrow stairs\")].shape[0])\n",
    "print(\"Nr. reviews containing 'small stairs':\", data[data[\"Text\"].str.contains(\"small stairs\")].shape[0])\n",
    "print(\"Nr. reviews containing 'dangerous stairs':\", data[data[\"Text\"].str.contains(\"dangerous stairs\")].shape[0])\n",
    "print(\"Nr. reviews containing 'slippery':\", data[data[\"Text\"].str.contains(\"slippery\")].shape[0])"
   ]
  },
  {
   "cell_type": "code",
   "execution_count": null,
   "id": "5207bfdd",
   "metadata": {},
   "outputs": [],
   "source": []
  },
  {
   "cell_type": "markdown",
   "id": "0228535d",
   "metadata": {},
   "source": [
    "## Training and Test data"
   ]
  },
  {
   "cell_type": "code",
   "execution_count": 23,
   "id": "fed909dd",
   "metadata": {},
   "outputs": [
    {
     "data": {
      "text/plain": [
       "(403843, 9)"
      ]
     },
     "execution_count": 23,
     "metadata": {},
     "output_type": "execute_result"
    }
   ],
   "source": [
    "data.shape"
   ]
  },
  {
   "cell_type": "code",
   "execution_count": 24,
   "id": "da01969c",
   "metadata": {},
   "outputs": [
    {
     "data": {
      "text/plain": [
       "323074.4"
      ]
     },
     "execution_count": 24,
     "metadata": {},
     "output_type": "execute_result"
    }
   ],
   "source": [
    "403843*0.8"
   ]
  },
  {
   "cell_type": "code",
   "execution_count": 25,
   "id": "57cb0f7e",
   "metadata": {},
   "outputs": [],
   "source": [
    "shuffled_data = data.sample(frac=1)"
   ]
  },
  {
   "cell_type": "code",
   "execution_count": 26,
   "id": "4b1c2aec",
   "metadata": {},
   "outputs": [],
   "source": [
    "shuffled_data.to_csv(\"./Data/shuffled_data.csv\")"
   ]
  },
  {
   "cell_type": "code",
   "execution_count": 27,
   "id": "913426e4",
   "metadata": {},
   "outputs": [],
   "source": [
    "shuffled_data[\"Accessibility\"] = 0\n",
    "#shuffled_data[\"Aspect\"] = 0"
   ]
  },
  {
   "cell_type": "code",
   "execution_count": 28,
   "id": "ed98ddab",
   "metadata": {},
   "outputs": [],
   "source": [
    "train_data = shuffled_data[:323074]\n",
    "test_data = shuffled_data[323075:]"
   ]
  },
  {
   "cell_type": "code",
   "execution_count": 29,
   "id": "e4c506cd",
   "metadata": {},
   "outputs": [
    {
     "data": {
      "text/html": [
       "<div>\n",
       "<style scoped>\n",
       "    .dataframe tbody tr th:only-of-type {\n",
       "        vertical-align: middle;\n",
       "    }\n",
       "\n",
       "    .dataframe tbody tr th {\n",
       "        vertical-align: top;\n",
       "    }\n",
       "\n",
       "    .dataframe thead th {\n",
       "        text-align: right;\n",
       "    }\n",
       "</style>\n",
       "<table border=\"1\" class=\"dataframe\">\n",
       "  <thead>\n",
       "    <tr style=\"text-align: right;\">\n",
       "      <th></th>\n",
       "      <th>Venue Index</th>\n",
       "      <th>Name</th>\n",
       "      <th>Date</th>\n",
       "      <th>Rating</th>\n",
       "      <th>Rating Sent</th>\n",
       "      <th>Text</th>\n",
       "      <th>Cleaned Text</th>\n",
       "      <th>Sentences</th>\n",
       "      <th>Words</th>\n",
       "      <th>Accessibility</th>\n",
       "    </tr>\n",
       "  </thead>\n",
       "  <tbody>\n",
       "    <tr>\n",
       "      <th>446906</th>\n",
       "      <td>641</td>\n",
       "      <td>Bakers and Roasters</td>\n",
       "      <td>2021</td>\n",
       "      <td>5 stars</td>\n",
       "      <td>positive</td>\n",
       "      <td>(Translated by Google) Extremely delicious foo...</td>\n",
       "      <td>extremely delicious food with a large selecti...</td>\n",
       "      <td>[ extremely delicious food with a large select...</td>\n",
       "      <td>[extremely, delicious, food, large, selection,...</td>\n",
       "      <td>0</td>\n",
       "    </tr>\n",
       "    <tr>\n",
       "      <th>4627</th>\n",
       "      <td>47</td>\n",
       "      <td>il Palio</td>\n",
       "      <td>2020</td>\n",
       "      <td>5 stars</td>\n",
       "      <td>positive</td>\n",
       "      <td>Excellent menu, wine selection and service. We...</td>\n",
       "      <td>excellent menu, wine selection and service. we...</td>\n",
       "      <td>[excellent menu, wine selection and service., ...</td>\n",
       "      <td>[excellent, menu, wine, selection, service, th...</td>\n",
       "      <td>0</td>\n",
       "    </tr>\n",
       "    <tr>\n",
       "      <th>231842</th>\n",
       "      <td>437</td>\n",
       "      <td>Caf√© Thijssen</td>\n",
       "      <td>2018</td>\n",
       "      <td>5 stars</td>\n",
       "      <td>positive</td>\n",
       "      <td>(Translated by Google) Good atmosphere, good b...</td>\n",
       "      <td>good atmosphere, good beer!</td>\n",
       "      <td>[ good atmosphere, good beer!]</td>\n",
       "      <td>[good, atmosphere, good, beer]</td>\n",
       "      <td>0</td>\n",
       "    </tr>\n",
       "    <tr>\n",
       "      <th>408571</th>\n",
       "      <td>206</td>\n",
       "      <td>Lot Sixty One Coffee Roasters</td>\n",
       "      <td>2018</td>\n",
       "      <td>5 stars</td>\n",
       "      <td>positive</td>\n",
       "      <td>Very nice looking place with a really chill at...</td>\n",
       "      <td>very nice looking place with a really chill at...</td>\n",
       "      <td>[very nice looking place with a really chill a...</td>\n",
       "      <td>[nice, looking, place, really, chill, atmosphe...</td>\n",
       "      <td>0</td>\n",
       "    </tr>\n",
       "    <tr>\n",
       "      <th>430682</th>\n",
       "      <td>47</td>\n",
       "      <td>Tijger &amp; de Vis</td>\n",
       "      <td>2019</td>\n",
       "      <td>5 stars</td>\n",
       "      <td>positive</td>\n",
       "      <td>Kibbeling is Very Delicious (Kibbeling is a Du...</td>\n",
       "      <td>kibbeling is very delicious (kibbeling is a du...</td>\n",
       "      <td>[kibbeling is very delicious (kibbeling is a d...</td>\n",
       "      <td>[kibbeling, delicious, kibbeling, dutch, snack...</td>\n",
       "      <td>0</td>\n",
       "    </tr>\n",
       "  </tbody>\n",
       "</table>\n",
       "</div>"
      ],
      "text/plain": [
       "        Venue Index                           Name  Date     Rating  \\\n",
       "446906          641            Bakers and Roasters  2021   5 stars    \n",
       "4627             47                       il Palio  2020   5 stars    \n",
       "231842          437                 Caf√© Thijssen  2018   5 stars    \n",
       "408571          206  Lot Sixty One Coffee Roasters  2018   5 stars    \n",
       "430682           47                Tijger & de Vis  2019   5 stars    \n",
       "\n",
       "       Rating Sent                                               Text  \\\n",
       "446906    positive  (Translated by Google) Extremely delicious foo...   \n",
       "4627      positive  Excellent menu, wine selection and service. We...   \n",
       "231842    positive  (Translated by Google) Good atmosphere, good b...   \n",
       "408571    positive  Very nice looking place with a really chill at...   \n",
       "430682    positive  Kibbeling is Very Delicious (Kibbeling is a Du...   \n",
       "\n",
       "                                             Cleaned Text  \\\n",
       "446906   extremely delicious food with a large selecti...   \n",
       "4627    excellent menu, wine selection and service. we...   \n",
       "231842                        good atmosphere, good beer!   \n",
       "408571  very nice looking place with a really chill at...   \n",
       "430682  kibbeling is very delicious (kibbeling is a du...   \n",
       "\n",
       "                                                Sentences  \\\n",
       "446906  [ extremely delicious food with a large select...   \n",
       "4627    [excellent menu, wine selection and service., ...   \n",
       "231842                     [ good atmosphere, good beer!]   \n",
       "408571  [very nice looking place with a really chill a...   \n",
       "430682  [kibbeling is very delicious (kibbeling is a d...   \n",
       "\n",
       "                                                    Words  Accessibility  \n",
       "446906  [extremely, delicious, food, large, selection,...              0  \n",
       "4627    [excellent, menu, wine, selection, service, th...              0  \n",
       "231842                     [good, atmosphere, good, beer]              0  \n",
       "408571  [nice, looking, place, really, chill, atmosphe...              0  \n",
       "430682  [kibbeling, delicious, kibbeling, dutch, snack...              0  "
      ]
     },
     "execution_count": 29,
     "metadata": {},
     "output_type": "execute_result"
    }
   ],
   "source": [
    "train_data.head()"
   ]
  },
  {
   "cell_type": "code",
   "execution_count": 30,
   "id": "78ede8b4",
   "metadata": {},
   "outputs": [],
   "source": [
    "# Save data\n",
    "train_data.to_csv(\"./Data/train_data.csv\")\n",
    "test_data.to_csv(\"./Data/test_data.csv\")"
   ]
  },
  {
   "cell_type": "markdown",
   "id": "a46e6bd8",
   "metadata": {},
   "source": [
    "## Text Classification"
   ]
  },
  {
   "cell_type": "markdown",
   "id": "46de1e35",
   "metadata": {},
   "source": [
    "### Rule-based System"
   ]
  },
  {
   "cell_type": "code",
   "execution_count": 31,
   "id": "00af8584",
   "metadata": {},
   "outputs": [],
   "source": [
    "# Groups: discusses accessibility, does not disbuss accessibility\n",
    "\n",
    "# Accessibility vocabulary\n",
    "general_words =[\"wheelchair\", \"disability\", \"disabled\", \"handicap\", \"mobility\"]\n",
    "venue_words = [\"entrance\", \" stairs\", \"door\", \" staircase\", \"toilet\", \"bathroom\",\n",
    "               \"restroom\", \"elevator\", \" ramp \", \"steps\"]\n",
    "description_words = [\"cramped\", \"narrow\", \"small\", \"steep\", \"wide\", \"spacious\",\n",
    "                     \" downstairs\", \" upstairs\", \" stairs\", \" staircase\", \"ramp\", \"steps\"]"
   ]
  },
  {
   "cell_type": "code",
   "execution_count": 47,
   "id": "9d3445ae",
   "metadata": {},
   "outputs": [],
   "source": [
    "def accessibility_classification(text):\n",
    "    '''Classifies sentences based on accessibility vocabilary.'''\n",
    "    \n",
    "    acc_list = []\n",
    "    \n",
    "    for s in text:\n",
    "        if any(word in s for word in general_words):\n",
    "            classify = 1\n",
    "        elif any(word in s for word in venue_words) and any(word in s for word in description_words):\n",
    "            classify = 1\n",
    "        else:\n",
    "            classify = 0\n",
    "        acc_list.append(classify)\n",
    "    \n",
    "    text = acc_list\n",
    "\n",
    "    return text\n",
    "\n",
    "def "
   ]
  },
  {
   "cell_type": "code",
   "execution_count": 49,
   "id": "8d4c307c",
   "metadata": {},
   "outputs": [
    {
     "name": "stdout",
     "output_type": "stream",
     "text": [
      "CPU times: user 2.16 s, sys: 340 ms, total: 2.5 s\n",
      "Wall time: 2.58 s\n"
     ]
    },
    {
     "name": "stderr",
     "output_type": "stream",
     "text": [
      "<timed exec>:1: SettingWithCopyWarning: \n",
      "A value is trying to be set on a copy of a slice from a DataFrame.\n",
      "Try using .loc[row_indexer,col_indexer] = value instead\n",
      "\n",
      "See the caveats in the documentation: https://pandas.pydata.org/pandas-docs/stable/user_guide/indexing.html#returning-a-view-versus-a-copy\n"
     ]
    },
    {
     "data": {
      "text/html": [
       "<div>\n",
       "<style scoped>\n",
       "    .dataframe tbody tr th:only-of-type {\n",
       "        vertical-align: middle;\n",
       "    }\n",
       "\n",
       "    .dataframe tbody tr th {\n",
       "        vertical-align: top;\n",
       "    }\n",
       "\n",
       "    .dataframe thead th {\n",
       "        text-align: right;\n",
       "    }\n",
       "</style>\n",
       "<table border=\"1\" class=\"dataframe\">\n",
       "  <thead>\n",
       "    <tr style=\"text-align: right;\">\n",
       "      <th></th>\n",
       "      <th>Venue Index</th>\n",
       "      <th>Name</th>\n",
       "      <th>Date</th>\n",
       "      <th>Rating</th>\n",
       "      <th>Rating Sent</th>\n",
       "      <th>Text</th>\n",
       "      <th>Cleaned Text</th>\n",
       "      <th>Sentences</th>\n",
       "      <th>Words</th>\n",
       "      <th>Accessibility</th>\n",
       "    </tr>\n",
       "  </thead>\n",
       "  <tbody>\n",
       "    <tr>\n",
       "      <th>446906</th>\n",
       "      <td>641</td>\n",
       "      <td>Bakers and Roasters</td>\n",
       "      <td>2021</td>\n",
       "      <td>5 stars</td>\n",
       "      <td>positive</td>\n",
       "      <td>(Translated by Google) Extremely delicious foo...</td>\n",
       "      <td>extremely delicious food with a large selecti...</td>\n",
       "      <td>[ extremely delicious food with a large select...</td>\n",
       "      <td>[extremely, delicious, food, large, selection,...</td>\n",
       "      <td>[0, 0, 0]</td>\n",
       "    </tr>\n",
       "    <tr>\n",
       "      <th>4627</th>\n",
       "      <td>47</td>\n",
       "      <td>il Palio</td>\n",
       "      <td>2020</td>\n",
       "      <td>5 stars</td>\n",
       "      <td>positive</td>\n",
       "      <td>Excellent menu, wine selection and service. We...</td>\n",
       "      <td>excellent menu, wine selection and service. we...</td>\n",
       "      <td>[excellent menu, wine selection and service., ...</td>\n",
       "      <td>[excellent, menu, wine, selection, service, th...</td>\n",
       "      <td>[0, 0, 0, 0, 0]</td>\n",
       "    </tr>\n",
       "    <tr>\n",
       "      <th>231842</th>\n",
       "      <td>437</td>\n",
       "      <td>Caf√© Thijssen</td>\n",
       "      <td>2018</td>\n",
       "      <td>5 stars</td>\n",
       "      <td>positive</td>\n",
       "      <td>(Translated by Google) Good atmosphere, good b...</td>\n",
       "      <td>good atmosphere, good beer!</td>\n",
       "      <td>[ good atmosphere, good beer!]</td>\n",
       "      <td>[good, atmosphere, good, beer]</td>\n",
       "      <td>[0]</td>\n",
       "    </tr>\n",
       "    <tr>\n",
       "      <th>408571</th>\n",
       "      <td>206</td>\n",
       "      <td>Lot Sixty One Coffee Roasters</td>\n",
       "      <td>2018</td>\n",
       "      <td>5 stars</td>\n",
       "      <td>positive</td>\n",
       "      <td>Very nice looking place with a really chill at...</td>\n",
       "      <td>very nice looking place with a really chill at...</td>\n",
       "      <td>[very nice looking place with a really chill a...</td>\n",
       "      <td>[nice, looking, place, really, chill, atmosphe...</td>\n",
       "      <td>[0, 0, 0]</td>\n",
       "    </tr>\n",
       "    <tr>\n",
       "      <th>430682</th>\n",
       "      <td>47</td>\n",
       "      <td>Tijger &amp; de Vis</td>\n",
       "      <td>2019</td>\n",
       "      <td>5 stars</td>\n",
       "      <td>positive</td>\n",
       "      <td>Kibbeling is Very Delicious (Kibbeling is a Du...</td>\n",
       "      <td>kibbeling is very delicious (kibbeling is a du...</td>\n",
       "      <td>[kibbeling is very delicious (kibbeling is a d...</td>\n",
       "      <td>[kibbeling, delicious, kibbeling, dutch, snack...</td>\n",
       "      <td>[0, 0]</td>\n",
       "    </tr>\n",
       "  </tbody>\n",
       "</table>\n",
       "</div>"
      ],
      "text/plain": [
       "        Venue Index                           Name  Date     Rating  \\\n",
       "446906          641            Bakers and Roasters  2021   5 stars    \n",
       "4627             47                       il Palio  2020   5 stars    \n",
       "231842          437                 Caf√© Thijssen  2018   5 stars    \n",
       "408571          206  Lot Sixty One Coffee Roasters  2018   5 stars    \n",
       "430682           47                Tijger & de Vis  2019   5 stars    \n",
       "\n",
       "       Rating Sent                                               Text  \\\n",
       "446906    positive  (Translated by Google) Extremely delicious foo...   \n",
       "4627      positive  Excellent menu, wine selection and service. We...   \n",
       "231842    positive  (Translated by Google) Good atmosphere, good b...   \n",
       "408571    positive  Very nice looking place with a really chill at...   \n",
       "430682    positive  Kibbeling is Very Delicious (Kibbeling is a Du...   \n",
       "\n",
       "                                             Cleaned Text  \\\n",
       "446906   extremely delicious food with a large selecti...   \n",
       "4627    excellent menu, wine selection and service. we...   \n",
       "231842                        good atmosphere, good beer!   \n",
       "408571  very nice looking place with a really chill at...   \n",
       "430682  kibbeling is very delicious (kibbeling is a du...   \n",
       "\n",
       "                                                Sentences  \\\n",
       "446906  [ extremely delicious food with a large select...   \n",
       "4627    [excellent menu, wine selection and service., ...   \n",
       "231842                     [ good atmosphere, good beer!]   \n",
       "408571  [very nice looking place with a really chill a...   \n",
       "430682  [kibbeling is very delicious (kibbeling is a d...   \n",
       "\n",
       "                                                    Words    Accessibility  \n",
       "446906  [extremely, delicious, food, large, selection,...        [0, 0, 0]  \n",
       "4627    [excellent, menu, wine, selection, service, th...  [0, 0, 0, 0, 0]  \n",
       "231842                     [good, atmosphere, good, beer]              [0]  \n",
       "408571  [nice, looking, place, really, chill, atmosphe...        [0, 0, 0]  \n",
       "430682  [kibbeling, delicious, kibbeling, dutch, snack...           [0, 0]  "
      ]
     },
     "execution_count": 49,
     "metadata": {},
     "output_type": "execute_result"
    }
   ],
   "source": [
    "%%time\n",
    "train_data[\"Accessibility\"] = train_data[\"Sentences\"].apply(accessibility_classification)\n",
    "train_data.head()"
   ]
  },
  {
   "cell_type": "code",
   "execution_count": 53,
   "id": "30f83b4a",
   "metadata": {},
   "outputs": [],
   "source": [
    "# Save data\n",
    "train_data.to_csv(\"./Data/labelled_train_data.csv\")"
   ]
  },
  {
   "cell_type": "code",
   "execution_count": 83,
   "id": "ff90a19a",
   "metadata": {},
   "outputs": [],
   "source": [
    "# Create a new DataFrame that only contains accessibility sentences.\n",
    "filtered_train_data = train_data.copy()"
   ]
  },
  {
   "cell_type": "code",
   "execution_count": 85,
   "id": "888e1c1c",
   "metadata": {},
   "outputs": [],
   "source": [
    "def filter_data(text):\n",
    "    '''Returns 1 if accessibility list contains a 1.'''\n",
    "    \n",
    "    if 1 in text:\n",
    "        return 1"
   ]
  },
  {
   "cell_type": "code",
   "execution_count": 86,
   "id": "2b171767",
   "metadata": {},
   "outputs": [
    {
     "name": "stdout",
     "output_type": "stream",
     "text": [
      "CPU times: user 110 ms, sys: 27.8 ms, total: 138 ms\n",
      "Wall time: 149 ms\n"
     ]
    }
   ],
   "source": [
    "%%time\n",
    "filtered_train_data[\"Bool Accessibility\"] = filtered_train_data[\"Accessibility\"].apply(filter_data)"
   ]
  },
  {
   "cell_type": "code",
   "execution_count": 89,
   "id": "632468b6",
   "metadata": {},
   "outputs": [],
   "source": [
    "# Filter data based on whether it contains a sentence that discusses accessibility\n",
    "filtered_train_data = filtered_train_data[filtered_train_data[\"Bool Accessibility\"]==1]"
   ]
  },
  {
   "cell_type": "code",
   "execution_count": 96,
   "id": "0a528e58",
   "metadata": {},
   "outputs": [],
   "source": [
    "def get_index_positions(list_of_elems, element):\n",
    "    ''' Returns the indexes of all occurrences of give element in\n",
    "    the list- listOfElements '''\n",
    "    index_pos_list = []\n",
    "    index_pos = 0\n",
    "    while True:\n",
    "        try:\n",
    "            # Search for item in list from indexPos to the end of list\n",
    "            index_pos = list_of_elems.index(element, index_pos)\n",
    "            # Add the index position in list\n",
    "            index_pos_list.append(index_pos)\n",
    "            index_pos += 1\n",
    "        except ValueError as e:\n",
    "            break\n",
    "    return index_pos_list"
   ]
  },
  {
   "cell_type": "code",
   "execution_count": 124,
   "id": "73609dd4",
   "metadata": {},
   "outputs": [],
   "source": [
    "def filter_sent():\n",
    "    \n",
    "    sentence_lst = []\n",
    "    name_lst = []\n",
    "    \n",
    "    for sentences in filtered_train_data[\"Sentences\"]:\n",
    "        row = \n",
    "        \n",
    "        for acc in filtered_train_data[\"Accessibility\"]:\n",
    "            ind_lst = get_index_positions(acc, 1)\n",
    "        \n",
    "        for ind in ind_lst:\n",
    "            sentence_lst.append(sentences[ind])\n",
    "            name_lst.append(filtered_train_data[\"Name\"])\n",
    "                  \n",
    "    return sentence_lst"
   ]
  },
  {
   "cell_type": "code",
   "execution_count": 125,
   "id": "b7c11514",
   "metadata": {},
   "outputs": [],
   "source": [
    "filtered_sentence_lst = filter_sent()"
   ]
  },
  {
   "cell_type": "code",
   "execution_count": 141,
   "id": "1ddf15a8",
   "metadata": {},
   "outputs": [
    {
     "data": {
      "text/html": [
       "<div>\n",
       "<style scoped>\n",
       "    .dataframe tbody tr th:only-of-type {\n",
       "        vertical-align: middle;\n",
       "    }\n",
       "\n",
       "    .dataframe tbody tr th {\n",
       "        vertical-align: top;\n",
       "    }\n",
       "\n",
       "    .dataframe thead th {\n",
       "        text-align: right;\n",
       "    }\n",
       "</style>\n",
       "<table border=\"1\" class=\"dataframe\">\n",
       "  <thead>\n",
       "    <tr style=\"text-align: right;\">\n",
       "      <th></th>\n",
       "      <th>Name</th>\n",
       "      <th>Sentence</th>\n",
       "    </tr>\n",
       "  </thead>\n",
       "  <tbody>\n",
       "    <tr>\n",
       "      <th>0</th>\n",
       "      <td>NaN</td>\n",
       "      <td>great place and the breakfast is delicious, h...</td>\n",
       "    </tr>\n",
       "    <tr>\n",
       "      <th>1</th>\n",
       "      <td>NaN</td>\n",
       "      <td>the stairs are a little steep!but that s fine!</td>\n",
       "    </tr>\n",
       "    <tr>\n",
       "      <th>2</th>\n",
       "      <td>NaN</td>\n",
       "      <td>of the beautiful cafes in amsterdam, the plac...</td>\n",
       "    </tr>\n",
       "    <tr>\n",
       "      <th>3</th>\n",
       "      <td>NaN</td>\n",
       "      <td>delicious food, restaurant adapted to mentall...</td>\n",
       "    </tr>\n",
       "    <tr>\n",
       "      <th>4</th>\n",
       "      <td>NaN</td>\n",
       "      <td>location 2 steps from the center, but not cro...</td>\n",
       "    </tr>\n",
       "  </tbody>\n",
       "</table>\n",
       "</div>"
      ],
      "text/plain": [
       "  Name                                           Sentence\n",
       "0  NaN   great place and the breakfast is delicious, h...\n",
       "1  NaN     the stairs are a little steep!but that s fine!\n",
       "2  NaN   of the beautiful cafes in amsterdam, the plac...\n",
       "3  NaN   delicious food, restaurant adapted to mentall...\n",
       "4  NaN   location 2 steps from the center, but not cro..."
      ]
     },
     "execution_count": 141,
     "metadata": {},
     "output_type": "execute_result"
    }
   ],
   "source": [
    "accessibility_df = pd.DataFrame(columns=[\"Name\", \"Sentence\"])\n",
    "accessibility_df[\"Sentence\"] = filtered_sentence_lst\n",
    "accessibility_df.head()"
   ]
  },
  {
   "cell_type": "code",
   "execution_count": 142,
   "id": "7f268803",
   "metadata": {},
   "outputs": [
    {
     "data": {
      "text/plain": [
       "(752, 2)"
      ]
     },
     "execution_count": 142,
     "metadata": {},
     "output_type": "execute_result"
    }
   ],
   "source": [
    "accessibility_df.shape"
   ]
  },
  {
   "cell_type": "markdown",
   "id": "c749f098",
   "metadata": {},
   "source": [
    "## LDA"
   ]
  },
  {
   "cell_type": "code",
   "execution_count": 143,
   "id": "ef69dc5e",
   "metadata": {},
   "outputs": [
    {
     "data": {
      "text/html": [
       "<div>\n",
       "<style scoped>\n",
       "    .dataframe tbody tr th:only-of-type {\n",
       "        vertical-align: middle;\n",
       "    }\n",
       "\n",
       "    .dataframe tbody tr th {\n",
       "        vertical-align: top;\n",
       "    }\n",
       "\n",
       "    .dataframe thead th {\n",
       "        text-align: right;\n",
       "    }\n",
       "</style>\n",
       "<table border=\"1\" class=\"dataframe\">\n",
       "  <thead>\n",
       "    <tr style=\"text-align: right;\">\n",
       "      <th></th>\n",
       "      <th>Name</th>\n",
       "      <th>Sentence</th>\n",
       "      <th>Clean Sentence</th>\n",
       "    </tr>\n",
       "  </thead>\n",
       "  <tbody>\n",
       "    <tr>\n",
       "      <th>0</th>\n",
       "      <td>NaN</td>\n",
       "      <td>great place and the breakfast is delicious, h...</td>\n",
       "      <td>great place and the breakfast is delicious ho...</td>\n",
       "    </tr>\n",
       "    <tr>\n",
       "      <th>1</th>\n",
       "      <td>NaN</td>\n",
       "      <td>the stairs are a little steep!but that s fine!</td>\n",
       "      <td>the stairs are a little steepbut that s fine</td>\n",
       "    </tr>\n",
       "    <tr>\n",
       "      <th>2</th>\n",
       "      <td>NaN</td>\n",
       "      <td>of the beautiful cafes in amsterdam, the plac...</td>\n",
       "      <td>of the beautiful cafes in amsterdam the place...</td>\n",
       "    </tr>\n",
       "    <tr>\n",
       "      <th>3</th>\n",
       "      <td>NaN</td>\n",
       "      <td>delicious food, restaurant adapted to mentall...</td>\n",
       "      <td>delicious food restaurant adapted to mentally...</td>\n",
       "    </tr>\n",
       "    <tr>\n",
       "      <th>4</th>\n",
       "      <td>NaN</td>\n",
       "      <td>location 2 steps from the center, but not cro...</td>\n",
       "      <td>location 2 steps from the center but not crow...</td>\n",
       "    </tr>\n",
       "  </tbody>\n",
       "</table>\n",
       "</div>"
      ],
      "text/plain": [
       "  Name                                           Sentence  \\\n",
       "0  NaN   great place and the breakfast is delicious, h...   \n",
       "1  NaN     the stairs are a little steep!but that s fine!   \n",
       "2  NaN   of the beautiful cafes in amsterdam, the plac...   \n",
       "3  NaN   delicious food, restaurant adapted to mentall...   \n",
       "4  NaN   location 2 steps from the center, but not cro...   \n",
       "\n",
       "                                      Clean Sentence  \n",
       "0   great place and the breakfast is delicious ho...  \n",
       "1       the stairs are a little steepbut that s fine  \n",
       "2   of the beautiful cafes in amsterdam the place...  \n",
       "3   delicious food restaurant adapted to mentally...  \n",
       "4   location 2 steps from the center but not crow...  "
      ]
     },
     "execution_count": 143,
     "metadata": {},
     "output_type": "execute_result"
    }
   ],
   "source": [
    "# Load the regular expression library\n",
    "import re\n",
    "# Remove punctuation\n",
    "accessibility_df['Clean Sentence'] = \\\n",
    "accessibility_df['Clean Sentence'] = accessibility_df['Sentence'].map(lambda x: re.sub('[,\\.!?]', '', x))\n",
    "# Convert the titles to lowercase\n",
    "accessibility_df['Clean Sentence'] = \\\n",
    "accessibility_df['Clean Sentence'].map(lambda x: x.lower())\n",
    "accessibility_df.head()"
   ]
  },
  {
   "cell_type": "code",
   "execution_count": 134,
   "id": "9e20cd24",
   "metadata": {},
   "outputs": [
    {
     "data": {
      "image/png": "[encoded data removed]",
      "text/plain": [
       "<PIL.Image.Image image mode=RGB size=400x200 at 0x7F82ED309160>"
      ]
     },
     "execution_count": 134,
     "metadata": {},
     "output_type": "execute_result"
    }
   ],
   "source": [
    "# Import the wordcloud library\n",
    "from wordcloud import WordCloud\n",
    "\n",
    "# Join the different processed titles together.\n",
    "long_string = ','.join(list(accessibility_df['Clean Sentence'].values))\n",
    "# Create a WordCloud object\n",
    "wordcloud = WordCloud(background_color=\"white\", max_words=5000, contour_width=3, contour_color='steelblue')\n",
    "# Generate a word cloud\n",
    "wordcloud.generate(long_string)\n",
    "# Visualize the word cloud\n",
    "wordcloud.to_image()"
   ]
  },
  {
   "cell_type": "code",
   "execution_count": 150,
   "id": "a3f97e8e",
   "metadata": {},
   "outputs": [],
   "source": [
    "def sent_to_words(sentences):\n",
    "    for sentence in sentences:\n",
    "        yield(gensim.utils.simple_preprocess(str(sentence), deacc=True))  # deacc=True removes punctuations\n",
    "        \n",
    "def remove_stopwords(texts):\n",
    "    return [[word for word in simple_preprocess(str(doc)) if word not in stop_words] for doc in texts]"
   ]
  },
  {
   "cell_type": "code",
   "execution_count": 151,
   "id": "bcee3c74",
   "metadata": {},
   "outputs": [
    {
     "name": "stdout",
     "output_type": "stream",
     "text": [
      "['great', 'place', 'breakfast', 'delicious', 'however', 'toilets', 'bit', 'grim']\n"
     ]
    }
   ],
   "source": [
    "import string\n",
    "import gensim\n",
    "from gensim.utils import simple_preprocess\n",
    "\n",
    "import nltk\n",
    "#nltk.download('stopwords')\n",
    "from nltk.corpus import stopwords\n",
    "from nltk.tokenize import word_tokenize\n",
    "from nltk.stem import WordNetLemmatizer\n",
    "lemmatizer = WordNetLemmatizer()\n",
    "\n",
    "from sklearn.feature_extraction.text import CountVectorizer\n",
    "\n",
    "accessibility_df = accessibility_df.rename(columns={\"Clean Sentence\": \"clean_sentence\"})\n",
    "\n",
    "accessibility_df_lst = accessibility_df.clean_sentence.values.tolist()\n",
    "accessibility_df_words = list(sent_to_words(accessibility_df_lst))\n",
    "# remove stop words\n",
    "accessibility_df_words = remove_stopwords(accessibility_df_words)\n",
    "print(accessibility_df_words[:1][0][:30])"
   ]
  },
  {
   "cell_type": "code",
   "execution_count": 153,
   "id": "0d8f5c55",
   "metadata": {},
   "outputs": [
    {
     "name": "stdout",
     "output_type": "stream",
     "text": [
      "[(0, 1), (1, 1), (2, 1), (3, 1), (4, 1), (5, 1), (6, 1), (7, 1)]\n"
     ]
    }
   ],
   "source": [
    "import gensim.corpora as corpora\n",
    "# Create Dictionary\n",
    "id2word = corpora.Dictionary(accessibility_df_words)\n",
    "# Create Corpus\n",
    "texts = accessibility_df_words\n",
    "# Term Document Frequency\n",
    "corpus = [id2word.doc2bow(text) for text in texts]\n",
    "# View\n",
    "print(corpus[:1][0][:30])"
   ]
  },
  {
   "cell_type": "code",
   "execution_count": 154,
   "id": "78a835e4",
   "metadata": {},
   "outputs": [
    {
     "name": "stdout",
     "output_type": "stream",
     "text": [
      "[(0,\n",
      "  '0.023*\"small\" + 0.022*\"cafe\" + 0.019*\"great\" + 0.019*\"toilet\" + '\n",
      "  '0.019*\"nice\" + 0.018*\"place\" + 0.017*\"steps\" + 0.013*\"cozy\" + '\n",
      "  '0.010*\"upstairs\" + 0.010*\"time\"'),\n",
      " (1,\n",
      "  '0.029*\"food\" + 0.019*\"service\" + 0.018*\"toilet\" + 0.016*\"great\" + '\n",
      "  '0.015*\"disabled\" + 0.013*\"tasty\" + 0.011*\"went\" + 0.010*\"wheelchair\" + '\n",
      "  '0.010*\"friendly\" + 0.008*\"steps\"'),\n",
      " (2,\n",
      "  '0.033*\"place\" + 0.033*\"good\" + 0.023*\"stairs\" + 0.023*\"food\" + '\n",
      "  '0.015*\"outdoor\" + 0.013*\"seating\" + 0.013*\"nice\" + 0.010*\"steep\" + '\n",
      "  '0.010*\"best\" + 0.010*\"service\"'),\n",
      " (3,\n",
      "  '0.027*\"delicious\" + 0.020*\"nice\" + 0.018*\"pancakes\" + 0.016*\"great\" + '\n",
      "  '0.016*\"food\" + 0.016*\"good\" + 0.015*\"small\" + 0.012*\"outdoor\" + '\n",
      "  '0.012*\"cozy\" + 0.012*\"experience\"'),\n",
      " (4,\n",
      "  '0.037*\"small\" + 0.025*\"good\" + 0.020*\"nice\" + 0.018*\"stairs\" + '\n",
      "  '0.013*\"outdoor\" + 0.013*\"tables\" + 0.011*\"toilet\" + 0.010*\"staff\" + '\n",
      "  '0.010*\"wheelchair\" + 0.010*\"steep\"'),\n",
      " (5,\n",
      "  '0.019*\"place\" + 0.016*\"tasty\" + 0.012*\"staff\" + 0.012*\"great\" + '\n",
      "  '0.012*\"small\" + 0.012*\"super\" + 0.009*\"outdoor\" + 0.009*\"friendly\" + '\n",
      "  '0.009*\"time\" + 0.009*\"food\"'),\n",
      " (6,\n",
      "  '0.025*\"nice\" + 0.020*\"great\" + 0.017*\"stairs\" + 0.014*\"service\" + '\n",
      "  '0.014*\"food\" + 0.011*\"steep\" + 0.011*\"wheelchair\" + 0.011*\"good\" + '\n",
      "  '0.011*\"super\" + 0.011*\"coffee\"'),\n",
      " (7,\n",
      "  '0.033*\"place\" + 0.032*\"great\" + 0.019*\"good\" + 0.014*\"nice\" + '\n",
      "  '0.014*\"wheelchair\" + 0.011*\"pizza\" + 0.011*\"bar\" + 0.011*\"staff\" + '\n",
      "  '0.011*\"friendly\" + 0.011*\"stairs\"'),\n",
      " (8,\n",
      "  '0.027*\"nice\" + 0.018*\"steps\" + 0.015*\"place\" + 0.015*\"amsterdam\" + '\n",
      "  '0.015*\"food\" + 0.015*\"little\" + 0.010*\"great\" + 0.009*\"venue\" + '\n",
      "  '0.009*\"staff\" + 0.009*\"small\"'),\n",
      " (9,\n",
      "  '0.026*\"great\" + 0.020*\"place\" + 0.017*\"stairs\" + 0.017*\"food\" + '\n",
      "  '0.015*\"nice\" + 0.014*\"good\" + 0.013*\"service\" + 0.010*\"friendly\" + '\n",
      "  '0.010*\"little\" + 0.010*\"toilet\"'),\n",
      " (10,\n",
      "  '0.039*\"good\" + 0.021*\"small\" + 0.019*\"clean\" + 0.015*\"coffee\" + '\n",
      "  '0.015*\"delicious\" + 0.015*\"bar\" + 0.015*\"really\" + 0.015*\"restaurant\" + '\n",
      "  '0.012*\"stairs\" + 0.012*\"cozy\"'),\n",
      " (11,\n",
      "  '0.037*\"nice\" + 0.031*\"place\" + 0.022*\"good\" + 0.018*\"people\" + '\n",
      "  '0.018*\"stairs\" + 0.015*\"steep\" + 0.012*\"excellent\" + 0.012*\"coffee\" + '\n",
      "  '0.009*\"little\" + 0.009*\"friendly\"'),\n",
      " (12,\n",
      "  '0.025*\"friendly\" + 0.024*\"restaurant\" + 0.020*\"stairs\" + 0.018*\"staff\" + '\n",
      "  '0.016*\"small\" + 0.015*\"nice\" + 0.013*\"service\" + 0.010*\"steps\" + '\n",
      "  '0.010*\"seating\" + 0.010*\"outdoor\"'),\n",
      " (13,\n",
      "  '0.031*\"place\" + 0.029*\"nice\" + 0.022*\"good\" + 0.019*\"food\" + '\n",
      "  '0.017*\"delicious\" + 0.017*\"small\" + 0.012*\"atmosphere\" + 0.011*\"excellent\" '\n",
      "  '+ 0.010*\"really\" + 0.010*\"great\"'),\n",
      " (14,\n",
      "  '0.022*\"small\" + 0.019*\"delicious\" + 0.018*\"place\" + 0.016*\"toilet\" + '\n",
      "  '0.013*\"wheelchair\" + 0.013*\"accessible\" + 0.013*\"also\" + 0.011*\"service\" + '\n",
      "  '0.010*\"toilets\" + 0.010*\"food\"'),\n",
      " (15,\n",
      "  '0.030*\"food\" + 0.020*\"good\" + 0.019*\"place\" + 0.017*\"nice\" + '\n",
      "  '0.013*\"wheelchair\" + 0.013*\"steep\" + 0.010*\"restaurant\" + 0.010*\"table\" + '\n",
      "  '0.010*\"friendly\" + 0.009*\"small\"'),\n",
      " (16,\n",
      "  '0.033*\"food\" + 0.029*\"good\" + 0.027*\"service\" + 0.015*\"bad\" + '\n",
      "  '0.015*\"friendly\" + 0.011*\"restaurant\" + 0.011*\"place\" + 0.009*\"top\" + '\n",
      "  '0.009*\"steps\" + 0.008*\"really\"'),\n",
      " (17,\n",
      "  '0.025*\"good\" + 0.019*\"nice\" + 0.017*\"place\" + 0.016*\"food\" + 0.014*\"really\" '\n",
      "  '+ 0.014*\"amsterdam\" + 0.014*\"stairs\" + 0.011*\"cafe\" + 0.010*\"steps\" + '\n",
      "  '0.008*\"entrance\"'),\n",
      " (18,\n",
      "  '0.018*\"small\" + 0.017*\"steps\" + 0.015*\"cafe\" + 0.015*\"steep\" + '\n",
      "  '0.012*\"stairs\" + 0.012*\"great\" + 0.012*\"restaurant\" + 0.010*\"see\" + '\n",
      "  '0.010*\"go\" + 0.010*\"staircase\"'),\n",
      " (19,\n",
      "  '0.041*\"great\" + 0.034*\"place\" + 0.021*\"nice\" + 0.016*\"good\" + 0.015*\"small\" '\n",
      "  '+ 0.014*\"staff\" + 0.012*\"pancakes\" + 0.012*\"friendly\" + 0.012*\"service\" + '\n",
      "  '0.010*\"toilet\"')]\n"
     ]
    }
   ],
   "source": [
    "from pprint import pprint\n",
    "# number of topics\n",
    "num_topics = 20\n",
    "# Build LDA model\n",
    "lda_model = gensim.models.LdaMulticore(corpus=corpus,\n",
    "                                       id2word=id2word,\n",
    "                                       num_topics=num_topics)\n",
    "# Print the Keyword in the 10 topics\n",
    "pprint(lda_model.print_topics())\n",
    "doc_lda = lda_model[corpus]"
   ]
  },
  {
   "cell_type": "markdown",
   "id": "5cfed211",
   "metadata": {},
   "source": [
    "## Sentiment Analysis"
   ]
  },
  {
   "cell_type": "code",
   "execution_count": 2,
   "id": "5b6e8e3c",
   "metadata": {},
   "outputs": [
    {
     "ename": "NameError",
     "evalue": "name 'train_data' is not defined",
     "output_type": "error",
     "traceback": [
      "\u001b[0;31m---------------------------------------------------------------------------\u001b[0m",
      "\u001b[0;31mNameError\u001b[0m                                 Traceback (most recent call last)",
      "Input \u001b[0;32mIn [2]\u001b[0m, in \u001b[0;36m<cell line: 1>\u001b[0;34m()\u001b[0m\n\u001b[0;32m----> 1\u001b[0m \u001b[43mtrain_data\u001b[49m\u001b[38;5;241m.\u001b[39mhead()\n",
      "\u001b[0;31mNameError\u001b[0m: name 'train_data' is not defined"
     ]
    }
   ],
   "source": [
    "train_data.head()"
   ]
  },
  {
   "cell_type": "code",
   "execution_count": null,
   "id": "f0fbfa8d",
   "metadata": {},
   "outputs": [],
   "source": []
  },
  {
   "cell_type": "code",
   "execution_count": null,
   "id": "60e9b642",
   "metadata": {},
   "outputs": [],
   "source": []
  },
  {
   "cell_type": "markdown",
   "id": "d165cf6f",
   "metadata": {},
   "source": []
  },
  {
   "cell_type": "code",
   "execution_count": null,
   "id": "4302c7f2",
   "metadata": {},
   "outputs": [],
   "source": []
  }
 ],
 "metadata": {
  "kernelspec": {
   "display_name": "Python 3 (ipykernel)",
   "language": "python",
   "name": "python3"
  },
  "language_info": {
   "codemirror_mode": {
    "name": "ipython",
    "version": 3
   },
   "file_extension": ".py",
   "mimetype": "text/x-python",
   "name": "python",
   "nbconvert_exporter": "python",
   "pygments_lexer": "ipython3",
   "version": "3.9.7"
  }
 },
 "nbformat": 4,
 "nbformat_minor": 5
}
