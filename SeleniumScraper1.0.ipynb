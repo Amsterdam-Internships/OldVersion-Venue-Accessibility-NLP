{
 "cells": [
  {
   "cell_type": "code",
   "execution_count": 11,
   "metadata": {},
   "outputs": [
    {
     "name": "stderr",
     "output_type": "stream",
     "text": [
      "/var/folders/rn/k7vf4gp97fb11dzjbcr7w8bc0000gn/T/ipykernel_7019/1149960635.py:6: DeprecationWarning: executable_path has been deprecated, please pass in a Service object\n",
      "  driver = webdriver.Chrome(chromedrive_path)\n"
     ]
    }
   ],
   "source": [
    "# Import required packages\n",
    "from selenium import webdriver\n",
    "from bs4 import BeautifulSoup\n",
    "\n",
    "chromedrive_path = '/Users/LizzyDRB/Documents/MScDS/GoogleReviews/chromedriver' # use the path to the driver you downloaded from previous steps\n",
    "driver = webdriver.Chrome(chromedrive_path)"
   ]
  },
  {
   "cell_type": "code",
   "execution_count": 15,
   "metadata": {},
   "outputs": [],
   "source": [
    "from selenium.webdriver.common.by import By"
   ]
  },
  {
   "cell_type": "code",
   "execution_count": 12,
   "metadata": {},
   "outputs": [],
   "source": [
    "# Download all Reviews page\n",
    "url = 'https://www.google.com/maps/place/Studio%2FK/@52.3650968,4.9360191,17z/data=!4m7!3m6!1s0x47c60912cbcbeafb:0xde0847df3a2fd771!8m2!3d52.3651378!4d4.9360186!9m1!1b1?hl=en&hl=en'\n",
    "driver.get(url)"
   ]
  },
  {
   "cell_type": "code",
   "execution_count": 3,
   "metadata": {},
   "outputs": [],
   "source": [
    "# Parse Reviews\n",
    "page_content = driver.page_source"
   ]
  },
  {
   "cell_type": "code",
   "execution_count": 4,
   "metadata": {},
   "outputs": [],
   "source": [
    "# Parse content from HTML page\n",
    "from parsel import Selector\n",
    "\n",
    "response = Selector(page_content)"
   ]
  },
  {
   "cell_type": "code",
   "execution_count": 10,
   "metadata": {},
   "outputs": [
    {
     "name": "stdout",
     "output_type": "stream",
     "text": [
      "[{'rating': '2', 'body': \"It is ran by students - which is great and they should be encouraged and supported. BUT I have to say I waited 15 minutes for a cappuccino (and the place wasn't crowded at all) and then when leaving I was billed  twice the price by mistake. Students are very capable of doing better. Perhaps they're not paid enough?\"}, {'rating': '5', 'body': 'I liked the movie + dinner combo. And the restaurant serves a vegan option!'}, {'rating': '5', 'body': 'a great place to visit, not necessarily for the movies. It has a nice bar, some basic dishes. The environment is warm, staff is friendly'}, {'rating': '5', 'body': 'We had a dinner and move ticket for €19 each and the food at the restaurant was great and the staff were very friendly. Love the fact that it’s run wholly by students and I think they’re doing an excellent job!'}, {'rating': '5', 'body': 'Great vibes every single time whether grabbing a drink with friends or catching a movie. The cinema is part of the Cineville card.'}, {'rating': '5', 'body': 'Great cinema with good films. They have a kitchen and bar with good food too'}, {'rating': '', 'body': 'The cinema was OK, but I won’t be coming anymore as they have announced they will also participate in QR access system and therefore medical discrimination. I hope you go bust.'}, {'rating': '4', 'body': 'The cinema and the restaurant are super cozy. Gezellig, als zij in Netherlands zeggen.\\nThe film + dinner deal is worth the money, 17 euros pp. We spent about 46 euros …'}]\n"
     ]
    }
   ],
   "source": [
    "# Iterate over the reviews\n",
    "results = []\n",
    "\n",
    "for el in response.xpath('//div/div[@data-review-id]/div[contains(@class, \"content\")]'):\n",
    "    results.append({\n",
    "        #'title': el.xpath('.//div[contains(@class, \"title\")]/span/text()').extract_first(''),\n",
    "        'rating': el.xpath('.//span[contains(@aria-label, \"stars\")]/@aria-label').extract_first('').replace('stars' ,'').strip(),\n",
    "        'body': el.xpath('.//span[contains(@class, \"text\")]/text()').extract_first(''),\n",
    "    })\n",
    "\n",
    "print(results)"
   ]
  },
  {
   "cell_type": "code",
   "execution_count": 9,
   "metadata": {},
   "outputs": [
    {
     "name": "stdout",
     "output_type": "stream",
     "text": [
      "{'rating': '4', 'body': 'The cinema and the restaurant are super cozy. Gezellig, als zij in Netherlands zeggen.\\nThe film + dinner deal is worth the money, 17 euros pp. We spent about 46 euros …'}\n"
     ]
    }
   ],
   "source": [
    "print(results[7])"
   ]
  },
  {
   "cell_type": "code",
   "execution_count": 13,
   "metadata": {},
   "outputs": [
    {
     "name": "stderr",
     "output_type": "stream",
     "text": [
      "/var/folders/rn/k7vf4gp97fb11dzjbcr7w8bc0000gn/T/ipykernel_7019/695432344.py:1: DeprecationWarning: find_element_by_* commands are deprecated. Please use find_element() instead\n",
      "  driver.find_element_by_xpath('//*[@id=\"yDmH0d\"]/c-wiz/div/div/div/div[2]/div[1]/div[4]/form/div/div/button/span').click()\n"
     ]
    }
   ],
   "source": [
    "driver.find_element_by_xpath('//*[@id=\"yDmH0d\"]/c-wiz/div/div/div/div[2]/div[1]/div[4]/form/div/div/button/span').click()\n",
    "#to make sure content is fully loaded we can use time.sleep() after navigating to each page\n",
    "import time\n",
    "time.sleep(3)"
   ]
  },
  {
   "cell_type": "code",
   "execution_count": 17,
   "metadata": {},
   "outputs": [
    {
     "ename": "NoSuchElementException",
     "evalue": "Message: no such element: Unable to locate element: {\"method\":\"css selector\",\"selector\":\".a4gq8e-aVTXAb-haAclf-jRmmHf-hSRGPd\"}\n  (Session info: chrome=98.0.4758.109)\nStacktrace:\n0   chromedriver                        0x000000010e0583c9 chromedriver + 5018569\n1   chromedriver                        0x000000010dfe3333 chromedriver + 4539187\n2   chromedriver                        0x000000010dbb8a88 chromedriver + 170632\n3   chromedriver                        0x000000010dbed332 chromedriver + 385842\n4   chromedriver                        0x000000010dbed4f1 chromedriver + 386289\n5   chromedriver                        0x000000010dc1f8b4 chromedriver + 592052\n6   chromedriver                        0x000000010dc0a80d chromedriver + 505869\n7   chromedriver                        0x000000010dc1d604 chromedriver + 583172\n8   chromedriver                        0x000000010dc0a6d3 chromedriver + 505555\n9   chromedriver                        0x000000010dbe095e chromedriver + 334174\n10  chromedriver                        0x000000010dbe1935 chromedriver + 338229\n11  chromedriver                        0x000000010e0141ee chromedriver + 4739566\n12  chromedriver                        0x000000010e02df51 chromedriver + 4845393\n13  chromedriver                        0x000000010e033928 chromedriver + 4868392\n14  chromedriver                        0x000000010e02ea7a chromedriver + 4848250\n15  chromedriver                        0x000000010e008c31 chromedriver + 4693041\n16  chromedriver                        0x000000010e049978 chromedriver + 4958584\n17  chromedriver                        0x000000010e049b01 chromedriver + 4958977\n18  chromedriver                        0x000000010e05f795 chromedriver + 5048213\n19  libsystem_pthread.dylib             0x00007fff68261109 _pthread_start + 148\n20  libsystem_pthread.dylib             0x00007fff6825cb8b thread_start + 15\n",
     "output_type": "error",
     "traceback": [
      "\u001b[0;31m---------------------------------------------------------------------------\u001b[0m",
      "\u001b[0;31mNoSuchElementException\u001b[0m                    Traceback (most recent call last)",
      "\u001b[0;32m/var/folders/rn/k7vf4gp97fb11dzjbcr7w8bc0000gn/T/ipykernel_7019/3920189386.py\u001b[0m in \u001b[0;36m<module>\u001b[0;34m\u001b[0m\n\u001b[1;32m      1\u001b[0m \u001b[0;32mtry\u001b[0m\u001b[0;34m:\u001b[0m\u001b[0;34m\u001b[0m\u001b[0;34m\u001b[0m\u001b[0m\n\u001b[0;32m----> 2\u001b[0;31m     \u001b[0mdriver\u001b[0m\u001b[0;34m.\u001b[0m\u001b[0mfind_element\u001b[0m\u001b[0;34m(\u001b[0m\u001b[0mBy\u001b[0m\u001b[0;34m.\u001b[0m\u001b[0mCLASS_NAME\u001b[0m\u001b[0;34m,\u001b[0m \u001b[0;34m\"widget-pane-link\"\u001b[0m\u001b[0;34m)\u001b[0m\u001b[0;34m.\u001b[0m\u001b[0mclick\u001b[0m\u001b[0;34m(\u001b[0m\u001b[0;34m)\u001b[0m\u001b[0;34m\u001b[0m\u001b[0;34m\u001b[0m\u001b[0m\n\u001b[0m\u001b[1;32m      3\u001b[0m \u001b[0;32mexcept\u001b[0m \u001b[0mException\u001b[0m\u001b[0;34m:\u001b[0m\u001b[0;34m\u001b[0m\u001b[0;34m\u001b[0m\u001b[0m\n",
      "\u001b[0;32m/Applications/anaconda3/lib/python3.9/site-packages/selenium/webdriver/remote/webdriver.py\u001b[0m in \u001b[0;36mfind_element\u001b[0;34m(self, by, value)\u001b[0m\n\u001b[1;32m   1243\u001b[0m \u001b[0;34m\u001b[0m\u001b[0m\n\u001b[0;32m-> 1244\u001b[0;31m         return self.execute(Command.FIND_ELEMENT, {\n\u001b[0m\u001b[1;32m   1245\u001b[0m             \u001b[0;34m'using'\u001b[0m\u001b[0;34m:\u001b[0m \u001b[0mby\u001b[0m\u001b[0;34m,\u001b[0m\u001b[0;34m\u001b[0m\u001b[0;34m\u001b[0m\u001b[0m\n",
      "\u001b[0;32m/Applications/anaconda3/lib/python3.9/site-packages/selenium/webdriver/remote/webdriver.py\u001b[0m in \u001b[0;36mexecute\u001b[0;34m(self, driver_command, params)\u001b[0m\n\u001b[1;32m    423\u001b[0m         \u001b[0;32mif\u001b[0m \u001b[0mresponse\u001b[0m\u001b[0;34m:\u001b[0m\u001b[0;34m\u001b[0m\u001b[0;34m\u001b[0m\u001b[0m\n\u001b[0;32m--> 424\u001b[0;31m             \u001b[0mself\u001b[0m\u001b[0;34m.\u001b[0m\u001b[0merror_handler\u001b[0m\u001b[0;34m.\u001b[0m\u001b[0mcheck_response\u001b[0m\u001b[0;34m(\u001b[0m\u001b[0mresponse\u001b[0m\u001b[0;34m)\u001b[0m\u001b[0;34m\u001b[0m\u001b[0;34m\u001b[0m\u001b[0m\n\u001b[0m\u001b[1;32m    425\u001b[0m             response['value'] = self._unwrap_value(\n",
      "\u001b[0;32m/Applications/anaconda3/lib/python3.9/site-packages/selenium/webdriver/remote/errorhandler.py\u001b[0m in \u001b[0;36mcheck_response\u001b[0;34m(self, response)\u001b[0m\n\u001b[1;32m    246\u001b[0m             \u001b[0;32mraise\u001b[0m \u001b[0mexception_class\u001b[0m\u001b[0;34m(\u001b[0m\u001b[0mmessage\u001b[0m\u001b[0;34m,\u001b[0m \u001b[0mscreen\u001b[0m\u001b[0;34m,\u001b[0m \u001b[0mstacktrace\u001b[0m\u001b[0;34m,\u001b[0m \u001b[0malert_text\u001b[0m\u001b[0;34m)\u001b[0m  \u001b[0;31m# type: ignore[call-arg]  # mypy is not smart enough here\u001b[0m\u001b[0;34m\u001b[0m\u001b[0;34m\u001b[0m\u001b[0m\n\u001b[0;32m--> 247\u001b[0;31m         \u001b[0;32mraise\u001b[0m \u001b[0mexception_class\u001b[0m\u001b[0;34m(\u001b[0m\u001b[0mmessage\u001b[0m\u001b[0;34m,\u001b[0m \u001b[0mscreen\u001b[0m\u001b[0;34m,\u001b[0m \u001b[0mstacktrace\u001b[0m\u001b[0;34m)\u001b[0m\u001b[0;34m\u001b[0m\u001b[0;34m\u001b[0m\u001b[0m\n\u001b[0m\u001b[1;32m    248\u001b[0m \u001b[0;34m\u001b[0m\u001b[0m\n",
      "\u001b[0;31mNoSuchElementException\u001b[0m: Message: no such element: Unable to locate element: {\"method\":\"css selector\",\"selector\":\".widget-pane-link\"}\n  (Session info: chrome=98.0.4758.109)\nStacktrace:\n0   chromedriver                        0x000000010e0583c9 chromedriver + 5018569\n1   chromedriver                        0x000000010dfe3333 chromedriver + 4539187\n2   chromedriver                        0x000000010dbb8a88 chromedriver + 170632\n3   chromedriver                        0x000000010dbed332 chromedriver + 385842\n4   chromedriver                        0x000000010dbed4f1 chromedriver + 386289\n5   chromedriver                        0x000000010dc1f8b4 chromedriver + 592052\n6   chromedriver                        0x000000010dc0a80d chromedriver + 505869\n7   chromedriver                        0x000000010dc1d604 chromedriver + 583172\n8   chromedriver                        0x000000010dc0a6d3 chromedriver + 505555\n9   chromedriver                        0x000000010dbe095e chromedriver + 334174\n10  chromedriver                        0x000000010dbe1935 chromedriver + 338229\n11  chromedriver                        0x000000010e0141ee chromedriver + 4739566\n12  chromedriver                        0x000000010e02df51 chromedriver + 4845393\n13  chromedriver                        0x000000010e033928 chromedriver + 4868392\n14  chromedriver                        0x000000010e02ea7a chromedriver + 4848250\n15  chromedriver                        0x000000010e008c31 chromedriver + 4693041\n16  chromedriver                        0x000000010e049978 chromedriver + 4958584\n17  chromedriver                        0x000000010e049b01 chromedriver + 4958977\n18  chromedriver                        0x000000010e05f795 chromedriver + 5048213\n19  libsystem_pthread.dylib             0x00007fff68261109 _pthread_start + 148\n20  libsystem_pthread.dylib             0x00007fff6825cb8b thread_start + 15\n",
      "\nDuring handling of the above exception, another exception occurred:\n",
      "\u001b[0;31mNoSuchElementException\u001b[0m                    Traceback (most recent call last)",
      "\u001b[0;32m/var/folders/rn/k7vf4gp97fb11dzjbcr7w8bc0000gn/T/ipykernel_7019/3920189386.py\u001b[0m in \u001b[0;36m<module>\u001b[0;34m\u001b[0m\n\u001b[1;32m      9\u001b[0m         \u001b[0mli\u001b[0m\u001b[0;34m[\u001b[0m\u001b[0mad_count\u001b[0m\u001b[0;34m]\u001b[0m\u001b[0;34m.\u001b[0m\u001b[0mclick\u001b[0m\u001b[0;34m(\u001b[0m\u001b[0;34m)\u001b[0m\u001b[0;34m\u001b[0m\u001b[0;34m\u001b[0m\u001b[0m\n\u001b[1;32m     10\u001b[0m     \u001b[0;32melse\u001b[0m\u001b[0;34m:\u001b[0m\u001b[0;34m\u001b[0m\u001b[0;34m\u001b[0m\u001b[0m\n\u001b[0;32m---> 11\u001b[0;31m         \u001b[0mdriver\u001b[0m\u001b[0;34m.\u001b[0m\u001b[0mfind_element\u001b[0m\u001b[0;34m(\u001b[0m\u001b[0mBy\u001b[0m\u001b[0;34m.\u001b[0m\u001b[0mCLASS_NAME\u001b[0m\u001b[0;34m,\u001b[0m \u001b[0;34m\"a4gq8e-aVTXAb-haAclf-jRmmHf-hSRGPd\"\u001b[0m\u001b[0;34m)\u001b[0m\u001b[0;34m.\u001b[0m\u001b[0mclick\u001b[0m\u001b[0;34m(\u001b[0m\u001b[0;34m)\u001b[0m\u001b[0;34m\u001b[0m\u001b[0;34m\u001b[0m\u001b[0m\n\u001b[0m\u001b[1;32m     12\u001b[0m         \u001b[0mtime\u001b[0m\u001b[0;34m.\u001b[0m\u001b[0msleep\u001b[0m\u001b[0;34m(\u001b[0m\u001b[0;36m5\u001b[0m\u001b[0;34m)\u001b[0m\u001b[0;34m\u001b[0m\u001b[0;34m\u001b[0m\u001b[0m\n\u001b[1;32m     13\u001b[0m     \u001b[0mdriver\u001b[0m\u001b[0;34m.\u001b[0m\u001b[0mfind_element\u001b[0m\u001b[0;34m(\u001b[0m\u001b[0mBy\u001b[0m\u001b[0;34m.\u001b[0m\u001b[0mCLASS_NAME\u001b[0m\u001b[0;34m,\u001b[0m \u001b[0;34m\"widget-pane-link\"\u001b[0m\u001b[0;34m)\u001b[0m\u001b[0;34m.\u001b[0m\u001b[0mclick\u001b[0m\u001b[0;34m(\u001b[0m\u001b[0;34m)\u001b[0m\u001b[0;34m\u001b[0m\u001b[0;34m\u001b[0m\u001b[0m\n",
      "\u001b[0;32m/Applications/anaconda3/lib/python3.9/site-packages/selenium/webdriver/remote/webdriver.py\u001b[0m in \u001b[0;36mfind_element\u001b[0;34m(self, by, value)\u001b[0m\n\u001b[1;32m   1242\u001b[0m             \u001b[0mvalue\u001b[0m \u001b[0;34m=\u001b[0m \u001b[0;34m'[name=\"%s\"]'\u001b[0m \u001b[0;34m%\u001b[0m \u001b[0mvalue\u001b[0m\u001b[0;34m\u001b[0m\u001b[0;34m\u001b[0m\u001b[0m\n\u001b[1;32m   1243\u001b[0m \u001b[0;34m\u001b[0m\u001b[0m\n\u001b[0;32m-> 1244\u001b[0;31m         return self.execute(Command.FIND_ELEMENT, {\n\u001b[0m\u001b[1;32m   1245\u001b[0m             \u001b[0;34m'using'\u001b[0m\u001b[0;34m:\u001b[0m \u001b[0mby\u001b[0m\u001b[0;34m,\u001b[0m\u001b[0;34m\u001b[0m\u001b[0;34m\u001b[0m\u001b[0m\n\u001b[1;32m   1246\u001b[0m             'value': value})['value']\n",
      "\u001b[0;32m/Applications/anaconda3/lib/python3.9/site-packages/selenium/webdriver/remote/webdriver.py\u001b[0m in \u001b[0;36mexecute\u001b[0;34m(self, driver_command, params)\u001b[0m\n\u001b[1;32m    422\u001b[0m         \u001b[0mresponse\u001b[0m \u001b[0;34m=\u001b[0m \u001b[0mself\u001b[0m\u001b[0;34m.\u001b[0m\u001b[0mcommand_executor\u001b[0m\u001b[0;34m.\u001b[0m\u001b[0mexecute\u001b[0m\u001b[0;34m(\u001b[0m\u001b[0mdriver_command\u001b[0m\u001b[0;34m,\u001b[0m \u001b[0mparams\u001b[0m\u001b[0;34m)\u001b[0m\u001b[0;34m\u001b[0m\u001b[0;34m\u001b[0m\u001b[0m\n\u001b[1;32m    423\u001b[0m         \u001b[0;32mif\u001b[0m \u001b[0mresponse\u001b[0m\u001b[0;34m:\u001b[0m\u001b[0;34m\u001b[0m\u001b[0;34m\u001b[0m\u001b[0m\n\u001b[0;32m--> 424\u001b[0;31m             \u001b[0mself\u001b[0m\u001b[0;34m.\u001b[0m\u001b[0merror_handler\u001b[0m\u001b[0;34m.\u001b[0m\u001b[0mcheck_response\u001b[0m\u001b[0;34m(\u001b[0m\u001b[0mresponse\u001b[0m\u001b[0;34m)\u001b[0m\u001b[0;34m\u001b[0m\u001b[0;34m\u001b[0m\u001b[0m\n\u001b[0m\u001b[1;32m    425\u001b[0m             response['value'] = self._unwrap_value(\n\u001b[1;32m    426\u001b[0m                 response.get('value', None))\n",
      "\u001b[0;32m/Applications/anaconda3/lib/python3.9/site-packages/selenium/webdriver/remote/errorhandler.py\u001b[0m in \u001b[0;36mcheck_response\u001b[0;34m(self, response)\u001b[0m\n\u001b[1;32m    245\u001b[0m                 \u001b[0malert_text\u001b[0m \u001b[0;34m=\u001b[0m \u001b[0mvalue\u001b[0m\u001b[0;34m[\u001b[0m\u001b[0;34m'alert'\u001b[0m\u001b[0;34m]\u001b[0m\u001b[0;34m.\u001b[0m\u001b[0mget\u001b[0m\u001b[0;34m(\u001b[0m\u001b[0;34m'text'\u001b[0m\u001b[0;34m)\u001b[0m\u001b[0;34m\u001b[0m\u001b[0;34m\u001b[0m\u001b[0m\n\u001b[1;32m    246\u001b[0m             \u001b[0;32mraise\u001b[0m \u001b[0mexception_class\u001b[0m\u001b[0;34m(\u001b[0m\u001b[0mmessage\u001b[0m\u001b[0;34m,\u001b[0m \u001b[0mscreen\u001b[0m\u001b[0;34m,\u001b[0m \u001b[0mstacktrace\u001b[0m\u001b[0;34m,\u001b[0m \u001b[0malert_text\u001b[0m\u001b[0;34m)\u001b[0m  \u001b[0;31m# type: ignore[call-arg]  # mypy is not smart enough here\u001b[0m\u001b[0;34m\u001b[0m\u001b[0;34m\u001b[0m\u001b[0m\n\u001b[0;32m--> 247\u001b[0;31m         \u001b[0;32mraise\u001b[0m \u001b[0mexception_class\u001b[0m\u001b[0;34m(\u001b[0m\u001b[0mmessage\u001b[0m\u001b[0;34m,\u001b[0m \u001b[0mscreen\u001b[0m\u001b[0;34m,\u001b[0m \u001b[0mstacktrace\u001b[0m\u001b[0;34m)\u001b[0m\u001b[0;34m\u001b[0m\u001b[0;34m\u001b[0m\u001b[0m\n\u001b[0m\u001b[1;32m    248\u001b[0m \u001b[0;34m\u001b[0m\u001b[0m\n\u001b[1;32m    249\u001b[0m     \u001b[0;32mdef\u001b[0m \u001b[0m_value_or_default\u001b[0m\u001b[0;34m(\u001b[0m\u001b[0mself\u001b[0m\u001b[0;34m,\u001b[0m \u001b[0mobj\u001b[0m\u001b[0;34m:\u001b[0m \u001b[0mMapping\u001b[0m\u001b[0;34m[\u001b[0m\u001b[0m_KT\u001b[0m\u001b[0;34m,\u001b[0m \u001b[0m_VT\u001b[0m\u001b[0;34m]\u001b[0m\u001b[0;34m,\u001b[0m \u001b[0mkey\u001b[0m\u001b[0;34m:\u001b[0m \u001b[0m_KT\u001b[0m\u001b[0;34m,\u001b[0m \u001b[0mdefault\u001b[0m\u001b[0;34m:\u001b[0m \u001b[0m_VT\u001b[0m\u001b[0;34m)\u001b[0m \u001b[0;34m->\u001b[0m \u001b[0m_VT\u001b[0m\u001b[0;34m:\u001b[0m\u001b[0;34m\u001b[0m\u001b[0;34m\u001b[0m\u001b[0m\n",
      "\u001b[0;31mNoSuchElementException\u001b[0m: Message: no such element: Unable to locate element: {\"method\":\"css selector\",\"selector\":\".a4gq8e-aVTXAb-haAclf-jRmmHf-hSRGPd\"}\n  (Session info: chrome=98.0.4758.109)\nStacktrace:\n0   chromedriver                        0x000000010e0583c9 chromedriver + 5018569\n1   chromedriver                        0x000000010dfe3333 chromedriver + 4539187\n2   chromedriver                        0x000000010dbb8a88 chromedriver + 170632\n3   chromedriver                        0x000000010dbed332 chromedriver + 385842\n4   chromedriver                        0x000000010dbed4f1 chromedriver + 386289\n5   chromedriver                        0x000000010dc1f8b4 chromedriver + 592052\n6   chromedriver                        0x000000010dc0a80d chromedriver + 505869\n7   chromedriver                        0x000000010dc1d604 chromedriver + 583172\n8   chromedriver                        0x000000010dc0a6d3 chromedriver + 505555\n9   chromedriver                        0x000000010dbe095e chromedriver + 334174\n10  chromedriver                        0x000000010dbe1935 chromedriver + 338229\n11  chromedriver                        0x000000010e0141ee chromedriver + 4739566\n12  chromedriver                        0x000000010e02df51 chromedriver + 4845393\n13  chromedriver                        0x000000010e033928 chromedriver + 4868392\n14  chromedriver                        0x000000010e02ea7a chromedriver + 4848250\n15  chromedriver                        0x000000010e008c31 chromedriver + 4693041\n16  chromedriver                        0x000000010e049978 chromedriver + 4958584\n17  chromedriver                        0x000000010e049b01 chromedriver + 4958977\n18  chromedriver                        0x000000010e05f795 chromedriver + 5048213\n19  libsystem_pthread.dylib             0x00007fff68261109 _pthread_start + 148\n20  libsystem_pthread.dylib             0x00007fff6825cb8b thread_start + 15\n"
     ]
    }
   ],
   "source": [
    "try:\n",
    "    driver.find_element(By.CLASS_NAME, \"widget-pane-link\").click()\n",
    "except Exception:\n",
    "    response = BeautifulSoup(driver.page_source, 'html.parser')\n",
    "    # Check if there are any paid ads and avoid them\n",
    "    if response.find_all('span', {'class': 'ARktye-badge'}):\n",
    "        ad_count = len(response.find_all('span', {'class': 'ARktye-badge'}))\n",
    "        li = driver.find_elements(By.CLASS_NAME, \"a4gq8e-aVTXAb-haAclf-jRmmHf-hSRGPd\")\n",
    "        li[ad_count].click()\n",
    "    else:\n",
    "        driver.find_element(By.CLASS_NAME, \"a4gq8e-aVTXAb-haAclf-jRmmHf-hSRGPd\").click()\n",
    "        time.sleep(5)\n",
    "    driver.find_element(By.CLASS_NAME, \"widget-pane-link\").click()"
   ]
  },
  {
   "cell_type": "code",
   "execution_count": 29,
   "metadata": {},
   "outputs": [
    {
     "name": "stderr",
     "output_type": "stream",
     "text": [
      "/var/folders/rn/k7vf4gp97fb11dzjbcr7w8bc0000gn/T/ipykernel_7019/559689515.py:2: DeprecationWarning: find_element_by_* commands are deprecated. Please use find_element() instead\n",
      "  total_number_of_reviews = driver.find_element_by_xpath('//*[@id=\"pane\"]/div/div[1]/div/div/div[2]/div[2]/div/div[2]/div[2]').text.split(\" \")[0]\n",
      "/var/folders/rn/k7vf4gp97fb11dzjbcr7w8bc0000gn/T/ipykernel_7019/559689515.py:10: DeprecationWarning: find_element_by_* commands are deprecated. Please use find_element() instead\n",
      "  scrollable_div = driver.find_element_by_xpath('//*[@id=\"pane\"]/div/div[1]/div/div/div[2]')\n"
     ]
    }
   ],
   "source": [
    "#Find the total number of reviews\n",
    "total_number_of_reviews = driver.find_element_by_xpath('//*[@id=\"pane\"]/div/div[1]/div/div/div[2]/div[2]/div/div[2]/div[2]').text.split(\" \")[0]\n",
    "\n",
    "if '.' in total_number_of_reviews:\n",
    "    total_number_of_reviews = int(total_number_of_reviews.replace('.',''))\n",
    "else:\n",
    "    int(total_number_of_reviews)\n",
    "\n",
    "#Find scroll layout\n",
    "scrollable_div = driver.find_element_by_xpath('//*[@id=\"pane\"]/div/div[1]/div/div/div[2]')\n",
    "\n",
    "#Scroll as many times as necessary to load all reviews\n",
    "for i in range(0,(round(total_number_of_reviews/10 - 1))):\n",
    "        driver.execute_script('arguments[0].scrollTop = arguments[0].scrollHeight', \n",
    "                scrollable_div)\n",
    "        time.sleep(1)"
   ]
  },
  {
   "cell_type": "code",
   "execution_count": null,
   "metadata": {},
   "outputs": [],
   "source": []
  }
 ],
 "metadata": {
  "interpreter": {
   "hash": "aee8b7b246df8f9039afb4144a1f6fd8d2ca17a180786b69acc140d282b71a49"
  },
  "kernelspec": {
   "display_name": "Python 3 (ipykernel)",
   "language": "python",
   "name": "python3"
  },
  "language_info": {
   "codemirror_mode": {
    "name": "ipython",
    "version": 3
   },
   "file_extension": ".py",
   "mimetype": "text/x-python",
   "name": "python",
   "nbconvert_exporter": "python",
   "pygments_lexer": "ipython3",
   "version": "3.9.7"
  }
 },
 "nbformat": 4,
 "nbformat_minor": 2
}
