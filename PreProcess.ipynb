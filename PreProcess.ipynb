{
 "cells": [
  {
   "cell_type": "markdown",
   "id": "d19406e3",
   "metadata": {},
   "source": [
    "# Pre-Processing of the Data"
   ]
  },
  {
   "cell_type": "markdown",
   "id": "efd44bec",
   "metadata": {},
   "source": [
    "Standardization, normalization, data shuffling"
   ]
  },
  {
   "cell_type": "markdown",
   "id": "82170be5",
   "metadata": {},
   "source": [
    "## Import Required Packages"
   ]
  },
  {
   "cell_type": "code",
   "execution_count": 1,
   "id": "9d884271",
   "metadata": {},
   "outputs": [],
   "source": [
    "import pandas as pd\n",
    "import numpy as np\n",
    "import sklearn as sk"
   ]
  },
  {
   "cell_type": "markdown",
   "id": "8ac1e37b",
   "metadata": {},
   "source": [
    "## Load Data"
   ]
  },
  {
   "cell_type": "code",
   "execution_count": 4,
   "id": "8c285876",
   "metadata": {},
   "outputs": [
    {
     "name": "stderr",
     "output_type": "stream",
     "text": [
      "/var/folders/rn/k7vf4gp97fb11dzjbcr7w8bc0000gn/T/ipykernel_73521/3544037732.py:1: DtypeWarning: Columns (11) have mixed types. Specify dtype option on import or set low_memory=False.\n",
      "  data = pd.read_csv(\"./Data/cleaned_data.csv\")\n"
     ]
    },
    {
     "data": {
      "text/html": [
       "<div>\n",
       "<style scoped>\n",
       "    .dataframe tbody tr th:only-of-type {\n",
       "        vertical-align: middle;\n",
       "    }\n",
       "\n",
       "    .dataframe tbody tr th {\n",
       "        vertical-align: top;\n",
       "    }\n",
       "\n",
       "    .dataframe thead th {\n",
       "        text-align: right;\n",
       "    }\n",
       "</style>\n",
       "<table border=\"1\" class=\"dataframe\">\n",
       "  <thead>\n",
       "    <tr style=\"text-align: right;\">\n",
       "      <th></th>\n",
       "      <th>Venue Index</th>\n",
       "      <th>Name</th>\n",
       "      <th>Date</th>\n",
       "      <th>Rating</th>\n",
       "      <th>Rating Sent</th>\n",
       "      <th>Text</th>\n",
       "      <th>Aspect</th>\n",
       "      <th>Accessibility</th>\n",
       "      <th>Term1</th>\n",
       "      <th>Term2</th>\n",
       "      <th>Term3</th>\n",
       "    </tr>\n",
       "  </thead>\n",
       "  <tbody>\n",
       "    <tr>\n",
       "      <th>0</th>\n",
       "      <td>0</td>\n",
       "      <td>ellis</td>\n",
       "      <td>2019</td>\n",
       "      <td>5 stars</td>\n",
       "      <td>positive</td>\n",
       "      <td>it was a bit quite when we went in, but do not...</td>\n",
       "      <td>0</td>\n",
       "      <td>0</td>\n",
       "      <td>NaN</td>\n",
       "      <td>NaN</td>\n",
       "      <td>NaN</td>\n",
       "    </tr>\n",
       "    <tr>\n",
       "      <th>1</th>\n",
       "      <td>1</td>\n",
       "      <td>ellis</td>\n",
       "      <td>2020</td>\n",
       "      <td>5 stars</td>\n",
       "      <td>positive</td>\n",
       "      <td>nice cozy place which serves very tasty burger...</td>\n",
       "      <td>0</td>\n",
       "      <td>0</td>\n",
       "      <td>NaN</td>\n",
       "      <td>NaN</td>\n",
       "      <td>NaN</td>\n",
       "    </tr>\n",
       "    <tr>\n",
       "      <th>2</th>\n",
       "      <td>2</td>\n",
       "      <td>ellis</td>\n",
       "      <td>2019</td>\n",
       "      <td>5 stars</td>\n",
       "      <td>positive</td>\n",
       "      <td>really nice place. one of my favourite burger ...</td>\n",
       "      <td>0</td>\n",
       "      <td>0</td>\n",
       "      <td>NaN</td>\n",
       "      <td>NaN</td>\n",
       "      <td>NaN</td>\n",
       "    </tr>\n",
       "    <tr>\n",
       "      <th>3</th>\n",
       "      <td>3</td>\n",
       "      <td>ellis</td>\n",
       "      <td>2019</td>\n",
       "      <td>2 stars</td>\n",
       "      <td>negative</td>\n",
       "      <td>the service was quite good but the burgers we ...</td>\n",
       "      <td>0</td>\n",
       "      <td>0</td>\n",
       "      <td>NaN</td>\n",
       "      <td>NaN</td>\n",
       "      <td>NaN</td>\n",
       "    </tr>\n",
       "    <tr>\n",
       "      <th>4</th>\n",
       "      <td>4</td>\n",
       "      <td>ellis</td>\n",
       "      <td>2020</td>\n",
       "      <td>5 stars</td>\n",
       "      <td>positive</td>\n",
       "      <td>i had a very nice experience! the staff were r...</td>\n",
       "      <td>0</td>\n",
       "      <td>0</td>\n",
       "      <td>NaN</td>\n",
       "      <td>NaN</td>\n",
       "      <td>NaN</td>\n",
       "    </tr>\n",
       "  </tbody>\n",
       "</table>\n",
       "</div>"
      ],
      "text/plain": [
       "   Venue Index   Name  Date     Rating Rating Sent  \\\n",
       "0            0  ellis  2019   5 stars     positive   \n",
       "1            1  ellis  2020   5 stars     positive   \n",
       "2            2  ellis  2019   5 stars     positive   \n",
       "3            3  ellis  2019   2 stars     negative   \n",
       "4            4  ellis  2020   5 stars     positive   \n",
       "\n",
       "                                                Text  Aspect  Accessibility  \\\n",
       "0  it was a bit quite when we went in, but do not...       0              0   \n",
       "1  nice cozy place which serves very tasty burger...       0              0   \n",
       "2  really nice place. one of my favourite burger ...       0              0   \n",
       "3  the service was quite good but the burgers we ...       0              0   \n",
       "4  i had a very nice experience! the staff were r...       0              0   \n",
       "\n",
       "  Term1 Term2 Term3  \n",
       "0   NaN   NaN   NaN  \n",
       "1   NaN   NaN   NaN  \n",
       "2   NaN   NaN   NaN  \n",
       "3   NaN   NaN   NaN  \n",
       "4   NaN   NaN   NaN  "
      ]
     },
     "execution_count": 4,
     "metadata": {},
     "output_type": "execute_result"
    }
   ],
   "source": [
    "data = pd.read_csv(\"./Data/cleaned_data.csv\")\n",
    "data = data.drop(columns=\"Unnamed: 0\")\n",
    "data.head()"
   ]
  },
  {
   "cell_type": "markdown",
   "id": "5c7f1537",
   "metadata": {},
   "source": [
    "## Shuffle Data"
   ]
  },
  {
   "cell_type": "code",
   "execution_count": 5,
   "id": "7c277bd5",
   "metadata": {},
   "outputs": [],
   "source": [
    "shuffled_data = data.sample(frac=1)\n",
    "shuffled_data.to_csv(\"./Data/shuffled_data.csv\")"
   ]
  },
  {
   "cell_type": "code",
   "execution_count": 8,
   "id": "1b304236",
   "metadata": {},
   "outputs": [
    {
     "name": "stdout",
     "output_type": "stream",
     "text": [
      "Train set 90%: 363458.7\n",
      "Test set 10%: 40384.3\n"
     ]
    }
   ],
   "source": [
    "print(\"Train set 90%:\", shuffled_data.shape[0]*0.9)\n",
    "print(\"Test set 10%:\", shuffled_data.shape[0]*0.1)"
   ]
  },
  {
   "cell_type": "markdown",
   "id": "a7052eb1",
   "metadata": {},
   "source": [
    "## Create Train and Test sets"
   ]
  },
  {
   "cell_type": "code",
   "execution_count": 19,
   "id": "9d8f68fd",
   "metadata": {},
   "outputs": [
    {
     "name": "stderr",
     "output_type": "stream",
     "text": [
      "/var/folders/rn/k7vf4gp97fb11dzjbcr7w8bc0000gn/T/ipykernel_73521/2023738695.py:1: DtypeWarning: Columns (11) have mixed types. Specify dtype option on import or set low_memory=False.\n",
      "  shuffled_data = pd.read_csv(\"./Data/shuffled_data.csv\")\n"
     ]
    }
   ],
   "source": [
    "shuffled_data = pd.read_csv(\"./Data/shuffled_data.csv\")\n",
    "shuffled_data = shuffled_data.rename(columns={\"Unnamed: 0\":\"Index\"})\n",
    "shuffled_data = shuffled_data.set_index(\"Index\")\n",
    "\n",
    "train_data = shuffled_data[:363459]\n",
    "train_data.to_csv(\"./Data/train_data.csv\")\n",
    "test_data = shuffled_data[363460:]\n",
    "test_data.to_csv(\"./Data/test_data.csv\")"
   ]
  },
  {
   "cell_type": "markdown",
   "id": "a036281d",
   "metadata": {},
   "source": [
    "## Fix Indexes"
   ]
  },
  {
   "cell_type": "code",
   "execution_count": 20,
   "id": "bf34325e",
   "metadata": {},
   "outputs": [
    {
     "data": {
      "text/html": [
       "<div>\n",
       "<style scoped>\n",
       "    .dataframe tbody tr th:only-of-type {\n",
       "        vertical-align: middle;\n",
       "    }\n",
       "\n",
       "    .dataframe tbody tr th {\n",
       "        vertical-align: top;\n",
       "    }\n",
       "\n",
       "    .dataframe thead th {\n",
       "        text-align: right;\n",
       "    }\n",
       "</style>\n",
       "<table border=\"1\" class=\"dataframe\">\n",
       "  <thead>\n",
       "    <tr style=\"text-align: right;\">\n",
       "      <th></th>\n",
       "      <th>Venue Index</th>\n",
       "      <th>Name</th>\n",
       "      <th>Date</th>\n",
       "      <th>Rating</th>\n",
       "      <th>Rating Sent</th>\n",
       "      <th>Text</th>\n",
       "      <th>Aspect</th>\n",
       "      <th>Accessibility</th>\n",
       "      <th>Term1</th>\n",
       "      <th>Term2</th>\n",
       "      <th>Term3</th>\n",
       "    </tr>\n",
       "    <tr>\n",
       "      <th>Index</th>\n",
       "      <th></th>\n",
       "      <th></th>\n",
       "      <th></th>\n",
       "      <th></th>\n",
       "      <th></th>\n",
       "      <th></th>\n",
       "      <th></th>\n",
       "      <th></th>\n",
       "      <th></th>\n",
       "      <th></th>\n",
       "      <th></th>\n",
       "    </tr>\n",
       "  </thead>\n",
       "  <tbody>\n",
       "    <tr>\n",
       "      <th>18594</th>\n",
       "      <td>10</td>\n",
       "      <td>coffeeshop la grotte</td>\n",
       "      <td>2019</td>\n",
       "      <td>5 stars</td>\n",
       "      <td>positive</td>\n",
       "      <td>2nd year coming here and can t say enough good...</td>\n",
       "      <td>0</td>\n",
       "      <td>0</td>\n",
       "      <td>NaN</td>\n",
       "      <td>NaN</td>\n",
       "      <td>NaN</td>\n",
       "    </tr>\n",
       "    <tr>\n",
       "      <th>373579</th>\n",
       "      <td>451</td>\n",
       "      <td>pata negra</td>\n",
       "      <td>2019</td>\n",
       "      <td>5 stars</td>\n",
       "      <td>positive</td>\n",
       "      <td>excellent</td>\n",
       "      <td>0</td>\n",
       "      <td>0</td>\n",
       "      <td>NaN</td>\n",
       "      <td>NaN</td>\n",
       "      <td>NaN</td>\n",
       "    </tr>\n",
       "    <tr>\n",
       "      <th>128693</th>\n",
       "      <td>112</td>\n",
       "      <td>bagels &amp; beans ijdock</td>\n",
       "      <td>2021</td>\n",
       "      <td>5 stars</td>\n",
       "      <td>positive</td>\n",
       "      <td>location, very nice and welcoming, with a spl...</td>\n",
       "      <td>0</td>\n",
       "      <td>0</td>\n",
       "      <td>NaN</td>\n",
       "      <td>NaN</td>\n",
       "      <td>NaN</td>\n",
       "    </tr>\n",
       "    <tr>\n",
       "      <th>120681</th>\n",
       "      <td>17</td>\n",
       "      <td>plum</td>\n",
       "      <td>2020</td>\n",
       "      <td>5 stars</td>\n",
       "      <td>positive</td>\n",
       "      <td>went to this place on saturday. i had the gril...</td>\n",
       "      <td>0</td>\n",
       "      <td>0</td>\n",
       "      <td>NaN</td>\n",
       "      <td>NaN</td>\n",
       "      <td>NaN</td>\n",
       "    </tr>\n",
       "    <tr>\n",
       "      <th>162003</th>\n",
       "      <td>504</td>\n",
       "      <td>caf‚àö¬© thijssen</td>\n",
       "      <td>2021</td>\n",
       "      <td>5 stars</td>\n",
       "      <td>positive</td>\n",
       "      <td>was wer very tasty</td>\n",
       "      <td>0</td>\n",
       "      <td>0</td>\n",
       "      <td>NaN</td>\n",
       "      <td>NaN</td>\n",
       "      <td>NaN</td>\n",
       "    </tr>\n",
       "  </tbody>\n",
       "</table>\n",
       "</div>"
      ],
      "text/plain": [
       "        Venue Index                   Name  Date     Rating Rating Sent  \\\n",
       "Index                                                                     \n",
       "18594            10   coffeeshop la grotte  2019   5 stars     positive   \n",
       "373579          451             pata negra  2019   5 stars     positive   \n",
       "128693          112  bagels & beans ijdock  2021   5 stars     positive   \n",
       "120681           17                   plum  2020   5 stars     positive   \n",
       "162003          504      caf‚àö¬© thijssen  2021   5 stars     positive   \n",
       "\n",
       "                                                     Text  Aspect  \\\n",
       "Index                                                               \n",
       "18594   2nd year coming here and can t say enough good...       0   \n",
       "373579                                          excellent       0   \n",
       "128693   location, very nice and welcoming, with a spl...       0   \n",
       "120681  went to this place on saturday. i had the gril...       0   \n",
       "162003                                 was wer very tasty       0   \n",
       "\n",
       "        Accessibility Term1 Term2 Term3  \n",
       "Index                                    \n",
       "18594               0   NaN   NaN   NaN  \n",
       "373579              0   NaN   NaN   NaN  \n",
       "128693              0   NaN   NaN   NaN  \n",
       "120681              0   NaN   NaN   NaN  \n",
       "162003              0   NaN   NaN   NaN  "
      ]
     },
     "execution_count": 20,
     "metadata": {},
     "output_type": "execute_result"
    }
   ],
   "source": [
    "shuffled_data.head()"
   ]
  },
  {
   "cell_type": "markdown",
   "id": "6bc3be6a",
   "metadata": {},
   "source": [
    "## Balancing Dataset"
   ]
  },
  {
   "cell_type": "code",
   "execution_count": 15,
   "id": "31c8f0a6",
   "metadata": {},
   "outputs": [
    {
     "name": "stdout",
     "output_type": "stream",
     "text": [
      "Total number of reviews: 403843\n",
      "Accessibility = 0: 401924 --> 99.5248153366531 %\n",
      "Accessibility = 1: 1919 --> 0.4751846633468947 %\n"
     ]
    }
   ],
   "source": [
    "data = shuffled_data.copy()\n",
    "\n",
    "# How many reviews are labelled as containing accessibility information?\n",
    "print(\"Total number of reviews:\", data.shape[0])\n",
    "print(\"Accessibility = 0:\", data[data[\"Accessibility\"]==0].shape[0], \"-->\", data[data[\"Accessibility\"]==0].shape[0]/data.shape[0]*100,\"%\")\n",
    "print(\"Accessibility = 1:\", data[data[\"Accessibility\"]==1].shape[0], \"-->\", data[data[\"Accessibility\"]==1].shape[0]/data.shape[0]*100,\"%\")"
   ]
  },
  {
   "cell_type": "markdown",
   "id": "11e697f4",
   "metadata": {},
   "source": [
    "### Random Over/Undersampling"
   ]
  },
  {
   "cell_type": "markdown",
   "id": "c49e8815",
   "metadata": {},
   "source": [
    "Only train_data!"
   ]
  },
  {
   "cell_type": "code",
   "execution_count": 24,
   "id": "e5e2deb4",
   "metadata": {},
   "outputs": [],
   "source": [
    "# IMPORT PACKAGES\n",
    "\n",
    "import sklearn as sk\n",
    "import imblearn\n",
    "\n",
    "from collections import Counter\n",
    "from sklearn.datasets import make_classification\n",
    "from imblearn.over_sampling import SMOTE \n",
    "from collections import Counter\n",
    "from sklearn.datasets import make_classification\n",
    "from imblearn.under_sampling import RandomUnderSampler"
   ]
  },
  {
   "cell_type": "code",
   "execution_count": 22,
   "id": "204481cc",
   "metadata": {},
   "outputs": [
    {
     "name": "stderr",
     "output_type": "stream",
     "text": [
      "/var/folders/rn/k7vf4gp97fb11dzjbcr7w8bc0000gn/T/ipykernel_73521/2326251737.py:2: DtypeWarning: Columns (11) have mixed types. Specify dtype option on import or set low_memory=False.\n",
      "  train = pd.read_csv(\"./Data/train_data.csv\")\n"
     ]
    },
    {
     "data": {
      "text/html": [
       "<div>\n",
       "<style scoped>\n",
       "    .dataframe tbody tr th:only-of-type {\n",
       "        vertical-align: middle;\n",
       "    }\n",
       "\n",
       "    .dataframe tbody tr th {\n",
       "        vertical-align: top;\n",
       "    }\n",
       "\n",
       "    .dataframe thead th {\n",
       "        text-align: right;\n",
       "    }\n",
       "</style>\n",
       "<table border=\"1\" class=\"dataframe\">\n",
       "  <thead>\n",
       "    <tr style=\"text-align: right;\">\n",
       "      <th></th>\n",
       "      <th>Venue Index</th>\n",
       "      <th>Name</th>\n",
       "      <th>Date</th>\n",
       "      <th>Rating</th>\n",
       "      <th>Rating Sent</th>\n",
       "      <th>Text</th>\n",
       "      <th>Aspect</th>\n",
       "      <th>Accessibility</th>\n",
       "      <th>Term1</th>\n",
       "      <th>Term2</th>\n",
       "      <th>Term3</th>\n",
       "    </tr>\n",
       "    <tr>\n",
       "      <th>Index</th>\n",
       "      <th></th>\n",
       "      <th></th>\n",
       "      <th></th>\n",
       "      <th></th>\n",
       "      <th></th>\n",
       "      <th></th>\n",
       "      <th></th>\n",
       "      <th></th>\n",
       "      <th></th>\n",
       "      <th></th>\n",
       "      <th></th>\n",
       "    </tr>\n",
       "  </thead>\n",
       "  <tbody>\n",
       "    <tr>\n",
       "      <th>18594</th>\n",
       "      <td>10</td>\n",
       "      <td>coffeeshop la grotte</td>\n",
       "      <td>2019</td>\n",
       "      <td>5 stars</td>\n",
       "      <td>positive</td>\n",
       "      <td>2nd year coming here and can t say enough good...</td>\n",
       "      <td>0</td>\n",
       "      <td>0</td>\n",
       "      <td>NaN</td>\n",
       "      <td>NaN</td>\n",
       "      <td>NaN</td>\n",
       "    </tr>\n",
       "    <tr>\n",
       "      <th>373579</th>\n",
       "      <td>451</td>\n",
       "      <td>pata negra</td>\n",
       "      <td>2019</td>\n",
       "      <td>5 stars</td>\n",
       "      <td>positive</td>\n",
       "      <td>excellent</td>\n",
       "      <td>0</td>\n",
       "      <td>0</td>\n",
       "      <td>NaN</td>\n",
       "      <td>NaN</td>\n",
       "      <td>NaN</td>\n",
       "    </tr>\n",
       "    <tr>\n",
       "      <th>128693</th>\n",
       "      <td>112</td>\n",
       "      <td>bagels &amp; beans ijdock</td>\n",
       "      <td>2021</td>\n",
       "      <td>5 stars</td>\n",
       "      <td>positive</td>\n",
       "      <td>location, very nice and welcoming, with a spl...</td>\n",
       "      <td>0</td>\n",
       "      <td>0</td>\n",
       "      <td>NaN</td>\n",
       "      <td>NaN</td>\n",
       "      <td>NaN</td>\n",
       "    </tr>\n",
       "    <tr>\n",
       "      <th>120681</th>\n",
       "      <td>17</td>\n",
       "      <td>plum</td>\n",
       "      <td>2020</td>\n",
       "      <td>5 stars</td>\n",
       "      <td>positive</td>\n",
       "      <td>went to this place on saturday. i had the gril...</td>\n",
       "      <td>0</td>\n",
       "      <td>0</td>\n",
       "      <td>NaN</td>\n",
       "      <td>NaN</td>\n",
       "      <td>NaN</td>\n",
       "    </tr>\n",
       "    <tr>\n",
       "      <th>162003</th>\n",
       "      <td>504</td>\n",
       "      <td>caf‚àö¬© thijssen</td>\n",
       "      <td>2021</td>\n",
       "      <td>5 stars</td>\n",
       "      <td>positive</td>\n",
       "      <td>was wer very tasty</td>\n",
       "      <td>0</td>\n",
       "      <td>0</td>\n",
       "      <td>NaN</td>\n",
       "      <td>NaN</td>\n",
       "      <td>NaN</td>\n",
       "    </tr>\n",
       "  </tbody>\n",
       "</table>\n",
       "</div>"
      ],
      "text/plain": [
       "        Venue Index                   Name  Date     Rating Rating Sent  \\\n",
       "Index                                                                     \n",
       "18594            10   coffeeshop la grotte  2019   5 stars     positive   \n",
       "373579          451             pata negra  2019   5 stars     positive   \n",
       "128693          112  bagels & beans ijdock  2021   5 stars     positive   \n",
       "120681           17                   plum  2020   5 stars     positive   \n",
       "162003          504      caf‚àö¬© thijssen  2021   5 stars     positive   \n",
       "\n",
       "                                                     Text  Aspect  \\\n",
       "Index                                                               \n",
       "18594   2nd year coming here and can t say enough good...       0   \n",
       "373579                                          excellent       0   \n",
       "128693   location, very nice and welcoming, with a spl...       0   \n",
       "120681  went to this place on saturday. i had the gril...       0   \n",
       "162003                                 was wer very tasty       0   \n",
       "\n",
       "        Accessibility Term1 Term2 Term3  \n",
       "Index                                    \n",
       "18594               0   NaN   NaN   NaN  \n",
       "373579              0   NaN   NaN   NaN  \n",
       "128693              0   NaN   NaN   NaN  \n",
       "120681              0   NaN   NaN   NaN  \n",
       "162003              0   NaN   NaN   NaN  "
      ]
     },
     "execution_count": 22,
     "metadata": {},
     "output_type": "execute_result"
    }
   ],
   "source": [
    "# LOAD DATA\n",
    "train = pd.read_csv(\"./Data/train_data.csv\")\n",
    "train = train.set_index(\"Index\")\n",
    "train.head()"
   ]
  },
  {
   "cell_type": "markdown",
   "id": "cbac3768",
   "metadata": {},
   "source": [
    "#### Undersampling"
   ]
  },
  {
   "cell_type": "code",
   "execution_count": 23,
   "id": "1eb4f904",
   "metadata": {},
   "outputs": [],
   "source": [
    "# Define undersample strategy\n",
    "#undersample = RandomUnderSampler(sampling_strategy=0.5)"
   ]
  },
  {
   "cell_type": "code",
   "execution_count": 25,
   "id": "44b1d7bf",
   "metadata": {},
   "outputs": [],
   "source": [
    "# Split data into features (X) and labels(y)\n",
    "X = train[\"Text\"]\n",
    "y = train[\"Accessibility\"]"
   ]
  },
  {
   "cell_type": "code",
   "execution_count": 26,
   "id": "f6b33825",
   "metadata": {},
   "outputs": [
    {
     "data": {
      "text/plain": [
       "0    361739\n",
       "1      1720\n",
       "Name: Accessibility, dtype: int64"
      ]
     },
     "execution_count": 26,
     "metadata": {},
     "output_type": "execute_result"
    }
   ],
   "source": [
    "# Distribution class\n",
    "y.value_counts()"
   ]
  }
 ],
 "metadata": {
  "kernelspec": {
   "display_name": "Python 3 (ipykernel)",
   "language": "python",
   "name": "python3"
  },
  "language_info": {
   "codemirror_mode": {
    "name": "ipython",
    "version": 3
   },
   "file_extension": ".py",
   "mimetype": "text/x-python",
   "name": "python",
   "nbconvert_exporter": "python",
   "pygments_lexer": "ipython3",
   "version": "3.9.7"
  }
 },
 "nbformat": 4,
 "nbformat_minor": 5
}
