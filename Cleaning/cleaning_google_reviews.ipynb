{
 "cells": [
  {
   "cell_type": "markdown",
   "id": "abd47b6e",
   "metadata": {},
   "source": [
    "# Exploratory Data Analysis of Google Reviews"
   ]
  },
  {
   "cell_type": "markdown",
   "id": "5cc88d59",
   "metadata": {},
   "source": [
    "In this notebook, you will find an Exploratory Data Analysis (EDA) of the Google Review data. The EDA involves pre-processing."
   ]
  },
  {
   "cell_type": "markdown",
   "id": "3d38863e",
   "metadata": {},
   "source": [
    "## Notes"
   ]
  },
  {
   "cell_type": "code",
   "execution_count": 1,
   "id": "72726e80",
   "metadata": {},
   "outputs": [],
   "source": [
    "# To detect a language\n",
    "# for r in google_reviews['Review Text']:\n",
    "#     r = str(r)\n",
    "#     if original in r:\n",
    "#         _, _, _, detected_language = cld2.detect(r, returnVectors=True)\n",
    "#         print(detected_language)"
   ]
  },
  {
   "cell_type": "markdown",
   "id": "d0a78520",
   "metadata": {},
   "source": [
    "## Loading Data"
   ]
  },
  {
   "cell_type": "code",
   "execution_count": 2,
   "id": "4e4a6f84",
   "metadata": {},
   "outputs": [],
   "source": [
    "# IMPORT REQUIRED PACKAGES\n",
    "import pandas as pd\n",
    "from pandas import util\n",
    "import sklearn\n",
    "import os\n",
    "import glob\n",
    "import re\n",
    "\n",
    "import nltk\n",
    "import pycld2 as cld2"
   ]
  },
  {
   "cell_type": "code",
   "execution_count": 44,
   "id": "385e62c3",
   "metadata": {},
   "outputs": [],
   "source": [
    "# Load venues_ams data\n",
    "venues_ams = pd.read_csv(\"venues_ams.csv\") # NOT USING?\n",
    "\n",
    "# Define path and files    \n",
    "path = \"./GoogleReviews\"\n",
    "#all_files = os.path.join(path, \"*.csv\")\n",
    "all_files = glob.glob(path + \"/*.csv\")\n",
    "\n",
    "# Create dataframe containing all reviews\n",
    "google_reviews = pd.concat((pd.read_csv(f) for f in all_files))"
   ]
  },
  {
   "cell_type": "code",
   "execution_count": 45,
   "id": "9d070317",
   "metadata": {},
   "outputs": [],
   "source": [
    "# Save google_reviews in csv file\n",
    "google_reviews.to_csv(\"total_google_reviews.csv\")"
   ]
  },
  {
   "cell_type": "markdown",
   "id": "4134e18a",
   "metadata": {},
   "source": [
    "## Data Cleaning"
   ]
  },
  {
   "cell_type": "markdown",
   "id": "b97aa743",
   "metadata": {},
   "source": [
    "Removing nan, removing the translated review, changing the types of the data.\n",
    "Not yeat removing punctuation!"
   ]
  },
  {
   "cell_type": "markdown",
   "id": "634808ed",
   "metadata": {},
   "source": [
    "### Functions"
   ]
  },
  {
   "cell_type": "code",
   "execution_count": 71,
   "id": "c0f08d15",
   "metadata": {},
   "outputs": [],
   "source": [
    "def remove_nan(data, column_name):\n",
    "    '''Returns only the data where values in column_name are not empty (NaN)'''\n",
    "    \n",
    "    data = data[data[column_name].notna()]\n",
    "    \n",
    "    return data\n",
    "\n",
    "\n",
    "def clean_translation(data):\n",
    "    '''Returns only the (Translated by Google) English review not the (Original) review from column_name.\n",
    "        Indicated by sep, specifies what separator to separate the review by.'''\n",
    "    \n",
    "    sep = \"(Original)\"\n",
    "    if sep in data:\n",
    "        translation, separator, original = data.partition(sep)\n",
    "        data = translation\n",
    "        \n",
    "    return data\n",
    "\n",
    "def clean_dtypes(data):\n",
    "    ''' Changes the dtype of the data columns.'''    \n",
    "    \n",
    "    # Changing the column types \n",
    "    type_dict = {'Unnamed: 0': object,\n",
    "                 'Name': 'str',\n",
    "                 'Review Rate': 'str',\n",
    "                 'Review Time': 'str', \n",
    "                 'Review Text': 'str',\n",
    "                 }\n",
    "\n",
    "    # Change data type for all columns\n",
    "    data = data.astype(type_dict)\n",
    "    \n",
    "    return data\n",
    "\n",
    "def clean_string(s):\n",
    "    '''Lowercases reviews, removes \\n and (translated by google).'''\n",
    "    \n",
    "    s = s.lower()\n",
    "    s = s.replace(\"\\n\", '')\n",
    "    s = s.replace(\"(translated by google)\", '')\n",
    "    \n",
    "    return s"
   ]
  },
  {
   "cell_type": "markdown",
   "id": "e7860c56",
   "metadata": {},
   "source": [
    "### Apply functions"
   ]
  },
  {
   "cell_type": "code",
   "execution_count": 47,
   "id": "a75b1f78",
   "metadata": {},
   "outputs": [
    {
     "name": "stdout",
     "output_type": "stream",
     "text": [
      "CPU times: user 158 ms, sys: 37 ms, total: 195 ms\n",
      "Wall time: 210 ms\n"
     ]
    }
   ],
   "source": [
    "%%time\n",
    "#%%timeit\n",
    "google_reviews = remove_nan(google_reviews, 'Review Text')"
   ]
  },
  {
   "cell_type": "code",
   "execution_count": 48,
   "id": "d017dff2",
   "metadata": {},
   "outputs": [
    {
     "name": "stdout",
     "output_type": "stream",
     "text": [
      "CPU times: user 195 ms, sys: 9.11 ms, total: 204 ms\n",
      "Wall time: 213 ms\n"
     ]
    }
   ],
   "source": [
    "%%time\n",
    "google_reviews[\"Review Text\"] = google_reviews[\"Review Text\"].apply(clean_translation)"
   ]
  },
  {
   "cell_type": "code",
   "execution_count": 50,
   "id": "526b7049",
   "metadata": {},
   "outputs": [
    {
     "name": "stdout",
     "output_type": "stream",
     "text": [
      "CPU times: user 58.4 ms, sys: 8.36 ms, total: 66.7 ms\n",
      "Wall time: 80.6 ms\n"
     ]
    }
   ],
   "source": [
    "%%time\n",
    "google_reviews = clean_dtypes(google_reviews)"
   ]
  },
  {
   "cell_type": "code",
   "execution_count": 51,
   "id": "736b938e",
   "metadata": {},
   "outputs": [
    {
     "name": "stdout",
     "output_type": "stream",
     "text": [
      "CPU times: user 526 ms, sys: 39.2 ms, total: 566 ms\n",
      "Wall time: 585 ms\n"
     ]
    }
   ],
   "source": [
    "%%time\n",
    "google_reviews[\"Review Text\"] = google_reviews[\"Review Text\"].apply(clean_string)"
   ]
  },
  {
   "cell_type": "markdown",
   "id": "747ce41c",
   "metadata": {},
   "source": [
    "### Fix indexes"
   ]
  },
  {
   "cell_type": "code",
   "execution_count": 58,
   "id": "0b13c553",
   "metadata": {},
   "outputs": [],
   "source": [
    "# Reset index\n",
    "google_reviews = google_reviews.reset_index()"
   ]
  },
  {
   "cell_type": "code",
   "execution_count": 59,
   "id": "ffbc01f5",
   "metadata": {},
   "outputs": [
    {
     "data": {
      "text/html": [
       "<div>\n",
       "<style scoped>\n",
       "    .dataframe tbody tr th:only-of-type {\n",
       "        vertical-align: middle;\n",
       "    }\n",
       "\n",
       "    .dataframe tbody tr th {\n",
       "        vertical-align: top;\n",
       "    }\n",
       "\n",
       "    .dataframe thead th {\n",
       "        text-align: right;\n",
       "    }\n",
       "</style>\n",
       "<table border=\"1\" class=\"dataframe\">\n",
       "  <thead>\n",
       "    <tr style=\"text-align: right;\">\n",
       "      <th></th>\n",
       "      <th>index</th>\n",
       "      <th>Unnamed: 0</th>\n",
       "      <th>Name</th>\n",
       "      <th>Review Rate</th>\n",
       "      <th>Review Time</th>\n",
       "      <th>Review Text</th>\n",
       "    </tr>\n",
       "  </thead>\n",
       "  <tbody>\n",
       "    <tr>\n",
       "      <th>1000</th>\n",
       "      <td>440</td>\n",
       "      <td>440</td>\n",
       "      <td>McDonald's</td>\n",
       "      <td>4 stars</td>\n",
       "      <td>3 years ago</td>\n",
       "      <td>it's all ok</td>\n",
       "    </tr>\n",
       "    <tr>\n",
       "      <th>1001</th>\n",
       "      <td>441</td>\n",
       "      <td>441</td>\n",
       "      <td>McDonald's</td>\n",
       "      <td>3 stars</td>\n",
       "      <td>3 years ago</td>\n",
       "      <td>the petet was cold.</td>\n",
       "    </tr>\n",
       "    <tr>\n",
       "      <th>1002</th>\n",
       "      <td>442</td>\n",
       "      <td>442</td>\n",
       "      <td>McDonald's</td>\n",
       "      <td>5 stars</td>\n",
       "      <td>a year ago</td>\n",
       "      <td>very tasty</td>\n",
       "    </tr>\n",
       "    <tr>\n",
       "      <th>1003</th>\n",
       "      <td>444</td>\n",
       "      <td>444</td>\n",
       "      <td>McDonald's</td>\n",
       "      <td>2 stars</td>\n",
       "      <td>3 years ago</td>\n",
       "      <td>busy!</td>\n",
       "    </tr>\n",
       "    <tr>\n",
       "      <th>1004</th>\n",
       "      <td>445</td>\n",
       "      <td>445</td>\n",
       "      <td>McDonald's</td>\n",
       "      <td>5 stars</td>\n",
       "      <td>2 years ago</td>\n",
       "      <td>good offers and promotions</td>\n",
       "    </tr>\n",
       "    <tr>\n",
       "      <th>1005</th>\n",
       "      <td>446</td>\n",
       "      <td>446</td>\n",
       "      <td>McDonald's</td>\n",
       "      <td>1 star</td>\n",
       "      <td>3 years ago</td>\n",
       "      <td>bad.</td>\n",
       "    </tr>\n",
       "    <tr>\n",
       "      <th>1006</th>\n",
       "      <td>447</td>\n",
       "      <td>447</td>\n",
       "      <td>McDonald's</td>\n",
       "      <td>3 stars</td>\n",
       "      <td>2 years ago</td>\n",
       "      <td>slow and inaccurate service</td>\n",
       "    </tr>\n",
       "    <tr>\n",
       "      <th>1007</th>\n",
       "      <td>448</td>\n",
       "      <td>448</td>\n",
       "      <td>McDonald's</td>\n",
       "      <td>4 stars</td>\n",
       "      <td>3 years ago</td>\n",
       "      <td>ole is barely normal</td>\n",
       "    </tr>\n",
       "    <tr>\n",
       "      <th>1008</th>\n",
       "      <td>449</td>\n",
       "      <td>449</td>\n",
       "      <td>McDonald's</td>\n",
       "      <td>5 stars</td>\n",
       "      <td>3 years ago</td>\n",
       "      <td>too long</td>\n",
       "    </tr>\n",
       "    <tr>\n",
       "      <th>1009</th>\n",
       "      <td>450</td>\n",
       "      <td>450</td>\n",
       "      <td>McDonald's</td>\n",
       "      <td>3 stars</td>\n",
       "      <td>a year ago</td>\n",
       "      <td>before</td>\n",
       "    </tr>\n",
       "  </tbody>\n",
       "</table>\n",
       "</div>"
      ],
      "text/plain": [
       "      index Unnamed: 0        Name Review Rate  Review Time  \\\n",
       "1000    440        440  McDonald's    4 stars   3 years ago   \n",
       "1001    441        441  McDonald's    3 stars   3 years ago   \n",
       "1002    442        442  McDonald's    5 stars    a year ago   \n",
       "1003    444        444  McDonald's    2 stars   3 years ago   \n",
       "1004    445        445  McDonald's    5 stars   2 years ago   \n",
       "1005    446        446  McDonald's     1 star   3 years ago   \n",
       "1006    447        447  McDonald's    3 stars   2 years ago   \n",
       "1007    448        448  McDonald's    4 stars   3 years ago   \n",
       "1008    449        449  McDonald's    5 stars   3 years ago   \n",
       "1009    450        450  McDonald's    3 stars    a year ago   \n",
       "\n",
       "                       Review Text  \n",
       "1000                   it's all ok  \n",
       "1001           the petet was cold.  \n",
       "1002                    very tasty  \n",
       "1003                         busy!  \n",
       "1004    good offers and promotions  \n",
       "1005                          bad.  \n",
       "1006   slow and inaccurate service  \n",
       "1007          ole is barely normal  \n",
       "1008                      too long  \n",
       "1009                        before  "
      ]
     },
     "execution_count": 59,
     "metadata": {},
     "output_type": "execute_result"
    }
   ],
   "source": [
    "google_reviews[1000:1010]"
   ]
  },
  {
   "cell_type": "code",
   "execution_count": 61,
   "id": "34dee830",
   "metadata": {},
   "outputs": [],
   "source": [
    "# Drop and rename indexes\n",
    "google_reviews = google_reviews.drop(columns=[\"Unnamed: 0\"])\n",
    "google_reviews = google_reviews.rename(columns={\"index\": \"Original Index\", \"Review Rate\": \"Rating\", \"Review Time\": \"Date\", \"Review Text\": \"Review\"})"
   ]
  },
  {
   "cell_type": "code",
   "execution_count": 66,
   "id": "0f3bb643",
   "metadata": {},
   "outputs": [
    {
     "data": {
      "text/html": [
       "<div>\n",
       "<style scoped>\n",
       "    .dataframe tbody tr th:only-of-type {\n",
       "        vertical-align: middle;\n",
       "    }\n",
       "\n",
       "    .dataframe tbody tr th {\n",
       "        vertical-align: top;\n",
       "    }\n",
       "\n",
       "    .dataframe thead th {\n",
       "        text-align: right;\n",
       "    }\n",
       "</style>\n",
       "<table border=\"1\" class=\"dataframe\">\n",
       "  <thead>\n",
       "    <tr style=\"text-align: right;\">\n",
       "      <th></th>\n",
       "      <th>Original Index</th>\n",
       "      <th>Name</th>\n",
       "      <th>Rating</th>\n",
       "      <th>Date</th>\n",
       "      <th>Review</th>\n",
       "    </tr>\n",
       "  </thead>\n",
       "  <tbody>\n",
       "    <tr>\n",
       "      <th>1000</th>\n",
       "      <td>440</td>\n",
       "      <td>McDonald's</td>\n",
       "      <td>4 stars</td>\n",
       "      <td>3 years ago</td>\n",
       "      <td>it's all ok</td>\n",
       "    </tr>\n",
       "    <tr>\n",
       "      <th>1001</th>\n",
       "      <td>441</td>\n",
       "      <td>McDonald's</td>\n",
       "      <td>3 stars</td>\n",
       "      <td>3 years ago</td>\n",
       "      <td>the petet was cold.</td>\n",
       "    </tr>\n",
       "    <tr>\n",
       "      <th>1002</th>\n",
       "      <td>442</td>\n",
       "      <td>McDonald's</td>\n",
       "      <td>5 stars</td>\n",
       "      <td>a year ago</td>\n",
       "      <td>very tasty</td>\n",
       "    </tr>\n",
       "    <tr>\n",
       "      <th>1003</th>\n",
       "      <td>444</td>\n",
       "      <td>McDonald's</td>\n",
       "      <td>2 stars</td>\n",
       "      <td>3 years ago</td>\n",
       "      <td>busy!</td>\n",
       "    </tr>\n",
       "    <tr>\n",
       "      <th>1004</th>\n",
       "      <td>445</td>\n",
       "      <td>McDonald's</td>\n",
       "      <td>5 stars</td>\n",
       "      <td>2 years ago</td>\n",
       "      <td>good offers and promotions</td>\n",
       "    </tr>\n",
       "    <tr>\n",
       "      <th>1005</th>\n",
       "      <td>446</td>\n",
       "      <td>McDonald's</td>\n",
       "      <td>1 star</td>\n",
       "      <td>3 years ago</td>\n",
       "      <td>bad.</td>\n",
       "    </tr>\n",
       "    <tr>\n",
       "      <th>1006</th>\n",
       "      <td>447</td>\n",
       "      <td>McDonald's</td>\n",
       "      <td>3 stars</td>\n",
       "      <td>2 years ago</td>\n",
       "      <td>slow and inaccurate service</td>\n",
       "    </tr>\n",
       "    <tr>\n",
       "      <th>1007</th>\n",
       "      <td>448</td>\n",
       "      <td>McDonald's</td>\n",
       "      <td>4 stars</td>\n",
       "      <td>3 years ago</td>\n",
       "      <td>ole is barely normal</td>\n",
       "    </tr>\n",
       "    <tr>\n",
       "      <th>1008</th>\n",
       "      <td>449</td>\n",
       "      <td>McDonald's</td>\n",
       "      <td>5 stars</td>\n",
       "      <td>3 years ago</td>\n",
       "      <td>too long</td>\n",
       "    </tr>\n",
       "    <tr>\n",
       "      <th>1009</th>\n",
       "      <td>450</td>\n",
       "      <td>McDonald's</td>\n",
       "      <td>3 stars</td>\n",
       "      <td>a year ago</td>\n",
       "      <td>before</td>\n",
       "    </tr>\n",
       "  </tbody>\n",
       "</table>\n",
       "</div>"
      ],
      "text/plain": [
       "      Original Index        Name     Rating         Date  \\\n",
       "1000             440  McDonald's   4 stars   3 years ago   \n",
       "1001             441  McDonald's   3 stars   3 years ago   \n",
       "1002             442  McDonald's   5 stars    a year ago   \n",
       "1003             444  McDonald's   2 stars   3 years ago   \n",
       "1004             445  McDonald's   5 stars   2 years ago   \n",
       "1005             446  McDonald's    1 star   3 years ago   \n",
       "1006             447  McDonald's   3 stars   2 years ago   \n",
       "1007             448  McDonald's   4 stars   3 years ago   \n",
       "1008             449  McDonald's   5 stars   3 years ago   \n",
       "1009             450  McDonald's   3 stars    a year ago   \n",
       "\n",
       "                            Review  \n",
       "1000                   it's all ok  \n",
       "1001           the petet was cold.  \n",
       "1002                    very tasty  \n",
       "1003                         busy!  \n",
       "1004    good offers and promotions  \n",
       "1005                          bad.  \n",
       "1006   slow and inaccurate service  \n",
       "1007          ole is barely normal  \n",
       "1008                      too long  \n",
       "1009                        before  "
      ]
     },
     "execution_count": 66,
     "metadata": {},
     "output_type": "execute_result"
    }
   ],
   "source": [
    "google_reviews[1000:1010]"
   ]
  },
  {
   "cell_type": "markdown",
   "id": "b3e06805",
   "metadata": {},
   "source": [
    "### Save the cleaned data!"
   ]
  },
  {
   "cell_type": "code",
   "execution_count": 64,
   "id": "4aae32dc",
   "metadata": {},
   "outputs": [],
   "source": [
    "# Save cleaned dataframe to csv\n",
    "google_reviews.to_csv(\"cleaned_reviews.csv\")"
   ]
  },
  {
   "cell_type": "code",
   "execution_count": 67,
   "id": "582312ac",
   "metadata": {},
   "outputs": [],
   "source": [
    "# Make a copy of the reviews for testing\n",
    "copy_reviews = google_reviews.copy()"
   ]
  },
  {
   "cell_type": "markdown",
   "id": "419db27f",
   "metadata": {},
   "source": [
    "## EDA"
   ]
  },
  {
   "cell_type": "markdown",
   "id": "6843a65b",
   "metadata": {},
   "source": [
    "### Word Count"
   ]
  },
  {
   "cell_type": "code",
   "execution_count": 11,
   "id": "7a3c7c1a",
   "metadata": {},
   "outputs": [],
   "source": [
    "# LOAD DATA\n",
    "google_reviews = pd.read_csv(\"cleaned_reviews.csv\")\n",
    "google_reviews = google_reviews.drop(columns=[\"Unnamed: 0\"])"
   ]
  },
  {
   "cell_type": "code",
   "execution_count": 12,
   "id": "6aa39f6c",
   "metadata": {},
   "outputs": [],
   "source": [
    "# Create DF that saves all the reviews that contain specific words\n",
    "word_counts = pd.DataFrame(columns=[\"word\", \"nr. reviews\", \"index reviews\"])"
   ]
  },
  {
   "cell_type": "code",
   "execution_count": 13,
   "id": "542ca3f7",
   "metadata": {},
   "outputs": [
    {
     "data": {
      "text/html": [
       "<div>\n",
       "<style scoped>\n",
       "    .dataframe tbody tr th:only-of-type {\n",
       "        vertical-align: middle;\n",
       "    }\n",
       "\n",
       "    .dataframe tbody tr th {\n",
       "        vertical-align: top;\n",
       "    }\n",
       "\n",
       "    .dataframe thead th {\n",
       "        text-align: right;\n",
       "    }\n",
       "</style>\n",
       "<table border=\"1\" class=\"dataframe\">\n",
       "  <thead>\n",
       "    <tr style=\"text-align: right;\">\n",
       "      <th></th>\n",
       "      <th>Original Index</th>\n",
       "      <th>Name</th>\n",
       "      <th>Rating</th>\n",
       "      <th>Date</th>\n",
       "      <th>Review</th>\n",
       "    </tr>\n",
       "  </thead>\n",
       "  <tbody>\n",
       "    <tr>\n",
       "      <th>413</th>\n",
       "      <td>85</td>\n",
       "      <td>House of Watt</td>\n",
       "      <td>4 stars</td>\n",
       "      <td>3 years ago</td>\n",
       "      <td>for a children's party you have come to the r...</td>\n",
       "    </tr>\n",
       "    <tr>\n",
       "      <th>479</th>\n",
       "      <td>151</td>\n",
       "      <td>House of Watt</td>\n",
       "      <td>4 stars</td>\n",
       "      <td>3 years ago</td>\n",
       "      <td>cozy and helpfulwheelchair accessible …</td>\n",
       "    </tr>\n",
       "    <tr>\n",
       "      <th>489</th>\n",
       "      <td>162</td>\n",
       "      <td>House of Watt</td>\n",
       "      <td>4 stars</td>\n",
       "      <td>3 years ago</td>\n",
       "      <td>cozy and helpfulwheelchair accessible …</td>\n",
       "    </tr>\n",
       "    <tr>\n",
       "      <th>4437</th>\n",
       "      <td>52</td>\n",
       "      <td>Mr. Crab</td>\n",
       "      <td>2 stars</td>\n",
       "      <td>5 months ago</td>\n",
       "      <td>severely overpriced and my husband comes in in...</td>\n",
       "    </tr>\n",
       "    <tr>\n",
       "      <th>4872</th>\n",
       "      <td>231</td>\n",
       "      <td>Cobra Caf√©</td>\n",
       "      <td>4 stars</td>\n",
       "      <td>7 months ago</td>\n",
       "      <td>good place in the museum district if you have...</td>\n",
       "    </tr>\n",
       "    <tr>\n",
       "      <th>...</th>\n",
       "      <td>...</td>\n",
       "      <td>...</td>\n",
       "      <td>...</td>\n",
       "      <td>...</td>\n",
       "      <td>...</td>\n",
       "    </tr>\n",
       "    <tr>\n",
       "      <th>391913</th>\n",
       "      <td>118</td>\n",
       "      <td>The Cottage</td>\n",
       "      <td>4 stars</td>\n",
       "      <td>2 years ago</td>\n",
       "      <td>very amiable staff. not a huge choice on menu ...</td>\n",
       "    </tr>\n",
       "    <tr>\n",
       "      <th>393160</th>\n",
       "      <td>462</td>\n",
       "      <td>Hoi Tin</td>\n",
       "      <td>5 stars</td>\n",
       "      <td>2 years ago</td>\n",
       "      <td>delicious peking duck. upon collection, the e...</td>\n",
       "    </tr>\n",
       "    <tr>\n",
       "      <th>394079</th>\n",
       "      <td>233</td>\n",
       "      <td>Zomerlust</td>\n",
       "      <td>1 star</td>\n",
       "      <td>3 years ago</td>\n",
       "      <td>unfriendly reception. as a wheelchair user it...</td>\n",
       "    </tr>\n",
       "    <tr>\n",
       "      <th>394469</th>\n",
       "      <td>10</td>\n",
       "      <td>The Bulldog Port 26</td>\n",
       "      <td>5 stars</td>\n",
       "      <td>4 years ago</td>\n",
       "      <td>great place to relax and smoke in peace withou...</td>\n",
       "    </tr>\n",
       "    <tr>\n",
       "      <th>401223</th>\n",
       "      <td>196</td>\n",
       "      <td>Lokaal Loosie</td>\n",
       "      <td>4 stars</td>\n",
       "      <td>3 years ago</td>\n",
       "      <td>fine brown pub. visitors of all ages and very...</td>\n",
       "    </tr>\n",
       "  </tbody>\n",
       "</table>\n",
       "<p>119 rows × 5 columns</p>\n",
       "</div>"
      ],
      "text/plain": [
       "        Original Index                 Name     Rating          Date  \\\n",
       "413                 85        House of Watt   4 stars    3 years ago   \n",
       "479                151        House of Watt   4 stars    3 years ago   \n",
       "489                162        House of Watt   4 stars    3 years ago   \n",
       "4437                52             Mr. Crab   2 stars   5 months ago   \n",
       "4872               231          Cobra Caf√©   4 stars   7 months ago   \n",
       "...                ...                  ...        ...           ...   \n",
       "391913             118          The Cottage   4 stars    2 years ago   \n",
       "393160             462              Hoi Tin   5 stars    2 years ago   \n",
       "394079             233            Zomerlust    1 star    3 years ago   \n",
       "394469              10  The Bulldog Port 26   5 stars    4 years ago   \n",
       "401223             196        Lokaal Loosie   4 stars    3 years ago   \n",
       "\n",
       "                                                   Review  \n",
       "413      for a children's party you have come to the r...  \n",
       "479               cozy and helpfulwheelchair accessible …  \n",
       "489               cozy and helpfulwheelchair accessible …  \n",
       "4437    severely overpriced and my husband comes in in...  \n",
       "4872     good place in the museum district if you have...  \n",
       "...                                                   ...  \n",
       "391913  very amiable staff. not a huge choice on menu ...  \n",
       "393160   delicious peking duck. upon collection, the e...  \n",
       "394079   unfriendly reception. as a wheelchair user it...  \n",
       "394469  great place to relax and smoke in peace withou...  \n",
       "401223   fine brown pub. visitors of all ages and very...  \n",
       "\n",
       "[119 rows x 5 columns]"
      ]
     },
     "execution_count": 13,
     "metadata": {},
     "output_type": "execute_result"
    }
   ],
   "source": [
    "# How to find Reviews that contain a specific word\n",
    "google_reviews[google_reviews[\"Review\"].str.contains(\"wheelchair\")]"
   ]
  },
  {
   "cell_type": "code",
   "execution_count": 14,
   "id": "00308bc0",
   "metadata": {},
   "outputs": [
    {
     "data": {
      "text/plain": [
       "(119, 5)"
      ]
     },
     "execution_count": 14,
     "metadata": {},
     "output_type": "execute_result"
    }
   ],
   "source": [
    "# Testing\n",
    "test_wheelchair = google_reviews[google_reviews[\"Review\"].str.contains(\"wheelchair\")]\n",
    "test_wheelchair.shape"
   ]
  },
  {
   "cell_type": "code",
   "execution_count": 15,
   "id": "1610c649",
   "metadata": {},
   "outputs": [
    {
     "data": {
      "text/html": [
       "<div>\n",
       "<style scoped>\n",
       "    .dataframe tbody tr th:only-of-type {\n",
       "        vertical-align: middle;\n",
       "    }\n",
       "\n",
       "    .dataframe tbody tr th {\n",
       "        vertical-align: top;\n",
       "    }\n",
       "\n",
       "    .dataframe thead th {\n",
       "        text-align: right;\n",
       "    }\n",
       "</style>\n",
       "<table border=\"1\" class=\"dataframe\">\n",
       "  <thead>\n",
       "    <tr style=\"text-align: right;\">\n",
       "      <th></th>\n",
       "      <th>word</th>\n",
       "      <th>nr. reviews</th>\n",
       "      <th>index reviews</th>\n",
       "    </tr>\n",
       "  </thead>\n",
       "  <tbody>\n",
       "    <tr>\n",
       "      <th>0</th>\n",
       "      <td>entrance</td>\n",
       "      <td>NaN</td>\n",
       "      <td>NaN</td>\n",
       "    </tr>\n",
       "    <tr>\n",
       "      <th>1</th>\n",
       "      <td>wheelchair</td>\n",
       "      <td>NaN</td>\n",
       "      <td>NaN</td>\n",
       "    </tr>\n",
       "    <tr>\n",
       "      <th>2</th>\n",
       "      <td>bathroom</td>\n",
       "      <td>NaN</td>\n",
       "      <td>NaN</td>\n",
       "    </tr>\n",
       "    <tr>\n",
       "      <th>3</th>\n",
       "      <td>toilet</td>\n",
       "      <td>NaN</td>\n",
       "      <td>NaN</td>\n",
       "    </tr>\n",
       "    <tr>\n",
       "      <th>4</th>\n",
       "      <td>steps</td>\n",
       "      <td>NaN</td>\n",
       "      <td>NaN</td>\n",
       "    </tr>\n",
       "    <tr>\n",
       "      <th>5</th>\n",
       "      <td>narrow</td>\n",
       "      <td>NaN</td>\n",
       "      <td>NaN</td>\n",
       "    </tr>\n",
       "    <tr>\n",
       "      <th>6</th>\n",
       "      <td>wide</td>\n",
       "      <td>NaN</td>\n",
       "      <td>NaN</td>\n",
       "    </tr>\n",
       "    <tr>\n",
       "      <th>7</th>\n",
       "      <td>spacious</td>\n",
       "      <td>NaN</td>\n",
       "      <td>NaN</td>\n",
       "    </tr>\n",
       "    <tr>\n",
       "      <th>8</th>\n",
       "      <td>disability</td>\n",
       "      <td>NaN</td>\n",
       "      <td>NaN</td>\n",
       "    </tr>\n",
       "  </tbody>\n",
       "</table>\n",
       "</div>"
      ],
      "text/plain": [
       "         word nr. reviews index reviews\n",
       "0    entrance         NaN           NaN\n",
       "1  wheelchair         NaN           NaN\n",
       "2    bathroom         NaN           NaN\n",
       "3      toilet         NaN           NaN\n",
       "4       steps         NaN           NaN\n",
       "5      narrow         NaN           NaN\n",
       "6        wide         NaN           NaN\n",
       "7    spacious         NaN           NaN\n",
       "8  disability         NaN           NaN"
      ]
     },
     "execution_count": 15,
     "metadata": {},
     "output_type": "execute_result"
    }
   ],
   "source": [
    "# List of words related to accessibility\n",
    "accessibility_words = [\"entrance\", \"wheelchair\", \"bathroom\", \"toilet\", \"steps\", \"narrow\", \"wide\", \"spacious\", \"disability\"]\n",
    "word_counts[\"word\"] = accessibility_words\n",
    "word_counts"
   ]
  },
  {
   "cell_type": "code",
   "execution_count": 16,
   "id": "f3112015",
   "metadata": {},
   "outputs": [
    {
     "data": {
      "text/html": [
       "<div>\n",
       "<style scoped>\n",
       "    .dataframe tbody tr th:only-of-type {\n",
       "        vertical-align: middle;\n",
       "    }\n",
       "\n",
       "    .dataframe tbody tr th {\n",
       "        vertical-align: top;\n",
       "    }\n",
       "\n",
       "    .dataframe thead th {\n",
       "        text-align: right;\n",
       "    }\n",
       "</style>\n",
       "<table border=\"1\" class=\"dataframe\">\n",
       "  <thead>\n",
       "    <tr style=\"text-align: right;\">\n",
       "      <th></th>\n",
       "      <th>word</th>\n",
       "      <th>nr. reviews</th>\n",
       "      <th>index reviews</th>\n",
       "    </tr>\n",
       "  </thead>\n",
       "  <tbody>\n",
       "    <tr>\n",
       "      <th>0</th>\n",
       "      <td>entrance</td>\n",
       "      <td>474</td>\n",
       "      <td>NaN</td>\n",
       "    </tr>\n",
       "    <tr>\n",
       "      <th>1</th>\n",
       "      <td>wheelchair</td>\n",
       "      <td>119</td>\n",
       "      <td>NaN</td>\n",
       "    </tr>\n",
       "    <tr>\n",
       "      <th>2</th>\n",
       "      <td>bathroom</td>\n",
       "      <td>526</td>\n",
       "      <td>NaN</td>\n",
       "    </tr>\n",
       "    <tr>\n",
       "      <th>3</th>\n",
       "      <td>toilet</td>\n",
       "      <td>1919</td>\n",
       "      <td>NaN</td>\n",
       "    </tr>\n",
       "    <tr>\n",
       "      <th>4</th>\n",
       "      <td>steps</td>\n",
       "      <td>113</td>\n",
       "      <td>NaN</td>\n",
       "    </tr>\n",
       "    <tr>\n",
       "      <th>5</th>\n",
       "      <td>narrow</td>\n",
       "      <td>242</td>\n",
       "      <td>NaN</td>\n",
       "    </tr>\n",
       "    <tr>\n",
       "      <th>6</th>\n",
       "      <td>wide</td>\n",
       "      <td>1592</td>\n",
       "      <td>NaN</td>\n",
       "    </tr>\n",
       "    <tr>\n",
       "      <th>7</th>\n",
       "      <td>spacious</td>\n",
       "      <td>917</td>\n",
       "      <td>NaN</td>\n",
       "    </tr>\n",
       "    <tr>\n",
       "      <th>8</th>\n",
       "      <td>disability</td>\n",
       "      <td>3</td>\n",
       "      <td>NaN</td>\n",
       "    </tr>\n",
       "  </tbody>\n",
       "</table>\n",
       "</div>"
      ],
      "text/plain": [
       "         word  nr. reviews index reviews\n",
       "0    entrance          474           NaN\n",
       "1  wheelchair          119           NaN\n",
       "2    bathroom          526           NaN\n",
       "3      toilet         1919           NaN\n",
       "4       steps          113           NaN\n",
       "5      narrow          242           NaN\n",
       "6        wide         1592           NaN\n",
       "7    spacious          917           NaN\n",
       "8  disability            3           NaN"
      ]
     },
     "execution_count": 16,
     "metadata": {},
     "output_type": "execute_result"
    }
   ],
   "source": [
    "# Find the nr. of reviews that contain the accessibility word\n",
    "\n",
    "# Create a list with the counts\n",
    "review_counts = []\n",
    "\n",
    "# Loop over accessibility_words and count reviews in which they occur\n",
    "for word in accessibility_words:\n",
    "    df = google_reviews[google_reviews[\"Review\"].str.contains(word)]\n",
    "    review_counts.append(df.shape[0])\n",
    "\n",
    "word_counts[\"nr. reviews\"] = review_counts\n",
    "word_counts"
   ]
  },
  {
   "cell_type": "code",
   "execution_count": 17,
   "id": "878d54df",
   "metadata": {},
   "outputs": [
    {
     "data": {
      "text/html": [
       "<div>\n",
       "<style scoped>\n",
       "    .dataframe tbody tr th:only-of-type {\n",
       "        vertical-align: middle;\n",
       "    }\n",
       "\n",
       "    .dataframe tbody tr th {\n",
       "        vertical-align: top;\n",
       "    }\n",
       "\n",
       "    .dataframe thead th {\n",
       "        text-align: right;\n",
       "    }\n",
       "</style>\n",
       "<table border=\"1\" class=\"dataframe\">\n",
       "  <thead>\n",
       "    <tr style=\"text-align: right;\">\n",
       "      <th></th>\n",
       "      <th>word</th>\n",
       "      <th>nr. reviews</th>\n",
       "      <th>index reviews</th>\n",
       "    </tr>\n",
       "  </thead>\n",
       "  <tbody>\n",
       "    <tr>\n",
       "      <th>0</th>\n",
       "      <td>entrance</td>\n",
       "      <td>474</td>\n",
       "      <td>NaN</td>\n",
       "    </tr>\n",
       "  </tbody>\n",
       "</table>\n",
       "</div>"
      ],
      "text/plain": [
       "       word  nr. reviews index reviews\n",
       "0  entrance          474           NaN"
      ]
     },
     "execution_count": 17,
     "metadata": {},
     "output_type": "execute_result"
    }
   ],
   "source": [
    "word_counts[word_counts[\"word\"]==\"entrance\"]"
   ]
  },
  {
   "cell_type": "code",
   "execution_count": 174,
   "id": "c78e0d37",
   "metadata": {},
   "outputs": [
    {
     "name": "stdout",
     "output_type": "stream",
     "text": [
      "0\n"
     ]
    },
    {
     "name": "stderr",
     "output_type": "stream",
     "text": [
      "/var/folders/rn/k7vf4gp97fb11dzjbcr7w8bc0000gn/T/ipykernel_759/1873786590.py:2: SettingWithCopyWarning: \n",
      "A value is trying to be set on a copy of a slice from a DataFrame\n",
      "\n",
      "See the caveats in the documentation: https://pandas.pydata.org/pandas-docs/stable/user_guide/indexing.html#returning-a-view-versus-a-copy\n",
      "  word_counts[\"index reviews\"][x] = \"tes test\"\n"
     ]
    }
   ],
   "source": [
    "x = word_counts[word_counts[\"word\"]==\"entrance\"].index.values\n",
    "word_counts[\"index reviews\"][x] = \"tes test\"\n",
    "word_counts\n",
    "print(int(x))"
   ]
  },
  {
   "cell_type": "code",
   "execution_count": 170,
   "id": "328f4c29",
   "metadata": {},
   "outputs": [
    {
     "data": {
      "text/html": [
       "<div>\n",
       "<style scoped>\n",
       "    .dataframe tbody tr th:only-of-type {\n",
       "        vertical-align: middle;\n",
       "    }\n",
       "\n",
       "    .dataframe tbody tr th {\n",
       "        vertical-align: top;\n",
       "    }\n",
       "\n",
       "    .dataframe thead th {\n",
       "        text-align: right;\n",
       "    }\n",
       "</style>\n",
       "<table border=\"1\" class=\"dataframe\">\n",
       "  <thead>\n",
       "    <tr style=\"text-align: right;\">\n",
       "      <th></th>\n",
       "      <th>word</th>\n",
       "      <th>nr. reviews</th>\n",
       "      <th>index reviews</th>\n",
       "    </tr>\n",
       "  </thead>\n",
       "  <tbody>\n",
       "    <tr>\n",
       "      <th>0</th>\n",
       "      <td>entrance</td>\n",
       "      <td>474.0</td>\n",
       "      <td>lala</td>\n",
       "    </tr>\n",
       "    <tr>\n",
       "      <th>1</th>\n",
       "      <td>wheelchair</td>\n",
       "      <td>119.0</td>\n",
       "      <td>[2, 4, 55, 6, 7, 8, 6]</td>\n",
       "    </tr>\n",
       "    <tr>\n",
       "      <th>2</th>\n",
       "      <td>bathroom</td>\n",
       "      <td>526.0</td>\n",
       "      <td>[1, 1, 1]</td>\n",
       "    </tr>\n",
       "    <tr>\n",
       "      <th>3</th>\n",
       "      <td>toilet</td>\n",
       "      <td>1919.0</td>\n",
       "      <td>[1, 2, 1]</td>\n",
       "    </tr>\n",
       "    <tr>\n",
       "      <th>4</th>\n",
       "      <td>steps</td>\n",
       "      <td>113.0</td>\n",
       "      <td>[1, 1, 1, 5, 6, 7, 8]</td>\n",
       "    </tr>\n",
       "    <tr>\n",
       "      <th>5</th>\n",
       "      <td>narrow</td>\n",
       "      <td>242.0</td>\n",
       "      <td>lala</td>\n",
       "    </tr>\n",
       "    <tr>\n",
       "      <th>6</th>\n",
       "      <td>wide</td>\n",
       "      <td>1592.0</td>\n",
       "      <td>lala</td>\n",
       "    </tr>\n",
       "    <tr>\n",
       "      <th>7</th>\n",
       "      <td>spacious</td>\n",
       "      <td>917.0</td>\n",
       "      <td>lala</td>\n",
       "    </tr>\n",
       "    <tr>\n",
       "      <th>8</th>\n",
       "      <td>disability</td>\n",
       "      <td>3.0</td>\n",
       "      <td>lala</td>\n",
       "    </tr>\n",
       "  </tbody>\n",
       "</table>\n",
       "</div>"
      ],
      "text/plain": [
       "         word  nr. reviews           index reviews\n",
       "0    entrance        474.0                    lala\n",
       "1  wheelchair        119.0  [2, 4, 55, 6, 7, 8, 6]\n",
       "2    bathroom        526.0               [1, 1, 1]\n",
       "3      toilet       1919.0               [1, 2, 1]\n",
       "4       steps        113.0   [1, 1, 1, 5, 6, 7, 8]\n",
       "5      narrow        242.0                    lala\n",
       "6        wide       1592.0                    lala\n",
       "7    spacious        917.0                    lala\n",
       "8  disability          3.0                    lala"
      ]
     },
     "execution_count": 170,
     "metadata": {},
     "output_type": "execute_result"
    }
   ],
   "source": [
    "test_list=[1, 1, 1, 5, 6, 7, 8]\n",
    "word_counts.iat[4, 2] = test_list\n",
    "word_counts"
   ]
  },
  {
   "cell_type": "code",
   "execution_count": 18,
   "id": "b7d80537",
   "metadata": {},
   "outputs": [],
   "source": [
    "# Find the indexes of the reviews that contain the accessibility words\n",
    "def acc_reviews(data):\n",
    "    \n",
    "    li = [\"entrance\", \"wheelchair\", \"bathroom\", \"toilet\", \"steps\", \"narrow\", \"wide\", \"spacious\", \"disability\"]\n",
    "    \n",
    "    for word in li:\n",
    "        df = google_reviews[google_reviews[\"Review\"].str.contains(word)]\n",
    "        word_index = data[data[\"word\"]==word].index.values\n",
    "        i = df.index.values\n",
    "        data.loc[int(word_index), 4] = i\n",
    "\n",
    "    return data"
   ]
  },
  {
   "cell_type": "code",
   "execution_count": 28,
   "id": "9b7652b2",
   "metadata": {},
   "outputs": [
    {
     "data": {
      "text/plain": [
       "word             object\n",
       "nr. reviews       int64\n",
       "index reviews    object\n",
       "dtype: object"
      ]
     },
     "execution_count": 28,
     "metadata": {},
     "output_type": "execute_result"
    }
   ],
   "source": [
    "word_counts.dtypes"
   ]
  },
  {
   "cell_type": "code",
   "execution_count": 20,
   "id": "1693dbc2",
   "metadata": {},
   "outputs": [
    {
     "ename": "TypeError",
     "evalue": "'float' object is not subscriptable",
     "output_type": "error",
     "traceback": [
      "\u001b[0;31m---------------------------------------------------------------------------\u001b[0m",
      "\u001b[0;31mTypeError\u001b[0m                                 Traceback (most recent call last)",
      "Input \u001b[0;32mIn [20]\u001b[0m, in \u001b[0;36m<cell line: 1>\u001b[0;34m()\u001b[0m\n\u001b[0;32m----> 1\u001b[0m word_counts[\u001b[38;5;124m\"\u001b[39m\u001b[38;5;124mindex reviews\u001b[39m\u001b[38;5;124m\"\u001b[39m] \u001b[38;5;241m=\u001b[39m \u001b[43mword_counts\u001b[49m\u001b[43m[\u001b[49m\u001b[38;5;124;43m\"\u001b[39;49m\u001b[38;5;124;43mindex reviews\u001b[39;49m\u001b[38;5;124;43m\"\u001b[39;49m\u001b[43m]\u001b[49m\u001b[38;5;241;43m.\u001b[39;49m\u001b[43mapply\u001b[49m\u001b[43m(\u001b[49m\u001b[43macc_reviews\u001b[49m\u001b[43m)\u001b[49m\n",
      "File \u001b[0;32m/Applications/anaconda3/lib/python3.9/site-packages/pandas/core/series.py:4433\u001b[0m, in \u001b[0;36mSeries.apply\u001b[0;34m(self, func, convert_dtype, args, **kwargs)\u001b[0m\n\u001b[1;32m   4323\u001b[0m \u001b[38;5;28;01mdef\u001b[39;00m \u001b[38;5;21mapply\u001b[39m(\n\u001b[1;32m   4324\u001b[0m     \u001b[38;5;28mself\u001b[39m,\n\u001b[1;32m   4325\u001b[0m     func: AggFuncType,\n\u001b[0;32m   (...)\u001b[0m\n\u001b[1;32m   4328\u001b[0m     \u001b[38;5;241m*\u001b[39m\u001b[38;5;241m*\u001b[39mkwargs,\n\u001b[1;32m   4329\u001b[0m ) \u001b[38;5;241m-\u001b[39m\u001b[38;5;241m>\u001b[39m DataFrame \u001b[38;5;241m|\u001b[39m Series:\n\u001b[1;32m   4330\u001b[0m     \u001b[38;5;124;03m\"\"\"\u001b[39;00m\n\u001b[1;32m   4331\u001b[0m \u001b[38;5;124;03m    Invoke function on values of Series.\u001b[39;00m\n\u001b[1;32m   4332\u001b[0m \n\u001b[0;32m   (...)\u001b[0m\n\u001b[1;32m   4431\u001b[0m \u001b[38;5;124;03m    dtype: float64\u001b[39;00m\n\u001b[1;32m   4432\u001b[0m \u001b[38;5;124;03m    \"\"\"\u001b[39;00m\n\u001b[0;32m-> 4433\u001b[0m     \u001b[38;5;28;01mreturn\u001b[39;00m \u001b[43mSeriesApply\u001b[49m\u001b[43m(\u001b[49m\u001b[38;5;28;43mself\u001b[39;49m\u001b[43m,\u001b[49m\u001b[43m \u001b[49m\u001b[43mfunc\u001b[49m\u001b[43m,\u001b[49m\u001b[43m \u001b[49m\u001b[43mconvert_dtype\u001b[49m\u001b[43m,\u001b[49m\u001b[43m \u001b[49m\u001b[43margs\u001b[49m\u001b[43m,\u001b[49m\u001b[43m \u001b[49m\u001b[43mkwargs\u001b[49m\u001b[43m)\u001b[49m\u001b[38;5;241;43m.\u001b[39;49m\u001b[43mapply\u001b[49m\u001b[43m(\u001b[49m\u001b[43m)\u001b[49m\n",
      "File \u001b[0;32m/Applications/anaconda3/lib/python3.9/site-packages/pandas/core/apply.py:1082\u001b[0m, in \u001b[0;36mSeriesApply.apply\u001b[0;34m(self)\u001b[0m\n\u001b[1;32m   1078\u001b[0m \u001b[38;5;28;01mif\u001b[39;00m \u001b[38;5;28misinstance\u001b[39m(\u001b[38;5;28mself\u001b[39m\u001b[38;5;241m.\u001b[39mf, \u001b[38;5;28mstr\u001b[39m):\n\u001b[1;32m   1079\u001b[0m     \u001b[38;5;66;03m# if we are a string, try to dispatch\u001b[39;00m\n\u001b[1;32m   1080\u001b[0m     \u001b[38;5;28;01mreturn\u001b[39;00m \u001b[38;5;28mself\u001b[39m\u001b[38;5;241m.\u001b[39mapply_str()\n\u001b[0;32m-> 1082\u001b[0m \u001b[38;5;28;01mreturn\u001b[39;00m \u001b[38;5;28;43mself\u001b[39;49m\u001b[38;5;241;43m.\u001b[39;49m\u001b[43mapply_standard\u001b[49m\u001b[43m(\u001b[49m\u001b[43m)\u001b[49m\n",
      "File \u001b[0;32m/Applications/anaconda3/lib/python3.9/site-packages/pandas/core/apply.py:1137\u001b[0m, in \u001b[0;36mSeriesApply.apply_standard\u001b[0;34m(self)\u001b[0m\n\u001b[1;32m   1131\u001b[0m         values \u001b[38;5;241m=\u001b[39m obj\u001b[38;5;241m.\u001b[39mastype(\u001b[38;5;28mobject\u001b[39m)\u001b[38;5;241m.\u001b[39m_values\n\u001b[1;32m   1132\u001b[0m         \u001b[38;5;66;03m# error: Argument 2 to \"map_infer\" has incompatible type\u001b[39;00m\n\u001b[1;32m   1133\u001b[0m         \u001b[38;5;66;03m# \"Union[Callable[..., Any], str, List[Union[Callable[..., Any], str]],\u001b[39;00m\n\u001b[1;32m   1134\u001b[0m         \u001b[38;5;66;03m# Dict[Hashable, Union[Union[Callable[..., Any], str],\u001b[39;00m\n\u001b[1;32m   1135\u001b[0m         \u001b[38;5;66;03m# List[Union[Callable[..., Any], str]]]]]\"; expected\u001b[39;00m\n\u001b[1;32m   1136\u001b[0m         \u001b[38;5;66;03m# \"Callable[[Any], Any]\"\u001b[39;00m\n\u001b[0;32m-> 1137\u001b[0m         mapped \u001b[38;5;241m=\u001b[39m \u001b[43mlib\u001b[49m\u001b[38;5;241;43m.\u001b[39;49m\u001b[43mmap_infer\u001b[49m\u001b[43m(\u001b[49m\n\u001b[1;32m   1138\u001b[0m \u001b[43m            \u001b[49m\u001b[43mvalues\u001b[49m\u001b[43m,\u001b[49m\n\u001b[1;32m   1139\u001b[0m \u001b[43m            \u001b[49m\u001b[43mf\u001b[49m\u001b[43m,\u001b[49m\u001b[43m  \u001b[49m\u001b[38;5;66;43;03m# type: ignore[arg-type]\u001b[39;49;00m\n\u001b[1;32m   1140\u001b[0m \u001b[43m            \u001b[49m\u001b[43mconvert\u001b[49m\u001b[38;5;241;43m=\u001b[39;49m\u001b[38;5;28;43mself\u001b[39;49m\u001b[38;5;241;43m.\u001b[39;49m\u001b[43mconvert_dtype\u001b[49m\u001b[43m,\u001b[49m\n\u001b[1;32m   1141\u001b[0m \u001b[43m        \u001b[49m\u001b[43m)\u001b[49m\n\u001b[1;32m   1143\u001b[0m \u001b[38;5;28;01mif\u001b[39;00m \u001b[38;5;28mlen\u001b[39m(mapped) \u001b[38;5;129;01mand\u001b[39;00m \u001b[38;5;28misinstance\u001b[39m(mapped[\u001b[38;5;241m0\u001b[39m], ABCSeries):\n\u001b[1;32m   1144\u001b[0m     \u001b[38;5;66;03m# GH#43986 Need to do list(mapped) in order to get treated as nested\u001b[39;00m\n\u001b[1;32m   1145\u001b[0m     \u001b[38;5;66;03m#  See also GH#25959 regarding EA support\u001b[39;00m\n\u001b[1;32m   1146\u001b[0m     \u001b[38;5;28;01mreturn\u001b[39;00m obj\u001b[38;5;241m.\u001b[39m_constructor_expanddim(\u001b[38;5;28mlist\u001b[39m(mapped), index\u001b[38;5;241m=\u001b[39mobj\u001b[38;5;241m.\u001b[39mindex)\n",
      "File \u001b[0;32m/Applications/anaconda3/lib/python3.9/site-packages/pandas/_libs/lib.pyx:2870\u001b[0m, in \u001b[0;36mpandas._libs.lib.map_infer\u001b[0;34m()\u001b[0m\n",
      "Input \u001b[0;32mIn [18]\u001b[0m, in \u001b[0;36macc_reviews\u001b[0;34m(data)\u001b[0m\n\u001b[1;32m      6\u001b[0m \u001b[38;5;28;01mfor\u001b[39;00m word \u001b[38;5;129;01min\u001b[39;00m li:\n\u001b[1;32m      7\u001b[0m     df \u001b[38;5;241m=\u001b[39m google_reviews[google_reviews[\u001b[38;5;124m\"\u001b[39m\u001b[38;5;124mReview\u001b[39m\u001b[38;5;124m\"\u001b[39m]\u001b[38;5;241m.\u001b[39mstr\u001b[38;5;241m.\u001b[39mcontains(word)]\n\u001b[0;32m----> 8\u001b[0m     word_index \u001b[38;5;241m=\u001b[39m data[\u001b[43mdata\u001b[49m\u001b[43m[\u001b[49m\u001b[38;5;124;43m\"\u001b[39;49m\u001b[38;5;124;43mword\u001b[39;49m\u001b[38;5;124;43m\"\u001b[39;49m\u001b[43m]\u001b[49m\u001b[38;5;241m==\u001b[39mword]\u001b[38;5;241m.\u001b[39mindex\u001b[38;5;241m.\u001b[39mvalues\n\u001b[1;32m      9\u001b[0m     i \u001b[38;5;241m=\u001b[39m df\u001b[38;5;241m.\u001b[39mindex\u001b[38;5;241m.\u001b[39mvalues\n\u001b[1;32m     10\u001b[0m     data\u001b[38;5;241m.\u001b[39mloc[\u001b[38;5;28mint\u001b[39m(word_index), \u001b[38;5;241m4\u001b[39m] \u001b[38;5;241m=\u001b[39m i\n",
      "\u001b[0;31mTypeError\u001b[0m: 'float' object is not subscriptable"
     ]
    }
   ],
   "source": [
    "word_counts[\"index reviews\"] = word_counts[\"index reviews\"].apply(acc_reviews)"
   ]
  },
  {
   "cell_type": "code",
   "execution_count": null,
   "id": "a83de24a",
   "metadata": {},
   "outputs": [
    {
     "name": "stdout",
     "output_type": "stream",
     "text": [
      "ERROR! Session/line number was not unique in database. History logging moved to new session 284\n"
     ]
    }
   ],
   "source": [
    "%%time\n",
    "acc_reviews(word_counts)"
   ]
  },
  {
   "cell_type": "code",
   "execution_count": null,
   "id": "5a22790f",
   "metadata": {},
   "outputs": [],
   "source": []
  }
 ],
 "metadata": {
  "kernelspec": {
   "display_name": "Python 3 (ipykernel)",
   "language": "python",
   "name": "python3"
  },
  "language_info": {
   "codemirror_mode": {
    "name": "ipython",
    "version": 3
   },
   "file_extension": ".py",
   "mimetype": "text/x-python",
   "name": "python",
   "nbconvert_exporter": "python",
   "pygments_lexer": "ipython3",
   "version": "3.9.7"
  }
 },
 "nbformat": 4,
 "nbformat_minor": 5
}
